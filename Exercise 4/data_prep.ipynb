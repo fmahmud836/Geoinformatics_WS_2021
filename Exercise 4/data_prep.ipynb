{
 "cells": [
  {
   "cell_type": "code",
   "execution_count": 1,
   "id": "6c106de6-965c-465a-a085-61e535d4246f",
   "metadata": {},
   "outputs": [],
   "source": [
    "server = \"opendata.dwd.de\"\n",
    "user   = \"anonymous\"\n",
    "passwd = \"\""
   ]
  },
  {
   "cell_type": "code",
   "execution_count": 2,
   "id": "0c26cf39-1d47-4d21-9d7c-b0c3c9d02f56",
   "metadata": {},
   "outputs": [],
   "source": [
    "# The topic of interest.\n",
    "topic_dir = \"/hourly/precipitation/historical/\"\n",
    "#topic_dir = \"/annual/kl/historical/\"\n",
    "\n",
    "# This is the search pattern common to ALL station description file names \n",
    "station_desc_pattern = \"_Beschreibung_Stationen.txt\"\n",
    "\n",
    "# Below this directory tree node all climate data are stored.\n",
    "ftp_climate_data_dir = \"/climate_environment/CDC/observations_germany/climate/\"\n",
    "ftp_dir =  ftp_climate_data_dir + topic_dir"
   ]
  },
  {
   "cell_type": "code",
   "execution_count": 3,
   "id": "e74f518f-265d-4331-955a-410c03cf60b0",
   "metadata": {},
   "outputs": [],
   "source": [
    "local_ftp_dir         = \"../data/original/DWD/\"      # Local directory to store local ftp data copies, the local data source or input data. \n",
    "local_ftp_station_dir = local_ftp_dir + topic_dir # Local directory where local station info is located\n",
    "local_ftp_ts_dir      = local_ftp_dir + topic_dir # Local directory where time series downloaded from ftp are located\n",
    "\n",
    "local_generated_dir   = \"../data/generated/DWD/\" # The generated of derived data in contrast to local_ftp_dir\n",
    "local_station_dir     = local_generated_dir + topic_dir # Derived station data, i.e. the CSV file\n",
    "local_ts_merged_dir   = local_generated_dir + topic_dir # Parallelly merged time series, wide data frame with one TS per column\n",
    "local_ts_appended_dir = local_generated_dir + topic_dir # Serially appended time series, long data frame for QGIS TimeManager Plugin\n"
   ]
  },
  {
   "cell_type": "code",
   "execution_count": 4,
   "id": "58f60b13-b533-4be8-ba6f-53a695580f4b",
   "metadata": {},
   "outputs": [
    {
     "name": "stdout",
     "output_type": "stream",
     "text": [
      "../data/original/DWD/\n",
      "../data/original/DWD//hourly/precipitation/historical/\n",
      "../data/original/DWD//hourly/precipitation/historical/\n",
      "\n",
      "../data/generated/DWD/\n",
      "../data/generated/DWD//hourly/precipitation/historical/\n",
      "../data/generated/DWD//hourly/precipitation/historical/\n",
      "../data/generated/DWD//hourly/precipitation/historical/\n"
     ]
    }
   ],
   "source": [
    "print(local_ftp_dir)\n",
    "print(local_ftp_station_dir)\n",
    "print(local_ftp_ts_dir)\n",
    "print()\n",
    "print(local_generated_dir)\n",
    "print(local_station_dir)\n",
    "print(local_ts_merged_dir)\n",
    "print(local_ts_appended_dir)"
   ]
  },
  {
   "cell_type": "code",
   "execution_count": 5,
   "id": "5e6e3e9a-e90c-43b6-ab04-bdbb80ac9d5e",
   "metadata": {},
   "outputs": [],
   "source": [
    "import os\n",
    "os.makedirs(local_ftp_dir,exist_ok = True) # it does not complain if the dir already exists.\n",
    "os.makedirs(local_ftp_station_dir,exist_ok = True)\n",
    "os.makedirs(local_ftp_ts_dir,exist_ok = True)\n",
    "\n",
    "os.makedirs(local_generated_dir,exist_ok = True)\n",
    "os.makedirs(local_station_dir,exist_ok = True)\n",
    "os.makedirs(local_ts_merged_dir,exist_ok = True)\n",
    "os.makedirs(local_ts_appended_dir,exist_ok = True)"
   ]
  },
  {
   "cell_type": "code",
   "execution_count": 6,
   "id": "f64f2d8d-6c97-4ae5-8c73-2acc95f4f2ee",
   "metadata": {},
   "outputs": [
    {
     "name": "stdout",
     "output_type": "stream",
     "text": [
      "230 Login successful.\n"
     ]
    }
   ],
   "source": [
    "import ftplib\n",
    "ftp = ftplib.FTP(server)\n",
    "res = ftp.login(user=user, passwd = passwd)\n",
    "print(res)"
   ]
  },
  {
   "cell_type": "code",
   "execution_count": 7,
   "id": "476ae288-bedf-495a-9bed-0309ba312217",
   "metadata": {},
   "outputs": [],
   "source": [
    "#Importing the required packages\n",
    "import os\n",
    "import ftplib\n",
    "import pandas as pd\n",
    "import codecs\n",
    "import seaborn as sns\n",
    "from datetime import datetime\n",
    "from zipfile import ZipFile\n",
    "from matplotlib import *\n",
    "import matplotlib.pyplot as plt\n",
    "import numpy as np\n",
    "import scipy.stats as stats\n",
    "#from adjustText import adjust_text\n",
    "from sklearn.linear_model import LinearRegression\n",
    "import matplotlib.colors as mcolors"
   ]
  },
  {
   "cell_type": "code",
   "execution_count": 8,
   "id": "56ec6131-4a9c-4205-8977-60f4a7150089",
   "metadata": {},
   "outputs": [
    {
     "name": "stdout",
     "output_type": "stream",
     "text": [
      "Requirement already satisfied: seaborn in /opt/anaconda3/envs/geo/lib/python3.10/site-packages (0.11.2)\n",
      "Requirement already satisfied: matplotlib>=2.2 in /opt/anaconda3/envs/geo/lib/python3.10/site-packages (from seaborn) (3.5.1)\n",
      "Requirement already satisfied: pandas>=0.23 in /opt/anaconda3/envs/geo/lib/python3.10/site-packages (from seaborn) (1.4.0)\n",
      "Requirement already satisfied: scipy>=1.0 in /opt/anaconda3/envs/geo/lib/python3.10/site-packages (from seaborn) (1.7.3)\n",
      "Requirement already satisfied: numpy>=1.15 in /opt/anaconda3/envs/geo/lib/python3.10/site-packages (from seaborn) (1.22.1)\n",
      "Requirement already satisfied: pillow>=6.2.0 in /opt/anaconda3/envs/geo/lib/python3.10/site-packages (from matplotlib>=2.2->seaborn) (8.4.0)\n",
      "Requirement already satisfied: fonttools>=4.22.0 in /opt/anaconda3/envs/geo/lib/python3.10/site-packages (from matplotlib>=2.2->seaborn) (4.29.0)\n",
      "Requirement already satisfied: python-dateutil>=2.7 in /opt/anaconda3/envs/geo/lib/python3.10/site-packages (from matplotlib>=2.2->seaborn) (2.8.2)\n",
      "Requirement already satisfied: cycler>=0.10 in /opt/anaconda3/envs/geo/lib/python3.10/site-packages (from matplotlib>=2.2->seaborn) (0.11.0)\n",
      "Requirement already satisfied: pyparsing>=2.2.1 in /opt/anaconda3/envs/geo/lib/python3.10/site-packages (from matplotlib>=2.2->seaborn) (3.0.7)\n",
      "Requirement already satisfied: kiwisolver>=1.0.1 in /opt/anaconda3/envs/geo/lib/python3.10/site-packages (from matplotlib>=2.2->seaborn) (1.3.2)\n",
      "Requirement already satisfied: packaging>=20.0 in /opt/anaconda3/envs/geo/lib/python3.10/site-packages (from matplotlib>=2.2->seaborn) (21.3)\n",
      "Requirement already satisfied: pytz>=2020.1 in /opt/anaconda3/envs/geo/lib/python3.10/site-packages (from pandas>=0.23->seaborn) (2021.3)\n",
      "Requirement already satisfied: six>=1.5 in /opt/anaconda3/envs/geo/lib/python3.10/site-packages (from python-dateutil>=2.7->matplotlib>=2.2->seaborn) (1.16.0)\n"
     ]
    }
   ],
   "source": [
    "!pip install seaborn"
   ]
  },
  {
   "cell_type": "code",
   "execution_count": 9,
   "id": "7e657937-3857-41fb-908b-8af08337a555",
   "metadata": {},
   "outputs": [
    {
     "data": {
      "text/html": [
       "<div>\n",
       "<style scoped>\n",
       "    .dataframe tbody tr th:only-of-type {\n",
       "        vertical-align: middle;\n",
       "    }\n",
       "\n",
       "    .dataframe tbody tr th {\n",
       "        vertical-align: top;\n",
       "    }\n",
       "\n",
       "    .dataframe thead th {\n",
       "        text-align: right;\n",
       "    }\n",
       "</style>\n",
       "<table border=\"1\" class=\"dataframe\">\n",
       "  <thead>\n",
       "    <tr style=\"text-align: right;\">\n",
       "      <th></th>\n",
       "      <th>station_id</th>\n",
       "      <th>name</th>\n",
       "      <th>ext</th>\n",
       "      <th>size</th>\n",
       "      <th>type</th>\n",
       "    </tr>\n",
       "  </thead>\n",
       "  <tbody>\n",
       "    <tr>\n",
       "      <th>0</th>\n",
       "      <td>-1</td>\n",
       "      <td>BESCHREIBUNG_obsgermany_climate_hourly_precipi...</td>\n",
       "      <td>.pdf</td>\n",
       "      <td>166317</td>\n",
       "      <td>-</td>\n",
       "    </tr>\n",
       "    <tr>\n",
       "      <th>1</th>\n",
       "      <td>-1</td>\n",
       "      <td>DESCRIPTION_obsgermany_climate_hourly_precipit...</td>\n",
       "      <td>.pdf</td>\n",
       "      <td>161348</td>\n",
       "      <td>-</td>\n",
       "    </tr>\n",
       "    <tr>\n",
       "      <th>2</th>\n",
       "      <td>-1</td>\n",
       "      <td>RR_Stundenwerte_Beschreibung_Stationen.txt</td>\n",
       "      <td>.txt</td>\n",
       "      <td>295939</td>\n",
       "      <td>-</td>\n",
       "    </tr>\n",
       "    <tr>\n",
       "      <th>3</th>\n",
       "      <td>3</td>\n",
       "      <td>stundenwerte_RR_00003_19950901_20110401_hist.zip</td>\n",
       "      <td>.zip</td>\n",
       "      <td>419296</td>\n",
       "      <td>-</td>\n",
       "    </tr>\n",
       "    <tr>\n",
       "      <th>4</th>\n",
       "      <td>20</td>\n",
       "      <td>stundenwerte_RR_00020_20040814_20201231_hist.zip</td>\n",
       "      <td>.zip</td>\n",
       "      <td>432124</td>\n",
       "      <td>-</td>\n",
       "    </tr>\n",
       "    <tr>\n",
       "      <th>5</th>\n",
       "      <td>44</td>\n",
       "      <td>stundenwerte_RR_00044_20070401_20201231_hist.zip</td>\n",
       "      <td>.zip</td>\n",
       "      <td>354983</td>\n",
       "      <td>-</td>\n",
       "    </tr>\n",
       "    <tr>\n",
       "      <th>6</th>\n",
       "      <td>53</td>\n",
       "      <td>stundenwerte_RR_00053_20051001_20201231_hist.zip</td>\n",
       "      <td>.zip</td>\n",
       "      <td>385830</td>\n",
       "      <td>-</td>\n",
       "    </tr>\n",
       "    <tr>\n",
       "      <th>7</th>\n",
       "      <td>71</td>\n",
       "      <td>stundenwerte_RR_00071_20041022_20200101_hist.zip</td>\n",
       "      <td>.zip</td>\n",
       "      <td>402875</td>\n",
       "      <td>-</td>\n",
       "    </tr>\n",
       "    <tr>\n",
       "      <th>8</th>\n",
       "      <td>73</td>\n",
       "      <td>stundenwerte_RR_00073_20070401_20201231_hist.zip</td>\n",
       "      <td>.zip</td>\n",
       "      <td>357529</td>\n",
       "      <td>-</td>\n",
       "    </tr>\n",
       "    <tr>\n",
       "      <th>9</th>\n",
       "      <td>78</td>\n",
       "      <td>stundenwerte_RR_00078_20041101_20201231_hist.zip</td>\n",
       "      <td>.zip</td>\n",
       "      <td>421522</td>\n",
       "      <td>-</td>\n",
       "    </tr>\n",
       "  </tbody>\n",
       "</table>\n",
       "</div>"
      ],
      "text/plain": [
       "   station_id                                               name   ext  \\\n",
       "0          -1  BESCHREIBUNG_obsgermany_climate_hourly_precipi...  .pdf   \n",
       "1          -1  DESCRIPTION_obsgermany_climate_hourly_precipit...  .pdf   \n",
       "2          -1         RR_Stundenwerte_Beschreibung_Stationen.txt  .txt   \n",
       "3           3   stundenwerte_RR_00003_19950901_20110401_hist.zip  .zip   \n",
       "4          20   stundenwerte_RR_00020_20040814_20201231_hist.zip  .zip   \n",
       "5          44   stundenwerte_RR_00044_20070401_20201231_hist.zip  .zip   \n",
       "6          53   stundenwerte_RR_00053_20051001_20201231_hist.zip  .zip   \n",
       "7          71   stundenwerte_RR_00071_20041022_20200101_hist.zip  .zip   \n",
       "8          73   stundenwerte_RR_00073_20070401_20201231_hist.zip  .zip   \n",
       "9          78   stundenwerte_RR_00078_20041101_20201231_hist.zip  .zip   \n",
       "\n",
       "     size type  \n",
       "0  166317    -  \n",
       "1  161348    -  \n",
       "2  295939    -  \n",
       "3  419296    -  \n",
       "4  432124    -  \n",
       "5  354983    -  \n",
       "6  385830    -  \n",
       "7  402875    -  \n",
       "8  357529    -  \n",
       "9  421522    -  "
      ]
     },
     "execution_count": 9,
     "metadata": {},
     "output_type": "execute_result"
    }
   ],
   "source": [
    "#generate data frame from ftp directories/files\n",
    "def gen_df_from_ftp_dir_listing(ftp, ftpdir):\n",
    "    lines = []\n",
    "    flist = []\n",
    "    try:\n",
    "        # issue the command LIST in the FTP connection \n",
    "        res = ftp.retrlines(\"LIST \"+ftpdir, lines.append)\n",
    "    except:\n",
    "        print(\"Error: ftp.retrlines() failed. ftp timeout? Reconnect!\")\n",
    "        return\n",
    "        \n",
    "    if len(lines) == 0:\n",
    "        print(\"Error: ftp dir is empty\")\n",
    "        return\n",
    "    \n",
    "    for line in lines:\n",
    "#        print(line)\n",
    "        [ftype, fsize, fname] = [line[0:1], int(line[31:42]), line[56:]]\n",
    "        \n",
    "        fext = os.path.splitext(fname)[-1]\n",
    "        \n",
    "        if fext == \".zip\":\n",
    "            station_id = int(fname.split(\"_\")[2])\n",
    "        else:\n",
    "            station_id = -1 \n",
    "        \n",
    "        flist.append([station_id, fname, fext, fsize, ftype])\n",
    "        \n",
    "        \n",
    "\n",
    "    df_ftpdir = pd.DataFrame(flist,columns=[\"station_id\", \"name\", \"ext\", \"size\", \"type\"])\n",
    "    return(df_ftpdir)\n",
    "\n",
    "df_ftpdir = gen_df_from_ftp_dir_listing(ftp, ftp_dir)\n",
    "df_ftpdir.head(10)"
   ]
  },
  {
   "cell_type": "code",
   "execution_count": 10,
   "id": "2999ee8e-6509-48a0-a245-e9f845a9c681",
   "metadata": {},
   "outputs": [
    {
     "data": {
      "text/html": [
       "<div>\n",
       "<style scoped>\n",
       "    .dataframe tbody tr th:only-of-type {\n",
       "        vertical-align: middle;\n",
       "    }\n",
       "\n",
       "    .dataframe tbody tr th {\n",
       "        vertical-align: top;\n",
       "    }\n",
       "\n",
       "    .dataframe thead th {\n",
       "        text-align: right;\n",
       "    }\n",
       "</style>\n",
       "<table border=\"1\" class=\"dataframe\">\n",
       "  <thead>\n",
       "    <tr style=\"text-align: right;\">\n",
       "      <th></th>\n",
       "      <th>name</th>\n",
       "      <th>ext</th>\n",
       "      <th>size</th>\n",
       "      <th>type</th>\n",
       "    </tr>\n",
       "    <tr>\n",
       "      <th>station_id</th>\n",
       "      <th></th>\n",
       "      <th></th>\n",
       "      <th></th>\n",
       "      <th></th>\n",
       "    </tr>\n",
       "  </thead>\n",
       "  <tbody>\n",
       "    <tr>\n",
       "      <th>3</th>\n",
       "      <td>stundenwerte_RR_00003_19950901_20110401_hist.zip</td>\n",
       "      <td>.zip</td>\n",
       "      <td>419296</td>\n",
       "      <td>-</td>\n",
       "    </tr>\n",
       "    <tr>\n",
       "      <th>20</th>\n",
       "      <td>stundenwerte_RR_00020_20040814_20201231_hist.zip</td>\n",
       "      <td>.zip</td>\n",
       "      <td>432124</td>\n",
       "      <td>-</td>\n",
       "    </tr>\n",
       "    <tr>\n",
       "      <th>44</th>\n",
       "      <td>stundenwerte_RR_00044_20070401_20201231_hist.zip</td>\n",
       "      <td>.zip</td>\n",
       "      <td>354983</td>\n",
       "      <td>-</td>\n",
       "    </tr>\n",
       "    <tr>\n",
       "      <th>53</th>\n",
       "      <td>stundenwerte_RR_00053_20051001_20201231_hist.zip</td>\n",
       "      <td>.zip</td>\n",
       "      <td>385830</td>\n",
       "      <td>-</td>\n",
       "    </tr>\n",
       "    <tr>\n",
       "      <th>71</th>\n",
       "      <td>stundenwerte_RR_00071_20041022_20200101_hist.zip</td>\n",
       "      <td>.zip</td>\n",
       "      <td>402875</td>\n",
       "      <td>-</td>\n",
       "    </tr>\n",
       "    <tr>\n",
       "      <th>73</th>\n",
       "      <td>stundenwerte_RR_00073_20070401_20201231_hist.zip</td>\n",
       "      <td>.zip</td>\n",
       "      <td>357529</td>\n",
       "      <td>-</td>\n",
       "    </tr>\n",
       "    <tr>\n",
       "      <th>78</th>\n",
       "      <td>stundenwerte_RR_00078_20041101_20201231_hist.zip</td>\n",
       "      <td>.zip</td>\n",
       "      <td>421522</td>\n",
       "      <td>-</td>\n",
       "    </tr>\n",
       "    <tr>\n",
       "      <th>87</th>\n",
       "      <td>stundenwerte_RR_00087_20050201_20201231_hist.zip</td>\n",
       "      <td>.zip</td>\n",
       "      <td>403610</td>\n",
       "      <td>-</td>\n",
       "    </tr>\n",
       "    <tr>\n",
       "      <th>91</th>\n",
       "      <td>stundenwerte_RR_00091_20040901_20201231_hist.zip</td>\n",
       "      <td>.zip</td>\n",
       "      <td>419182</td>\n",
       "      <td>-</td>\n",
       "    </tr>\n",
       "    <tr>\n",
       "      <th>96</th>\n",
       "      <td>stundenwerte_RR_00096_20190409_20201231_hist.zip</td>\n",
       "      <td>.zip</td>\n",
       "      <td>53260</td>\n",
       "      <td>-</td>\n",
       "    </tr>\n",
       "  </tbody>\n",
       "</table>\n",
       "</div>"
      ],
      "text/plain": [
       "                                                        name   ext    size  \\\n",
       "station_id                                                                   \n",
       "3           stundenwerte_RR_00003_19950901_20110401_hist.zip  .zip  419296   \n",
       "20          stundenwerte_RR_00020_20040814_20201231_hist.zip  .zip  432124   \n",
       "44          stundenwerte_RR_00044_20070401_20201231_hist.zip  .zip  354983   \n",
       "53          stundenwerte_RR_00053_20051001_20201231_hist.zip  .zip  385830   \n",
       "71          stundenwerte_RR_00071_20041022_20200101_hist.zip  .zip  402875   \n",
       "73          stundenwerte_RR_00073_20070401_20201231_hist.zip  .zip  357529   \n",
       "78          stundenwerte_RR_00078_20041101_20201231_hist.zip  .zip  421522   \n",
       "87          stundenwerte_RR_00087_20050201_20201231_hist.zip  .zip  403610   \n",
       "91          stundenwerte_RR_00091_20040901_20201231_hist.zip  .zip  419182   \n",
       "96          stundenwerte_RR_00096_20190409_20201231_hist.zip  .zip   53260   \n",
       "\n",
       "           type  \n",
       "station_id       \n",
       "3             -  \n",
       "20            -  \n",
       "44            -  \n",
       "53            -  \n",
       "71            -  \n",
       "73            -  \n",
       "78            -  \n",
       "87            -  \n",
       "91            -  \n",
       "96            -  "
      ]
     },
     "execution_count": 10,
     "metadata": {},
     "output_type": "execute_result"
    }
   ],
   "source": [
    "#get the list of station ids and corresponding zip file\n",
    "df_zips = df_ftpdir[df_ftpdir[\"ext\"]==\".zip\"]\n",
    "df_zips.set_index(\"station_id\", inplace = True)\n",
    "df_zips.head(10)"
   ]
  },
  {
   "cell_type": "code",
   "execution_count": 11,
   "id": "f525c6c4-2626-467e-b9e5-548fedbdb514",
   "metadata": {},
   "outputs": [
    {
     "name": "stdout",
     "output_type": "stream",
     "text": [
      "grab file: RR_Stundenwerte_Beschreibung_Stationen.txt\n",
      "from ftp dir: /climate_environment/CDC/observations_germany/climate//hourly/precipitation/historical/\n"
     ]
    }
   ],
   "source": [
    "#read the files in ftp\n",
    "def grabFile(ftpfullname,localfullname):\n",
    "    try:\n",
    "        ret = ftp.cwd(\".\") # A dummy action to check the connection and to provoke an exception if necessary.\n",
    "        localfile = open(localfullname, 'wb')\n",
    "        ftp.retrbinary('RETR ' + ftpfullname, localfile.write, 1024)\n",
    "        localfile.close()\n",
    "    \n",
    "    except ftplib.error_perm:\n",
    "        print(\"FTP ERROR. Operation not permitted. File not found?\")\n",
    "\n",
    "    except ftplib.error_temp:\n",
    "        print(\"FTP ERROR. Timeout.\")\n",
    "\n",
    "    except ConnectionAbortedError:\n",
    "        print(\"FTP ERROR. Connection aborted.\")\n",
    "        \n",
    "station_fname = df_ftpdir[df_ftpdir['name'].str.contains(station_desc_pattern)][\"name\"].values[0]\n",
    "print(\"grab file: \" + station_fname + \"\\nfrom ftp dir: \" + ftp_dir)\n",
    "grabFile(ftp_dir + station_fname, local_station_dir + station_fname)"
   ]
  },
  {
   "cell_type": "code",
   "execution_count": 12,
   "id": "3f3a6b57-de5c-4539-9287-b763543572b5",
   "metadata": {},
   "outputs": [
    {
     "data": {
      "text/html": [
       "<div>\n",
       "<style scoped>\n",
       "    .dataframe tbody tr th:only-of-type {\n",
       "        vertical-align: middle;\n",
       "    }\n",
       "\n",
       "    .dataframe tbody tr th {\n",
       "        vertical-align: top;\n",
       "    }\n",
       "\n",
       "    .dataframe thead th {\n",
       "        text-align: right;\n",
       "    }\n",
       "</style>\n",
       "<table border=\"1\" class=\"dataframe\">\n",
       "  <thead>\n",
       "    <tr style=\"text-align: right;\">\n",
       "      <th></th>\n",
       "      <th>date_from</th>\n",
       "      <th>date_to</th>\n",
       "      <th>altitude</th>\n",
       "      <th>latitude</th>\n",
       "      <th>longitude</th>\n",
       "      <th>name</th>\n",
       "      <th>state</th>\n",
       "    </tr>\n",
       "    <tr>\n",
       "      <th>station_id</th>\n",
       "      <th></th>\n",
       "      <th></th>\n",
       "      <th></th>\n",
       "      <th></th>\n",
       "      <th></th>\n",
       "      <th></th>\n",
       "      <th></th>\n",
       "    </tr>\n",
       "  </thead>\n",
       "  <tbody>\n",
       "    <tr>\n",
       "      <th>3</th>\n",
       "      <td>1995-09-01</td>\n",
       "      <td>2011-04-01</td>\n",
       "      <td>202</td>\n",
       "      <td>50.7827</td>\n",
       "      <td>6.0941</td>\n",
       "      <td>Aachen</td>\n",
       "      <td>Nordrhein-Westfalen</td>\n",
       "    </tr>\n",
       "    <tr>\n",
       "      <th>20</th>\n",
       "      <td>2004-08-14</td>\n",
       "      <td>2022-03-01</td>\n",
       "      <td>432</td>\n",
       "      <td>48.9219</td>\n",
       "      <td>9.9129</td>\n",
       "      <td>Abtsgmünd-Untergröningen</td>\n",
       "      <td>Baden-Württemberg</td>\n",
       "    </tr>\n",
       "    <tr>\n",
       "      <th>29</th>\n",
       "      <td>2006-01-10</td>\n",
       "      <td>2022-03-01</td>\n",
       "      <td>260</td>\n",
       "      <td>49.7175</td>\n",
       "      <td>10.9101</td>\n",
       "      <td>Adelsdorf (Kläranlage)</td>\n",
       "      <td>Bayern</td>\n",
       "    </tr>\n",
       "    <tr>\n",
       "      <th>44</th>\n",
       "      <td>2007-04-01</td>\n",
       "      <td>2022-03-01</td>\n",
       "      <td>44</td>\n",
       "      <td>52.9336</td>\n",
       "      <td>8.2370</td>\n",
       "      <td>Großenkneten</td>\n",
       "      <td>Niedersachsen</td>\n",
       "    </tr>\n",
       "    <tr>\n",
       "      <th>46</th>\n",
       "      <td>2006-01-03</td>\n",
       "      <td>2022-03-01</td>\n",
       "      <td>325</td>\n",
       "      <td>48.9450</td>\n",
       "      <td>12.4639</td>\n",
       "      <td>Aholfing</td>\n",
       "      <td>Bayern</td>\n",
       "    </tr>\n",
       "  </tbody>\n",
       "</table>\n",
       "</div>"
      ],
      "text/plain": [
       "            date_from    date_to  altitude  latitude  longitude  \\\n",
       "station_id                                                        \n",
       "3          1995-09-01 2011-04-01       202   50.7827     6.0941   \n",
       "20         2004-08-14 2022-03-01       432   48.9219     9.9129   \n",
       "29         2006-01-10 2022-03-01       260   49.7175    10.9101   \n",
       "44         2007-04-01 2022-03-01        44   52.9336     8.2370   \n",
       "46         2006-01-03 2022-03-01       325   48.9450    12.4639   \n",
       "\n",
       "                                name                state  \n",
       "station_id                                                 \n",
       "3                             Aachen  Nordrhein-Westfalen  \n",
       "20          Abtsgmünd-Untergröningen    Baden-Württemberg  \n",
       "29            Adelsdorf (Kläranlage)               Bayern  \n",
       "44                      Großenkneten        Niedersachsen  \n",
       "46                          Aholfing               Bayern  "
      ]
     },
     "execution_count": 12,
     "metadata": {},
     "output_type": "execute_result"
    }
   ],
   "source": [
    "#convert station description text file to csv file and change the column names.\n",
    "def station_desc_txt_to_csv(txtfile, csvfile):\n",
    "    file = codecs.open(txtfile,\"r\",\"utf-8\")\n",
    "    r = file.readline()\n",
    "    file.close()\n",
    "    colnames_de = r.split()\n",
    "    colnames_de\n",
    "    \n",
    "    # German-English dictionary\n",
    "    translate = \\\n",
    "    {'Stations_id':'station_id',\n",
    "     'von_datum':'date_from',\n",
    "     'bis_datum':'date_to',\n",
    "     'Stationshoehe':'altitude',\n",
    "     'geoBreite': 'latitude',\n",
    "     'geoLaenge': 'longitude',\n",
    "     'Stationsname':'name',\n",
    "     'Bundesland':'state'}\n",
    "    \n",
    "    colnames_en = [translate[h] for h in colnames_de]\n",
    "    txtfile.encode('unicode_escape').strip()\n",
    "    # Skip the first two rows and set the column names.\n",
    "    df = pd.read_fwf(txtfile,skiprows=2,names=colnames_en, parse_dates=[\"date_from\",\"date_to\"],index_col = 0,encoding='unicode_escape')\n",
    "    \n",
    "    # write CSV file with field separator semicolon\n",
    "    df.to_csv(csvfile, sep = \";\")\n",
    "    return(df)\n",
    "\n",
    "basename = os.path.splitext(station_fname)[0]\n",
    "df_stations = station_desc_txt_to_csv(local_station_dir + station_fname, local_station_dir + basename + \".csv\")\n",
    "df_stations.head()"
   ]
  },
  {
   "cell_type": "code",
   "execution_count": 13,
   "id": "d02a08d5-7c89-4164-a2a4-fcea6bab2082",
   "metadata": {},
   "outputs": [
    {
     "data": {
      "text/html": [
       "<div>\n",
       "<style scoped>\n",
       "    .dataframe tbody tr th:only-of-type {\n",
       "        vertical-align: middle;\n",
       "    }\n",
       "\n",
       "    .dataframe tbody tr th {\n",
       "        vertical-align: top;\n",
       "    }\n",
       "\n",
       "    .dataframe thead th {\n",
       "        text-align: right;\n",
       "    }\n",
       "</style>\n",
       "<table border=\"1\" class=\"dataframe\">\n",
       "  <thead>\n",
       "    <tr style=\"text-align: right;\">\n",
       "      <th></th>\n",
       "      <th>date_from</th>\n",
       "      <th>date_to</th>\n",
       "      <th>altitude</th>\n",
       "      <th>latitude</th>\n",
       "      <th>longitude</th>\n",
       "      <th>name</th>\n",
       "      <th>state</th>\n",
       "    </tr>\n",
       "    <tr>\n",
       "      <th>station_id</th>\n",
       "      <th></th>\n",
       "      <th></th>\n",
       "      <th></th>\n",
       "      <th></th>\n",
       "      <th></th>\n",
       "      <th></th>\n",
       "      <th></th>\n",
       "    </tr>\n",
       "  </thead>\n",
       "  <tbody>\n",
       "    <tr>\n",
       "      <th>3</th>\n",
       "      <td>1995-09-01</td>\n",
       "      <td>2011-04-01</td>\n",
       "      <td>202</td>\n",
       "      <td>50.7827</td>\n",
       "      <td>6.0941</td>\n",
       "      <td>Aachen</td>\n",
       "      <td>Nordrhein-Westfalen</td>\n",
       "    </tr>\n",
       "    <tr>\n",
       "      <th>216</th>\n",
       "      <td>2004-10-01</td>\n",
       "      <td>2022-02-25</td>\n",
       "      <td>298</td>\n",
       "      <td>51.1143</td>\n",
       "      <td>7.8807</td>\n",
       "      <td>Attendorn-Neulisternohl</td>\n",
       "      <td>Nordrhein-Westfalen</td>\n",
       "    </tr>\n",
       "    <tr>\n",
       "      <th>326</th>\n",
       "      <td>2004-07-01</td>\n",
       "      <td>2013-07-08</td>\n",
       "      <td>120</td>\n",
       "      <td>51.7204</td>\n",
       "      <td>8.0577</td>\n",
       "      <td>Beckum-Unterberg</td>\n",
       "      <td>Nordrhein-Westfalen</td>\n",
       "    </tr>\n",
       "    <tr>\n",
       "      <th>389</th>\n",
       "      <td>2009-11-01</td>\n",
       "      <td>2022-03-01</td>\n",
       "      <td>436</td>\n",
       "      <td>51.0148</td>\n",
       "      <td>8.4318</td>\n",
       "      <td>Berleburg, Bad-Arfeld</td>\n",
       "      <td>Nordrhein-Westfalen</td>\n",
       "    </tr>\n",
       "    <tr>\n",
       "      <th>390</th>\n",
       "      <td>2004-07-01</td>\n",
       "      <td>2022-03-01</td>\n",
       "      <td>610</td>\n",
       "      <td>50.9837</td>\n",
       "      <td>8.3683</td>\n",
       "      <td>Berleburg, Bad-Stünzel</td>\n",
       "      <td>Nordrhein-Westfalen</td>\n",
       "    </tr>\n",
       "    <tr>\n",
       "      <th>...</th>\n",
       "      <td>...</td>\n",
       "      <td>...</td>\n",
       "      <td>...</td>\n",
       "      <td>...</td>\n",
       "      <td>...</td>\n",
       "      <td>...</td>\n",
       "      <td>...</td>\n",
       "    </tr>\n",
       "    <tr>\n",
       "      <th>14184</th>\n",
       "      <td>2016-06-01</td>\n",
       "      <td>2022-03-01</td>\n",
       "      <td>126</td>\n",
       "      <td>51.2242</td>\n",
       "      <td>7.1070</td>\n",
       "      <td>Wuppertal-Buchenhofen/Wupper</td>\n",
       "      <td>Nordrhein-Westfalen</td>\n",
       "    </tr>\n",
       "    <tr>\n",
       "      <th>14185</th>\n",
       "      <td>2017-08-01</td>\n",
       "      <td>2022-03-01</td>\n",
       "      <td>304</td>\n",
       "      <td>51.6050</td>\n",
       "      <td>8.8175</td>\n",
       "      <td>Lichtenau-Ebbinghausen (HRB)</td>\n",
       "      <td>Nordrhein-Westfalen</td>\n",
       "    </tr>\n",
       "    <tr>\n",
       "      <th>14186</th>\n",
       "      <td>2017-08-01</td>\n",
       "      <td>2022-03-01</td>\n",
       "      <td>291</td>\n",
       "      <td>51.5319</td>\n",
       "      <td>8.7289</td>\n",
       "      <td>Gollentaler Grund (HRB)</td>\n",
       "      <td>Nordrhein-Westfalen</td>\n",
       "    </tr>\n",
       "    <tr>\n",
       "      <th>14187</th>\n",
       "      <td>2017-08-01</td>\n",
       "      <td>2021-01-07</td>\n",
       "      <td>226</td>\n",
       "      <td>51.5831</td>\n",
       "      <td>8.8478</td>\n",
       "      <td>Husen-Dalheim (HRB)</td>\n",
       "      <td>Nordrhein-Westfalen</td>\n",
       "    </tr>\n",
       "    <tr>\n",
       "      <th>15000</th>\n",
       "      <td>2011-04-01</td>\n",
       "      <td>2022-03-01</td>\n",
       "      <td>231</td>\n",
       "      <td>50.7983</td>\n",
       "      <td>6.0244</td>\n",
       "      <td>Aachen-Orsbach</td>\n",
       "      <td>Nordrhein-Westfalen</td>\n",
       "    </tr>\n",
       "  </tbody>\n",
       "</table>\n",
       "<p>158 rows × 7 columns</p>\n",
       "</div>"
      ],
      "text/plain": [
       "            date_from    date_to  altitude  latitude  longitude  \\\n",
       "station_id                                                        \n",
       "3          1995-09-01 2011-04-01       202   50.7827     6.0941   \n",
       "216        2004-10-01 2022-02-25       298   51.1143     7.8807   \n",
       "326        2004-07-01 2013-07-08       120   51.7204     8.0577   \n",
       "389        2009-11-01 2022-03-01       436   51.0148     8.4318   \n",
       "390        2004-07-01 2022-03-01       610   50.9837     8.3683   \n",
       "...               ...        ...       ...       ...        ...   \n",
       "14184      2016-06-01 2022-03-01       126   51.2242     7.1070   \n",
       "14185      2017-08-01 2022-03-01       304   51.6050     8.8175   \n",
       "14186      2017-08-01 2022-03-01       291   51.5319     8.7289   \n",
       "14187      2017-08-01 2021-01-07       226   51.5831     8.8478   \n",
       "15000      2011-04-01 2022-03-01       231   50.7983     6.0244   \n",
       "\n",
       "                                    name                state  \n",
       "station_id                                                     \n",
       "3                                 Aachen  Nordrhein-Westfalen  \n",
       "216              Attendorn-Neulisternohl  Nordrhein-Westfalen  \n",
       "326                     Beckum-Unterberg  Nordrhein-Westfalen  \n",
       "389                Berleburg, Bad-Arfeld  Nordrhein-Westfalen  \n",
       "390               Berleburg, Bad-Stünzel  Nordrhein-Westfalen  \n",
       "...                                  ...                  ...  \n",
       "14184       Wuppertal-Buchenhofen/Wupper  Nordrhein-Westfalen  \n",
       "14185       Lichtenau-Ebbinghausen (HRB)  Nordrhein-Westfalen  \n",
       "14186            Gollentaler Grund (HRB)  Nordrhein-Westfalen  \n",
       "14187                Husen-Dalheim (HRB)  Nordrhein-Westfalen  \n",
       "15000                     Aachen-Orsbach  Nordrhein-Westfalen  \n",
       "\n",
       "[158 rows x 7 columns]"
      ]
     },
     "execution_count": 13,
     "metadata": {},
     "output_type": "execute_result"
    }
   ],
   "source": [
    "# select only counties in North Rhine-Westfalen\n",
    "isNRW = df_stations['state'].str.contains(\"Nordrhein\")\n",
    "\n",
    "dfNRW = df_stations[isNRW]\n",
    "\n",
    "#print(\"Number of stations in NRW: \\n\", dfNRW.count())\n",
    "dfNRW"
   ]
  },
  {
   "cell_type": "code",
   "execution_count": 14,
   "id": "d4fc208a-e090-46d9-a9bf-a51a96f609c4",
   "metadata": {},
   "outputs": [
    {
     "name": "stdout",
     "output_type": "stream",
     "text": [
      "stundenwerte_RR_00003_19950901_20110401_hist.zip\n",
      "stundenwerte_RR_00216_20041001_20201231_hist.zip\n",
      "stundenwerte_RR_00326_20040701_20130708_hist.zip\n",
      "stundenwerte_RR_00389_20091101_20201231_hist.zip\n",
      "stundenwerte_RR_00390_20040701_20201231_hist.zip\n",
      "stundenwerte_RR_00554_19950901_20201231_hist.zip\n",
      "stundenwerte_RR_00555_20080101_20181101_hist.zip\n",
      "stundenwerte_RR_00599_19950901_19990302_hist.zip\n",
      "stundenwerte_RR_00603_19990303_20201231_hist.zip\n",
      "stundenwerte_RR_00613_20041101_20201231_hist.zip\n",
      "stundenwerte_RR_00617_20040601_20201231_hist.zip\n",
      "stundenwerte_RR_00644_20050101_20201231_hist.zip\n",
      "stundenwerte_RR_00796_20041101_20201231_hist.zip\n",
      "stundenwerte_RR_00871_20050801_20201231_hist.zip\n",
      "stundenwerte_RR_00902_20061001_20201231_hist.zip\n",
      "stundenwerte_RR_00934_20041001_20201231_hist.zip\n",
      "stundenwerte_RR_00989_20050201_20201231_hist.zip\n",
      "stundenwerte_RR_01024_20060801_20201231_hist.zip\n",
      "stundenwerte_RR_01046_20041001_20201231_hist.zip\n",
      "stundenwerte_RR_01078_19950901_20201231_hist.zip\n",
      "stundenwerte_RR_01241_20061201_20201231_hist.zip\n",
      "stundenwerte_RR_01246_20150801_20201231_hist.zip\n",
      "stundenwerte_RR_01300_20040601_20201231_hist.zip\n",
      "stundenwerte_RR_01303_19950901_20201231_hist.zip\n",
      "stundenwerte_RR_01327_20040801_20201231_hist.zip\n",
      "stundenwerte_RR_01590_20030701_20201231_hist.zip\n",
      "stundenwerte_RR_01595_20121001_20201231_hist.zip\n",
      "stundenwerte_RR_01766_19950901_20201231_hist.zip\n",
      "stundenwerte_RR_02027_20060601_20201231_hist.zip\n",
      "stundenwerte_RR_02110_20030105_20201231_hist.zip\n",
      "stundenwerte_RR_02254_20050601_20201231_hist.zip\n",
      "stundenwerte_RR_02473_20041201_20201231_hist.zip\n",
      "stundenwerte_RR_02483_19951012_20201231_hist.zip\n",
      "stundenwerte_RR_02497_20040801_20201231_hist.zip\n",
      "stundenwerte_RR_02629_20040701_20201231_hist.zip\n",
      "stundenwerte_RR_02667_19950901_20201231_hist.zip\n",
      "stundenwerte_RR_02703_19950901_20001010_hist.zip\n",
      "stundenwerte_RR_02810_20061201_20201231_hist.zip\n",
      "stundenwerte_RR_02947_20061001_20201231_hist.zip\n",
      "stundenwerte_RR_02968_20081201_20201231_hist.zip\n",
      "stundenwerte_RR_02999_20040701_20201231_hist.zip\n",
      "stundenwerte_RR_03028_19950901_20201231_hist.zip\n",
      "stundenwerte_RR_03031_20040701_20201231_hist.zip\n",
      "stundenwerte_RR_03081_20071201_20201231_hist.zip\n",
      "stundenwerte_RR_03098_19950901_20201231_hist.zip\n",
      "stundenwerte_RR_03215_20070601_20201231_hist.zip\n",
      "stundenwerte_RR_03321_20050701_20201231_hist.zip\n",
      "WARNING: TS file for key 3328 not found in FTP directory.\n",
      "stundenwerte_RR_03339_20060901_20201231_hist.zip\n",
      "stundenwerte_RR_03499_20060701_20201231_hist.zip\n",
      "stundenwerte_RR_03540_20041101_20201231_hist.zip\n",
      "stundenwerte_RR_03591_20040601_20201231_hist.zip\n",
      "stundenwerte_RR_03795_20041201_20201231_hist.zip\n",
      "stundenwerte_RR_03913_20040701_20201231_hist.zip\n",
      "stundenwerte_RR_04063_20030701_20201231_hist.zip\n",
      "stundenwerte_RR_04127_20050101_20201231_hist.zip\n",
      "stundenwerte_RR_04150_20051201_20201231_hist.zip\n",
      "stundenwerte_RR_04154_20110201_20180701_hist.zip\n",
      "stundenwerte_RR_04313_20040801_20201231_hist.zip\n",
      "stundenwerte_RR_04368_20041001_20201231_hist.zip\n",
      "stundenwerte_RR_04371_19950901_20201231_hist.zip\n",
      "stundenwerte_RR_04400_20040801_20201231_hist.zip\n",
      "stundenwerte_RR_04488_20060801_20201231_hist.zip\n",
      "stundenwerte_RR_04692_20080301_20181201_hist.zip\n",
      "stundenwerte_RR_04741_20041201_20201231_hist.zip\n",
      "stundenwerte_RR_04849_20050601_20201231_hist.zip\n",
      "stundenwerte_RR_05064_20041201_20201231_hist.zip\n",
      "stundenwerte_RR_05347_19950901_20201231_hist.zip\n",
      "stundenwerte_RR_05360_20070701_20201231_hist.zip\n",
      "stundenwerte_RR_05468_20060701_20201001_hist.zip\n",
      "stundenwerte_RR_05480_20030910_20201231_hist.zip\n",
      "stundenwerte_RR_05513_20050901_20201231_hist.zip\n",
      "stundenwerte_RR_05619_20041201_20201231_hist.zip\n",
      "stundenwerte_RR_05699_20041101_20201231_hist.zip\n",
      "stundenwerte_RR_05717_20060901_20201231_hist.zip\n",
      "stundenwerte_RR_05719_20041001_20091210_hist.zip\n",
      "stundenwerte_RR_05733_20050501_20201231_hist.zip\n",
      "WARNING: TS file for key 6041 not found in FTP directory.\n",
      "WARNING: TS file for key 6042 not found in FTP directory.\n",
      "WARNING: TS file for key 6043 not found in FTP directory.\n",
      "WARNING: TS file for key 6044 not found in FTP directory.\n",
      "WARNING: TS file for key 6045 not found in FTP directory.\n",
      "WARNING: TS file for key 6046 not found in FTP directory.\n",
      "WARNING: TS file for key 6047 not found in FTP directory.\n",
      "WARNING: TS file for key 6048 not found in FTP directory.\n",
      "WARNING: TS file for key 6049 not found in FTP directory.\n",
      "WARNING: TS file for key 6050 not found in FTP directory.\n",
      "WARNING: TS file for key 6051 not found in FTP directory.\n",
      "WARNING: TS file for key 6052 not found in FTP directory.\n",
      "WARNING: TS file for key 6053 not found in FTP directory.\n",
      "WARNING: TS file for key 6054 not found in FTP directory.\n",
      "WARNING: TS file for key 6055 not found in FTP directory.\n",
      "WARNING: TS file for key 6057 not found in FTP directory.\n",
      "WARNING: TS file for key 6058 not found in FTP directory.\n",
      "WARNING: TS file for key 6059 not found in FTP directory.\n",
      "WARNING: TS file for key 6060 not found in FTP directory.\n",
      "WARNING: TS file for key 6061 not found in FTP directory.\n",
      "WARNING: TS file for key 6064 not found in FTP directory.\n",
      "WARNING: TS file for key 6067 not found in FTP directory.\n",
      "stundenwerte_RR_06197_20001013_20201231_hist.zip\n",
      "stundenwerte_RR_06264_20040601_20201231_hist.zip\n",
      "stundenwerte_RR_06276_20041101_20191102_hist.zip\n",
      "stundenwerte_RR_06313_20041201_20201231_hist.zip\n",
      "stundenwerte_RR_06337_20040801_20201231_hist.zip\n",
      "stundenwerte_RR_07106_20060901_20201231_hist.zip\n",
      "stundenwerte_RR_07330_20051001_20201231_hist.zip\n",
      "stundenwerte_RR_07344_20060601_20201231_hist.zip\n",
      "stundenwerte_RR_07374_20060301_20201231_hist.zip\n",
      "stundenwerte_RR_07378_20060701_20201231_hist.zip\n",
      "stundenwerte_RR_13669_20070901_20201231_hist.zip\n",
      "stundenwerte_RR_13670_20070601_20201231_hist.zip\n",
      "stundenwerte_RR_13671_20071201_20201231_hist.zip\n",
      "stundenwerte_RR_13696_20071201_20201231_hist.zip\n",
      "stundenwerte_RR_13700_20080501_20201231_hist.zip\n",
      "stundenwerte_RR_13713_20071101_20201231_hist.zip\n",
      "WARNING: TS file for key 14096 not found in FTP directory.\n",
      "WARNING: TS file for key 14142 not found in FTP directory.\n",
      "WARNING: TS file for key 14143 not found in FTP directory.\n",
      "WARNING: TS file for key 14144 not found in FTP directory.\n",
      "WARNING: TS file for key 14145 not found in FTP directory.\n",
      "WARNING: TS file for key 14146 not found in FTP directory.\n",
      "WARNING: TS file for key 14147 not found in FTP directory.\n",
      "WARNING: TS file for key 14148 not found in FTP directory.\n",
      "WARNING: TS file for key 14149 not found in FTP directory.\n",
      "WARNING: TS file for key 14150 not found in FTP directory.\n",
      "WARNING: TS file for key 14151 not found in FTP directory.\n",
      "WARNING: TS file for key 14152 not found in FTP directory.\n",
      "WARNING: TS file for key 14153 not found in FTP directory.\n",
      "WARNING: TS file for key 14154 not found in FTP directory.\n",
      "WARNING: TS file for key 14155 not found in FTP directory.\n",
      "WARNING: TS file for key 14156 not found in FTP directory.\n",
      "WARNING: TS file for key 14158 not found in FTP directory.\n",
      "WARNING: TS file for key 14159 not found in FTP directory.\n",
      "WARNING: TS file for key 14164 not found in FTP directory.\n",
      "WARNING: TS file for key 14165 not found in FTP directory.\n",
      "WARNING: TS file for key 14166 not found in FTP directory.\n",
      "WARNING: TS file for key 14167 not found in FTP directory.\n",
      "WARNING: TS file for key 14168 not found in FTP directory.\n",
      "WARNING: TS file for key 14169 not found in FTP directory.\n",
      "WARNING: TS file for key 14170 not found in FTP directory.\n",
      "WARNING: TS file for key 14171 not found in FTP directory.\n",
      "WARNING: TS file for key 14172 not found in FTP directory.\n",
      "WARNING: TS file for key 14173 not found in FTP directory.\n",
      "WARNING: TS file for key 14174 not found in FTP directory.\n",
      "WARNING: TS file for key 14175 not found in FTP directory.\n",
      "WARNING: TS file for key 14176 not found in FTP directory.\n",
      "WARNING: TS file for key 14177 not found in FTP directory.\n",
      "WARNING: TS file for key 14178 not found in FTP directory.\n",
      "WARNING: TS file for key 14179 not found in FTP directory.\n",
      "WARNING: TS file for key 14180 not found in FTP directory.\n",
      "WARNING: TS file for key 14181 not found in FTP directory.\n",
      "WARNING: TS file for key 14182 not found in FTP directory.\n",
      "WARNING: TS file for key 14183 not found in FTP directory.\n",
      "WARNING: TS file for key 14184 not found in FTP directory.\n",
      "WARNING: TS file for key 14185 not found in FTP directory.\n",
      "WARNING: TS file for key 14186 not found in FTP directory.\n",
      "WARNING: TS file for key 14187 not found in FTP directory.\n",
      "stundenwerte_RR_15000_20110401_20201231_hist.zip\n"
     ]
    }
   ],
   "source": [
    "# Add the names of the zip files only to a list. \n",
    "local_zip_list = []\n",
    "\n",
    "station_ids_selected = list(dfNRW.index)\n",
    "\n",
    "for station_id in station_ids_selected:\n",
    "    try:\n",
    "        fname = df_zips[\"name\"][station_id]\n",
    "        print(fname)\n",
    "        grabFile(ftp_dir + fname, local_ftp_ts_dir + fname)\n",
    "        local_zip_list.append(fname)\n",
    "    except:\n",
    "        print(\"WARNING: TS file for key %d not found in FTP directory.\" % station_id)"
   ]
  },
  {
   "cell_type": "code",
   "execution_count": 15,
   "id": "b7bc45de-4eb8-4978-a1c5-453602fb2aaa",
   "metadata": {},
   "outputs": [],
   "source": [
    "#generate precipitation time series and store in dataframe\n",
    "def prec_ts_to_df(fname):\n",
    "    \n",
    "    dateparse = lambda dates: [datetime.strptime(str(d), '%Y%m%d%H') for d in dates]\n",
    "\n",
    "    df = pd.read_csv(fname, delimiter=\";\", encoding=\"utf8\", index_col=\"MESS_DATUM\", parse_dates = [\"MESS_DATUM\"], date_parser = dateparse, na_values = [-999.0, -999])\n",
    "\n",
    "    #df = pd.read_csv(fname, delimiter=\";\", encoding=\"iso8859_2\",\\\n",
    "    #             index_col=\"MESS_DATUM\", parse_dates = [\"MESS_DATUM\"], date_parser = dateparse)\n",
    "    \n",
    "    # https://medium.com/@chaimgluck1/working-with-pandas-fixing-messy-column-names-42a54a6659cd\n",
    "\n",
    "    # Column headers: remove leading blanks (strip), replace \" \" with \"_\", and convert to lower case.\n",
    "    df.columns = df.columns.str.strip().str.lower().str.replace(' ', '_').str.replace('(', '').str.replace(')', '')\n",
    "    df.index.name = df.index.name.strip().lower().replace(' ', '_').replace('(', '').replace(')', '')\n",
    "    return(df)"
   ]
  },
  {
   "cell_type": "code",
   "execution_count": 16,
   "id": "3b59fcdd-dddb-424e-923f-1ef5d9a1e8dc",
   "metadata": {},
   "outputs": [
    {
     "name": "stdout",
     "output_type": "stream",
     "text": [
      "Zip archive: ../data/original/DWD//hourly/precipitation/historical/stundenwerte_RR_00003_19950901_20110401_hist.zip\n",
      "Extract product file: produkt_rr_stunde_19950901_20110401_00003.txt\n",
      "\n"
     ]
    },
    {
     "name": "stderr",
     "output_type": "stream",
     "text": [
      "/var/folders/nv/b5gt_2xs6_b2b50_jwyn74wm0000gn/T/ipykernel_2616/2885908043.py:14: FutureWarning: The default value of regex will change from True to False in a future version. In addition, single character regular expressions will *not* be treated as literal strings when regex=True.\n",
      "  df.columns = df.columns.str.strip().str.lower().str.replace(' ', '_').str.replace('(', '').str.replace(')', '')\n",
      "/var/folders/nv/b5gt_2xs6_b2b50_jwyn74wm0000gn/T/ipykernel_2616/2885908043.py:14: FutureWarning: The default value of regex will change from True to False in a future version. In addition, single character regular expressions will *not* be treated as literal strings when regex=True.\n",
      "  df.columns = df.columns.str.strip().str.lower().str.replace(' ', '_').str.replace('(', '').str.replace(')', '')\n"
     ]
    },
    {
     "name": "stdout",
     "output_type": "stream",
     "text": [
      "Zip archive: ../data/original/DWD//hourly/precipitation/historical/stundenwerte_RR_00216_20041001_20201231_hist.zip\n",
      "Extract product file: produkt_rr_stunde_20041001_20201231_00216.txt\n",
      "\n"
     ]
    },
    {
     "name": "stderr",
     "output_type": "stream",
     "text": [
      "/var/folders/nv/b5gt_2xs6_b2b50_jwyn74wm0000gn/T/ipykernel_2616/2885908043.py:14: FutureWarning: The default value of regex will change from True to False in a future version. In addition, single character regular expressions will *not* be treated as literal strings when regex=True.\n",
      "  df.columns = df.columns.str.strip().str.lower().str.replace(' ', '_').str.replace('(', '').str.replace(')', '')\n",
      "/var/folders/nv/b5gt_2xs6_b2b50_jwyn74wm0000gn/T/ipykernel_2616/2885908043.py:14: FutureWarning: The default value of regex will change from True to False in a future version. In addition, single character regular expressions will *not* be treated as literal strings when regex=True.\n",
      "  df.columns = df.columns.str.strip().str.lower().str.replace(' ', '_').str.replace('(', '').str.replace(')', '')\n"
     ]
    },
    {
     "name": "stdout",
     "output_type": "stream",
     "text": [
      "Zip archive: ../data/original/DWD//hourly/precipitation/historical/stundenwerte_RR_00326_20040701_20130708_hist.zip\n",
      "Extract product file: produkt_rr_stunde_20040701_20130708_00326.txt\n",
      "\n"
     ]
    },
    {
     "name": "stderr",
     "output_type": "stream",
     "text": [
      "/var/folders/nv/b5gt_2xs6_b2b50_jwyn74wm0000gn/T/ipykernel_2616/2885908043.py:14: FutureWarning: The default value of regex will change from True to False in a future version. In addition, single character regular expressions will *not* be treated as literal strings when regex=True.\n",
      "  df.columns = df.columns.str.strip().str.lower().str.replace(' ', '_').str.replace('(', '').str.replace(')', '')\n",
      "/var/folders/nv/b5gt_2xs6_b2b50_jwyn74wm0000gn/T/ipykernel_2616/2885908043.py:14: FutureWarning: The default value of regex will change from True to False in a future version. In addition, single character regular expressions will *not* be treated as literal strings when regex=True.\n",
      "  df.columns = df.columns.str.strip().str.lower().str.replace(' ', '_').str.replace('(', '').str.replace(')', '')\n"
     ]
    },
    {
     "name": "stdout",
     "output_type": "stream",
     "text": [
      "Zip archive: ../data/original/DWD//hourly/precipitation/historical/stundenwerte_RR_00389_20091101_20201231_hist.zip\n",
      "Extract product file: produkt_rr_stunde_20091101_20201231_00389.txt\n",
      "\n"
     ]
    },
    {
     "name": "stderr",
     "output_type": "stream",
     "text": [
      "/var/folders/nv/b5gt_2xs6_b2b50_jwyn74wm0000gn/T/ipykernel_2616/2885908043.py:14: FutureWarning: The default value of regex will change from True to False in a future version. In addition, single character regular expressions will *not* be treated as literal strings when regex=True.\n",
      "  df.columns = df.columns.str.strip().str.lower().str.replace(' ', '_').str.replace('(', '').str.replace(')', '')\n",
      "/var/folders/nv/b5gt_2xs6_b2b50_jwyn74wm0000gn/T/ipykernel_2616/2885908043.py:14: FutureWarning: The default value of regex will change from True to False in a future version. In addition, single character regular expressions will *not* be treated as literal strings when regex=True.\n",
      "  df.columns = df.columns.str.strip().str.lower().str.replace(' ', '_').str.replace('(', '').str.replace(')', '')\n"
     ]
    },
    {
     "name": "stdout",
     "output_type": "stream",
     "text": [
      "Zip archive: ../data/original/DWD//hourly/precipitation/historical/stundenwerte_RR_00390_20040701_20201231_hist.zip\n",
      "Extract product file: produkt_rr_stunde_20040701_20201231_00390.txt\n",
      "\n"
     ]
    },
    {
     "name": "stderr",
     "output_type": "stream",
     "text": [
      "/var/folders/nv/b5gt_2xs6_b2b50_jwyn74wm0000gn/T/ipykernel_2616/2885908043.py:14: FutureWarning: The default value of regex will change from True to False in a future version. In addition, single character regular expressions will *not* be treated as literal strings when regex=True.\n",
      "  df.columns = df.columns.str.strip().str.lower().str.replace(' ', '_').str.replace('(', '').str.replace(')', '')\n",
      "/var/folders/nv/b5gt_2xs6_b2b50_jwyn74wm0000gn/T/ipykernel_2616/2885908043.py:14: FutureWarning: The default value of regex will change from True to False in a future version. In addition, single character regular expressions will *not* be treated as literal strings when regex=True.\n",
      "  df.columns = df.columns.str.strip().str.lower().str.replace(' ', '_').str.replace('(', '').str.replace(')', '')\n"
     ]
    },
    {
     "name": "stdout",
     "output_type": "stream",
     "text": [
      "Zip archive: ../data/original/DWD//hourly/precipitation/historical/stundenwerte_RR_00554_19950901_20201231_hist.zip\n",
      "Extract product file: produkt_rr_stunde_19950901_20201231_00554.txt\n",
      "\n"
     ]
    },
    {
     "name": "stderr",
     "output_type": "stream",
     "text": [
      "/var/folders/nv/b5gt_2xs6_b2b50_jwyn74wm0000gn/T/ipykernel_2616/2885908043.py:14: FutureWarning: The default value of regex will change from True to False in a future version. In addition, single character regular expressions will *not* be treated as literal strings when regex=True.\n",
      "  df.columns = df.columns.str.strip().str.lower().str.replace(' ', '_').str.replace('(', '').str.replace(')', '')\n",
      "/var/folders/nv/b5gt_2xs6_b2b50_jwyn74wm0000gn/T/ipykernel_2616/2885908043.py:14: FutureWarning: The default value of regex will change from True to False in a future version. In addition, single character regular expressions will *not* be treated as literal strings when regex=True.\n",
      "  df.columns = df.columns.str.strip().str.lower().str.replace(' ', '_').str.replace('(', '').str.replace(')', '')\n"
     ]
    },
    {
     "name": "stdout",
     "output_type": "stream",
     "text": [
      "Zip archive: ../data/original/DWD//hourly/precipitation/historical/stundenwerte_RR_00555_20080101_20181101_hist.zip\n",
      "Extract product file: produkt_rr_stunde_20080101_20181101_00555.txt\n",
      "\n"
     ]
    },
    {
     "name": "stderr",
     "output_type": "stream",
     "text": [
      "/var/folders/nv/b5gt_2xs6_b2b50_jwyn74wm0000gn/T/ipykernel_2616/2885908043.py:14: FutureWarning: The default value of regex will change from True to False in a future version. In addition, single character regular expressions will *not* be treated as literal strings when regex=True.\n",
      "  df.columns = df.columns.str.strip().str.lower().str.replace(' ', '_').str.replace('(', '').str.replace(')', '')\n",
      "/var/folders/nv/b5gt_2xs6_b2b50_jwyn74wm0000gn/T/ipykernel_2616/2885908043.py:14: FutureWarning: The default value of regex will change from True to False in a future version. In addition, single character regular expressions will *not* be treated as literal strings when regex=True.\n",
      "  df.columns = df.columns.str.strip().str.lower().str.replace(' ', '_').str.replace('(', '').str.replace(')', '')\n"
     ]
    },
    {
     "name": "stdout",
     "output_type": "stream",
     "text": [
      "Zip archive: ../data/original/DWD//hourly/precipitation/historical/stundenwerte_RR_00599_19950901_19990302_hist.zip\n",
      "Extract product file: produkt_rr_stunde_19950901_19990302_00599.txt\n",
      "\n"
     ]
    },
    {
     "name": "stderr",
     "output_type": "stream",
     "text": [
      "/var/folders/nv/b5gt_2xs6_b2b50_jwyn74wm0000gn/T/ipykernel_2616/2885908043.py:14: FutureWarning: The default value of regex will change from True to False in a future version. In addition, single character regular expressions will *not* be treated as literal strings when regex=True.\n",
      "  df.columns = df.columns.str.strip().str.lower().str.replace(' ', '_').str.replace('(', '').str.replace(')', '')\n",
      "/var/folders/nv/b5gt_2xs6_b2b50_jwyn74wm0000gn/T/ipykernel_2616/2885908043.py:14: FutureWarning: The default value of regex will change from True to False in a future version. In addition, single character regular expressions will *not* be treated as literal strings when regex=True.\n",
      "  df.columns = df.columns.str.strip().str.lower().str.replace(' ', '_').str.replace('(', '').str.replace(')', '')\n"
     ]
    },
    {
     "name": "stdout",
     "output_type": "stream",
     "text": [
      "Zip archive: ../data/original/DWD//hourly/precipitation/historical/stundenwerte_RR_00603_19990303_20201231_hist.zip\n",
      "Extract product file: produkt_rr_stunde_19990303_20201231_00603.txt\n",
      "\n"
     ]
    },
    {
     "name": "stderr",
     "output_type": "stream",
     "text": [
      "/var/folders/nv/b5gt_2xs6_b2b50_jwyn74wm0000gn/T/ipykernel_2616/2885908043.py:14: FutureWarning: The default value of regex will change from True to False in a future version. In addition, single character regular expressions will *not* be treated as literal strings when regex=True.\n",
      "  df.columns = df.columns.str.strip().str.lower().str.replace(' ', '_').str.replace('(', '').str.replace(')', '')\n",
      "/var/folders/nv/b5gt_2xs6_b2b50_jwyn74wm0000gn/T/ipykernel_2616/2885908043.py:14: FutureWarning: The default value of regex will change from True to False in a future version. In addition, single character regular expressions will *not* be treated as literal strings when regex=True.\n",
      "  df.columns = df.columns.str.strip().str.lower().str.replace(' ', '_').str.replace('(', '').str.replace(')', '')\n"
     ]
    },
    {
     "name": "stdout",
     "output_type": "stream",
     "text": [
      "Zip archive: ../data/original/DWD//hourly/precipitation/historical/stundenwerte_RR_00613_20041101_20201231_hist.zip\n",
      "Extract product file: produkt_rr_stunde_20041101_20201231_00613.txt\n",
      "\n"
     ]
    },
    {
     "name": "stderr",
     "output_type": "stream",
     "text": [
      "/var/folders/nv/b5gt_2xs6_b2b50_jwyn74wm0000gn/T/ipykernel_2616/2885908043.py:14: FutureWarning: The default value of regex will change from True to False in a future version. In addition, single character regular expressions will *not* be treated as literal strings when regex=True.\n",
      "  df.columns = df.columns.str.strip().str.lower().str.replace(' ', '_').str.replace('(', '').str.replace(')', '')\n",
      "/var/folders/nv/b5gt_2xs6_b2b50_jwyn74wm0000gn/T/ipykernel_2616/2885908043.py:14: FutureWarning: The default value of regex will change from True to False in a future version. In addition, single character regular expressions will *not* be treated as literal strings when regex=True.\n",
      "  df.columns = df.columns.str.strip().str.lower().str.replace(' ', '_').str.replace('(', '').str.replace(')', '')\n"
     ]
    },
    {
     "name": "stdout",
     "output_type": "stream",
     "text": [
      "Zip archive: ../data/original/DWD//hourly/precipitation/historical/stundenwerte_RR_00617_20040601_20201231_hist.zip\n",
      "Extract product file: produkt_rr_stunde_20040601_20201231_00617.txt\n",
      "\n"
     ]
    },
    {
     "name": "stderr",
     "output_type": "stream",
     "text": [
      "/var/folders/nv/b5gt_2xs6_b2b50_jwyn74wm0000gn/T/ipykernel_2616/2885908043.py:14: FutureWarning: The default value of regex will change from True to False in a future version. In addition, single character regular expressions will *not* be treated as literal strings when regex=True.\n",
      "  df.columns = df.columns.str.strip().str.lower().str.replace(' ', '_').str.replace('(', '').str.replace(')', '')\n",
      "/var/folders/nv/b5gt_2xs6_b2b50_jwyn74wm0000gn/T/ipykernel_2616/2885908043.py:14: FutureWarning: The default value of regex will change from True to False in a future version. In addition, single character regular expressions will *not* be treated as literal strings when regex=True.\n",
      "  df.columns = df.columns.str.strip().str.lower().str.replace(' ', '_').str.replace('(', '').str.replace(')', '')\n"
     ]
    },
    {
     "name": "stdout",
     "output_type": "stream",
     "text": [
      "Zip archive: ../data/original/DWD//hourly/precipitation/historical/stundenwerte_RR_00644_20050101_20201231_hist.zip\n",
      "Extract product file: produkt_rr_stunde_20050101_20201231_00644.txt\n",
      "\n"
     ]
    },
    {
     "name": "stderr",
     "output_type": "stream",
     "text": [
      "/var/folders/nv/b5gt_2xs6_b2b50_jwyn74wm0000gn/T/ipykernel_2616/2885908043.py:14: FutureWarning: The default value of regex will change from True to False in a future version. In addition, single character regular expressions will *not* be treated as literal strings when regex=True.\n",
      "  df.columns = df.columns.str.strip().str.lower().str.replace(' ', '_').str.replace('(', '').str.replace(')', '')\n",
      "/var/folders/nv/b5gt_2xs6_b2b50_jwyn74wm0000gn/T/ipykernel_2616/2885908043.py:14: FutureWarning: The default value of regex will change from True to False in a future version. In addition, single character regular expressions will *not* be treated as literal strings when regex=True.\n",
      "  df.columns = df.columns.str.strip().str.lower().str.replace(' ', '_').str.replace('(', '').str.replace(')', '')\n"
     ]
    },
    {
     "name": "stdout",
     "output_type": "stream",
     "text": [
      "Zip archive: ../data/original/DWD//hourly/precipitation/historical/stundenwerte_RR_00796_20041101_20201231_hist.zip\n",
      "Extract product file: produkt_rr_stunde_20041101_20201231_00796.txt\n",
      "\n"
     ]
    },
    {
     "name": "stderr",
     "output_type": "stream",
     "text": [
      "/var/folders/nv/b5gt_2xs6_b2b50_jwyn74wm0000gn/T/ipykernel_2616/2885908043.py:14: FutureWarning: The default value of regex will change from True to False in a future version. In addition, single character regular expressions will *not* be treated as literal strings when regex=True.\n",
      "  df.columns = df.columns.str.strip().str.lower().str.replace(' ', '_').str.replace('(', '').str.replace(')', '')\n",
      "/var/folders/nv/b5gt_2xs6_b2b50_jwyn74wm0000gn/T/ipykernel_2616/2885908043.py:14: FutureWarning: The default value of regex will change from True to False in a future version. In addition, single character regular expressions will *not* be treated as literal strings when regex=True.\n",
      "  df.columns = df.columns.str.strip().str.lower().str.replace(' ', '_').str.replace('(', '').str.replace(')', '')\n"
     ]
    },
    {
     "name": "stdout",
     "output_type": "stream",
     "text": [
      "Zip archive: ../data/original/DWD//hourly/precipitation/historical/stundenwerte_RR_00871_20050801_20201231_hist.zip\n",
      "Extract product file: produkt_rr_stunde_20050801_20201231_00871.txt\n",
      "\n"
     ]
    },
    {
     "name": "stderr",
     "output_type": "stream",
     "text": [
      "/var/folders/nv/b5gt_2xs6_b2b50_jwyn74wm0000gn/T/ipykernel_2616/2885908043.py:14: FutureWarning: The default value of regex will change from True to False in a future version. In addition, single character regular expressions will *not* be treated as literal strings when regex=True.\n",
      "  df.columns = df.columns.str.strip().str.lower().str.replace(' ', '_').str.replace('(', '').str.replace(')', '')\n",
      "/var/folders/nv/b5gt_2xs6_b2b50_jwyn74wm0000gn/T/ipykernel_2616/2885908043.py:14: FutureWarning: The default value of regex will change from True to False in a future version. In addition, single character regular expressions will *not* be treated as literal strings when regex=True.\n",
      "  df.columns = df.columns.str.strip().str.lower().str.replace(' ', '_').str.replace('(', '').str.replace(')', '')\n"
     ]
    },
    {
     "name": "stdout",
     "output_type": "stream",
     "text": [
      "Zip archive: ../data/original/DWD//hourly/precipitation/historical/stundenwerte_RR_00902_20061001_20201231_hist.zip\n",
      "Extract product file: produkt_rr_stunde_20061001_20201231_00902.txt\n",
      "\n"
     ]
    },
    {
     "name": "stderr",
     "output_type": "stream",
     "text": [
      "/var/folders/nv/b5gt_2xs6_b2b50_jwyn74wm0000gn/T/ipykernel_2616/2885908043.py:14: FutureWarning: The default value of regex will change from True to False in a future version. In addition, single character regular expressions will *not* be treated as literal strings when regex=True.\n",
      "  df.columns = df.columns.str.strip().str.lower().str.replace(' ', '_').str.replace('(', '').str.replace(')', '')\n",
      "/var/folders/nv/b5gt_2xs6_b2b50_jwyn74wm0000gn/T/ipykernel_2616/2885908043.py:14: FutureWarning: The default value of regex will change from True to False in a future version. In addition, single character regular expressions will *not* be treated as literal strings when regex=True.\n",
      "  df.columns = df.columns.str.strip().str.lower().str.replace(' ', '_').str.replace('(', '').str.replace(')', '')\n"
     ]
    },
    {
     "name": "stdout",
     "output_type": "stream",
     "text": [
      "Zip archive: ../data/original/DWD//hourly/precipitation/historical/stundenwerte_RR_00934_20041001_20201231_hist.zip\n",
      "Extract product file: produkt_rr_stunde_20041001_20201231_00934.txt\n",
      "\n"
     ]
    },
    {
     "name": "stderr",
     "output_type": "stream",
     "text": [
      "/var/folders/nv/b5gt_2xs6_b2b50_jwyn74wm0000gn/T/ipykernel_2616/2885908043.py:14: FutureWarning: The default value of regex will change from True to False in a future version. In addition, single character regular expressions will *not* be treated as literal strings when regex=True.\n",
      "  df.columns = df.columns.str.strip().str.lower().str.replace(' ', '_').str.replace('(', '').str.replace(')', '')\n",
      "/var/folders/nv/b5gt_2xs6_b2b50_jwyn74wm0000gn/T/ipykernel_2616/2885908043.py:14: FutureWarning: The default value of regex will change from True to False in a future version. In addition, single character regular expressions will *not* be treated as literal strings when regex=True.\n",
      "  df.columns = df.columns.str.strip().str.lower().str.replace(' ', '_').str.replace('(', '').str.replace(')', '')\n"
     ]
    },
    {
     "name": "stdout",
     "output_type": "stream",
     "text": [
      "Zip archive: ../data/original/DWD//hourly/precipitation/historical/stundenwerte_RR_00989_20050201_20201231_hist.zip\n",
      "Extract product file: produkt_rr_stunde_20050201_20201231_00989.txt\n",
      "\n"
     ]
    },
    {
     "name": "stderr",
     "output_type": "stream",
     "text": [
      "/var/folders/nv/b5gt_2xs6_b2b50_jwyn74wm0000gn/T/ipykernel_2616/2885908043.py:14: FutureWarning: The default value of regex will change from True to False in a future version. In addition, single character regular expressions will *not* be treated as literal strings when regex=True.\n",
      "  df.columns = df.columns.str.strip().str.lower().str.replace(' ', '_').str.replace('(', '').str.replace(')', '')\n",
      "/var/folders/nv/b5gt_2xs6_b2b50_jwyn74wm0000gn/T/ipykernel_2616/2885908043.py:14: FutureWarning: The default value of regex will change from True to False in a future version. In addition, single character regular expressions will *not* be treated as literal strings when regex=True.\n",
      "  df.columns = df.columns.str.strip().str.lower().str.replace(' ', '_').str.replace('(', '').str.replace(')', '')\n"
     ]
    },
    {
     "name": "stdout",
     "output_type": "stream",
     "text": [
      "Zip archive: ../data/original/DWD//hourly/precipitation/historical/stundenwerte_RR_01024_20060801_20201231_hist.zip\n",
      "Extract product file: produkt_rr_stunde_20060801_20201231_01024.txt\n",
      "\n"
     ]
    },
    {
     "name": "stderr",
     "output_type": "stream",
     "text": [
      "/var/folders/nv/b5gt_2xs6_b2b50_jwyn74wm0000gn/T/ipykernel_2616/2885908043.py:14: FutureWarning: The default value of regex will change from True to False in a future version. In addition, single character regular expressions will *not* be treated as literal strings when regex=True.\n",
      "  df.columns = df.columns.str.strip().str.lower().str.replace(' ', '_').str.replace('(', '').str.replace(')', '')\n",
      "/var/folders/nv/b5gt_2xs6_b2b50_jwyn74wm0000gn/T/ipykernel_2616/2885908043.py:14: FutureWarning: The default value of regex will change from True to False in a future version. In addition, single character regular expressions will *not* be treated as literal strings when regex=True.\n",
      "  df.columns = df.columns.str.strip().str.lower().str.replace(' ', '_').str.replace('(', '').str.replace(')', '')\n"
     ]
    },
    {
     "name": "stdout",
     "output_type": "stream",
     "text": [
      "Zip archive: ../data/original/DWD//hourly/precipitation/historical/stundenwerte_RR_01046_20041001_20201231_hist.zip\n",
      "Extract product file: produkt_rr_stunde_20041001_20201231_01046.txt\n",
      "\n"
     ]
    },
    {
     "name": "stderr",
     "output_type": "stream",
     "text": [
      "/var/folders/nv/b5gt_2xs6_b2b50_jwyn74wm0000gn/T/ipykernel_2616/2885908043.py:14: FutureWarning: The default value of regex will change from True to False in a future version. In addition, single character regular expressions will *not* be treated as literal strings when regex=True.\n",
      "  df.columns = df.columns.str.strip().str.lower().str.replace(' ', '_').str.replace('(', '').str.replace(')', '')\n",
      "/var/folders/nv/b5gt_2xs6_b2b50_jwyn74wm0000gn/T/ipykernel_2616/2885908043.py:14: FutureWarning: The default value of regex will change from True to False in a future version. In addition, single character regular expressions will *not* be treated as literal strings when regex=True.\n",
      "  df.columns = df.columns.str.strip().str.lower().str.replace(' ', '_').str.replace('(', '').str.replace(')', '')\n"
     ]
    },
    {
     "name": "stdout",
     "output_type": "stream",
     "text": [
      "Zip archive: ../data/original/DWD//hourly/precipitation/historical/stundenwerte_RR_01078_19950901_20201231_hist.zip\n",
      "Extract product file: produkt_rr_stunde_19950901_20201231_01078.txt\n",
      "\n"
     ]
    },
    {
     "name": "stderr",
     "output_type": "stream",
     "text": [
      "/var/folders/nv/b5gt_2xs6_b2b50_jwyn74wm0000gn/T/ipykernel_2616/2885908043.py:14: FutureWarning: The default value of regex will change from True to False in a future version. In addition, single character regular expressions will *not* be treated as literal strings when regex=True.\n",
      "  df.columns = df.columns.str.strip().str.lower().str.replace(' ', '_').str.replace('(', '').str.replace(')', '')\n",
      "/var/folders/nv/b5gt_2xs6_b2b50_jwyn74wm0000gn/T/ipykernel_2616/2885908043.py:14: FutureWarning: The default value of regex will change from True to False in a future version. In addition, single character regular expressions will *not* be treated as literal strings when regex=True.\n",
      "  df.columns = df.columns.str.strip().str.lower().str.replace(' ', '_').str.replace('(', '').str.replace(')', '')\n"
     ]
    },
    {
     "name": "stdout",
     "output_type": "stream",
     "text": [
      "Zip archive: ../data/original/DWD//hourly/precipitation/historical/stundenwerte_RR_01241_20061201_20201231_hist.zip\n",
      "Extract product file: produkt_rr_stunde_20061201_20201231_01241.txt\n",
      "\n"
     ]
    },
    {
     "name": "stderr",
     "output_type": "stream",
     "text": [
      "/var/folders/nv/b5gt_2xs6_b2b50_jwyn74wm0000gn/T/ipykernel_2616/2885908043.py:14: FutureWarning: The default value of regex will change from True to False in a future version. In addition, single character regular expressions will *not* be treated as literal strings when regex=True.\n",
      "  df.columns = df.columns.str.strip().str.lower().str.replace(' ', '_').str.replace('(', '').str.replace(')', '')\n",
      "/var/folders/nv/b5gt_2xs6_b2b50_jwyn74wm0000gn/T/ipykernel_2616/2885908043.py:14: FutureWarning: The default value of regex will change from True to False in a future version. In addition, single character regular expressions will *not* be treated as literal strings when regex=True.\n",
      "  df.columns = df.columns.str.strip().str.lower().str.replace(' ', '_').str.replace('(', '').str.replace(')', '')\n"
     ]
    },
    {
     "name": "stdout",
     "output_type": "stream",
     "text": [
      "Zip archive: ../data/original/DWD//hourly/precipitation/historical/stundenwerte_RR_01246_20150801_20201231_hist.zip\n",
      "Extract product file: produkt_rr_stunde_20150801_20201231_01246.txt\n",
      "\n"
     ]
    },
    {
     "name": "stderr",
     "output_type": "stream",
     "text": [
      "/var/folders/nv/b5gt_2xs6_b2b50_jwyn74wm0000gn/T/ipykernel_2616/2885908043.py:14: FutureWarning: The default value of regex will change from True to False in a future version. In addition, single character regular expressions will *not* be treated as literal strings when regex=True.\n",
      "  df.columns = df.columns.str.strip().str.lower().str.replace(' ', '_').str.replace('(', '').str.replace(')', '')\n",
      "/var/folders/nv/b5gt_2xs6_b2b50_jwyn74wm0000gn/T/ipykernel_2616/2885908043.py:14: FutureWarning: The default value of regex will change from True to False in a future version. In addition, single character regular expressions will *not* be treated as literal strings when regex=True.\n",
      "  df.columns = df.columns.str.strip().str.lower().str.replace(' ', '_').str.replace('(', '').str.replace(')', '')\n"
     ]
    },
    {
     "name": "stdout",
     "output_type": "stream",
     "text": [
      "Zip archive: ../data/original/DWD//hourly/precipitation/historical/stundenwerte_RR_01300_20040601_20201231_hist.zip\n",
      "Extract product file: produkt_rr_stunde_20040601_20201231_01300.txt\n",
      "\n"
     ]
    },
    {
     "name": "stderr",
     "output_type": "stream",
     "text": [
      "/var/folders/nv/b5gt_2xs6_b2b50_jwyn74wm0000gn/T/ipykernel_2616/2885908043.py:14: FutureWarning: The default value of regex will change from True to False in a future version. In addition, single character regular expressions will *not* be treated as literal strings when regex=True.\n",
      "  df.columns = df.columns.str.strip().str.lower().str.replace(' ', '_').str.replace('(', '').str.replace(')', '')\n",
      "/var/folders/nv/b5gt_2xs6_b2b50_jwyn74wm0000gn/T/ipykernel_2616/2885908043.py:14: FutureWarning: The default value of regex will change from True to False in a future version. In addition, single character regular expressions will *not* be treated as literal strings when regex=True.\n",
      "  df.columns = df.columns.str.strip().str.lower().str.replace(' ', '_').str.replace('(', '').str.replace(')', '')\n"
     ]
    },
    {
     "name": "stdout",
     "output_type": "stream",
     "text": [
      "Zip archive: ../data/original/DWD//hourly/precipitation/historical/stundenwerte_RR_01303_19950901_20201231_hist.zip\n",
      "Extract product file: produkt_rr_stunde_19950901_20201231_01303.txt\n",
      "\n"
     ]
    },
    {
     "name": "stderr",
     "output_type": "stream",
     "text": [
      "/var/folders/nv/b5gt_2xs6_b2b50_jwyn74wm0000gn/T/ipykernel_2616/2885908043.py:14: FutureWarning: The default value of regex will change from True to False in a future version. In addition, single character regular expressions will *not* be treated as literal strings when regex=True.\n",
      "  df.columns = df.columns.str.strip().str.lower().str.replace(' ', '_').str.replace('(', '').str.replace(')', '')\n",
      "/var/folders/nv/b5gt_2xs6_b2b50_jwyn74wm0000gn/T/ipykernel_2616/2885908043.py:14: FutureWarning: The default value of regex will change from True to False in a future version. In addition, single character regular expressions will *not* be treated as literal strings when regex=True.\n",
      "  df.columns = df.columns.str.strip().str.lower().str.replace(' ', '_').str.replace('(', '').str.replace(')', '')\n"
     ]
    },
    {
     "name": "stdout",
     "output_type": "stream",
     "text": [
      "Zip archive: ../data/original/DWD//hourly/precipitation/historical/stundenwerte_RR_01327_20040801_20201231_hist.zip\n",
      "Extract product file: produkt_rr_stunde_20040801_20201231_01327.txt\n",
      "\n"
     ]
    },
    {
     "name": "stderr",
     "output_type": "stream",
     "text": [
      "/var/folders/nv/b5gt_2xs6_b2b50_jwyn74wm0000gn/T/ipykernel_2616/2885908043.py:14: FutureWarning: The default value of regex will change from True to False in a future version. In addition, single character regular expressions will *not* be treated as literal strings when regex=True.\n",
      "  df.columns = df.columns.str.strip().str.lower().str.replace(' ', '_').str.replace('(', '').str.replace(')', '')\n",
      "/var/folders/nv/b5gt_2xs6_b2b50_jwyn74wm0000gn/T/ipykernel_2616/2885908043.py:14: FutureWarning: The default value of regex will change from True to False in a future version. In addition, single character regular expressions will *not* be treated as literal strings when regex=True.\n",
      "  df.columns = df.columns.str.strip().str.lower().str.replace(' ', '_').str.replace('(', '').str.replace(')', '')\n"
     ]
    },
    {
     "name": "stdout",
     "output_type": "stream",
     "text": [
      "Zip archive: ../data/original/DWD//hourly/precipitation/historical/stundenwerte_RR_01590_20030701_20201231_hist.zip\n",
      "Extract product file: produkt_rr_stunde_20030701_20201231_01590.txt\n",
      "\n"
     ]
    },
    {
     "name": "stderr",
     "output_type": "stream",
     "text": [
      "/var/folders/nv/b5gt_2xs6_b2b50_jwyn74wm0000gn/T/ipykernel_2616/2885908043.py:14: FutureWarning: The default value of regex will change from True to False in a future version. In addition, single character regular expressions will *not* be treated as literal strings when regex=True.\n",
      "  df.columns = df.columns.str.strip().str.lower().str.replace(' ', '_').str.replace('(', '').str.replace(')', '')\n",
      "/var/folders/nv/b5gt_2xs6_b2b50_jwyn74wm0000gn/T/ipykernel_2616/2885908043.py:14: FutureWarning: The default value of regex will change from True to False in a future version. In addition, single character regular expressions will *not* be treated as literal strings when regex=True.\n",
      "  df.columns = df.columns.str.strip().str.lower().str.replace(' ', '_').str.replace('(', '').str.replace(')', '')\n"
     ]
    },
    {
     "name": "stdout",
     "output_type": "stream",
     "text": [
      "Zip archive: ../data/original/DWD//hourly/precipitation/historical/stundenwerte_RR_01595_20121001_20201231_hist.zip\n",
      "Extract product file: produkt_rr_stunde_20121001_20201231_01595.txt\n",
      "\n"
     ]
    },
    {
     "name": "stderr",
     "output_type": "stream",
     "text": [
      "/var/folders/nv/b5gt_2xs6_b2b50_jwyn74wm0000gn/T/ipykernel_2616/2885908043.py:14: FutureWarning: The default value of regex will change from True to False in a future version. In addition, single character regular expressions will *not* be treated as literal strings when regex=True.\n",
      "  df.columns = df.columns.str.strip().str.lower().str.replace(' ', '_').str.replace('(', '').str.replace(')', '')\n",
      "/var/folders/nv/b5gt_2xs6_b2b50_jwyn74wm0000gn/T/ipykernel_2616/2885908043.py:14: FutureWarning: The default value of regex will change from True to False in a future version. In addition, single character regular expressions will *not* be treated as literal strings when regex=True.\n",
      "  df.columns = df.columns.str.strip().str.lower().str.replace(' ', '_').str.replace('(', '').str.replace(')', '')\n"
     ]
    },
    {
     "name": "stdout",
     "output_type": "stream",
     "text": [
      "Zip archive: ../data/original/DWD//hourly/precipitation/historical/stundenwerte_RR_01766_19950901_20201231_hist.zip\n",
      "Extract product file: produkt_rr_stunde_19950901_20201231_01766.txt\n",
      "\n"
     ]
    },
    {
     "name": "stderr",
     "output_type": "stream",
     "text": [
      "/var/folders/nv/b5gt_2xs6_b2b50_jwyn74wm0000gn/T/ipykernel_2616/2885908043.py:14: FutureWarning: The default value of regex will change from True to False in a future version. In addition, single character regular expressions will *not* be treated as literal strings when regex=True.\n",
      "  df.columns = df.columns.str.strip().str.lower().str.replace(' ', '_').str.replace('(', '').str.replace(')', '')\n",
      "/var/folders/nv/b5gt_2xs6_b2b50_jwyn74wm0000gn/T/ipykernel_2616/2885908043.py:14: FutureWarning: The default value of regex will change from True to False in a future version. In addition, single character regular expressions will *not* be treated as literal strings when regex=True.\n",
      "  df.columns = df.columns.str.strip().str.lower().str.replace(' ', '_').str.replace('(', '').str.replace(')', '')\n"
     ]
    },
    {
     "name": "stdout",
     "output_type": "stream",
     "text": [
      "Zip archive: ../data/original/DWD//hourly/precipitation/historical/stundenwerte_RR_02027_20060601_20201231_hist.zip\n",
      "Extract product file: produkt_rr_stunde_20060601_20201231_02027.txt\n",
      "\n"
     ]
    },
    {
     "name": "stderr",
     "output_type": "stream",
     "text": [
      "/var/folders/nv/b5gt_2xs6_b2b50_jwyn74wm0000gn/T/ipykernel_2616/2885908043.py:14: FutureWarning: The default value of regex will change from True to False in a future version. In addition, single character regular expressions will *not* be treated as literal strings when regex=True.\n",
      "  df.columns = df.columns.str.strip().str.lower().str.replace(' ', '_').str.replace('(', '').str.replace(')', '')\n",
      "/var/folders/nv/b5gt_2xs6_b2b50_jwyn74wm0000gn/T/ipykernel_2616/2885908043.py:14: FutureWarning: The default value of regex will change from True to False in a future version. In addition, single character regular expressions will *not* be treated as literal strings when regex=True.\n",
      "  df.columns = df.columns.str.strip().str.lower().str.replace(' ', '_').str.replace('(', '').str.replace(')', '')\n"
     ]
    },
    {
     "name": "stdout",
     "output_type": "stream",
     "text": [
      "Zip archive: ../data/original/DWD//hourly/precipitation/historical/stundenwerte_RR_02110_20030105_20201231_hist.zip\n",
      "Extract product file: produkt_rr_stunde_20030105_20201231_02110.txt\n",
      "\n"
     ]
    },
    {
     "name": "stderr",
     "output_type": "stream",
     "text": [
      "/var/folders/nv/b5gt_2xs6_b2b50_jwyn74wm0000gn/T/ipykernel_2616/2885908043.py:14: FutureWarning: The default value of regex will change from True to False in a future version. In addition, single character regular expressions will *not* be treated as literal strings when regex=True.\n",
      "  df.columns = df.columns.str.strip().str.lower().str.replace(' ', '_').str.replace('(', '').str.replace(')', '')\n",
      "/var/folders/nv/b5gt_2xs6_b2b50_jwyn74wm0000gn/T/ipykernel_2616/2885908043.py:14: FutureWarning: The default value of regex will change from True to False in a future version. In addition, single character regular expressions will *not* be treated as literal strings when regex=True.\n",
      "  df.columns = df.columns.str.strip().str.lower().str.replace(' ', '_').str.replace('(', '').str.replace(')', '')\n"
     ]
    },
    {
     "name": "stdout",
     "output_type": "stream",
     "text": [
      "Zip archive: ../data/original/DWD//hourly/precipitation/historical/stundenwerte_RR_02254_20050601_20201231_hist.zip\n",
      "Extract product file: produkt_rr_stunde_20050601_20201231_02254.txt\n",
      "\n"
     ]
    },
    {
     "name": "stderr",
     "output_type": "stream",
     "text": [
      "/var/folders/nv/b5gt_2xs6_b2b50_jwyn74wm0000gn/T/ipykernel_2616/2885908043.py:14: FutureWarning: The default value of regex will change from True to False in a future version. In addition, single character regular expressions will *not* be treated as literal strings when regex=True.\n",
      "  df.columns = df.columns.str.strip().str.lower().str.replace(' ', '_').str.replace('(', '').str.replace(')', '')\n",
      "/var/folders/nv/b5gt_2xs6_b2b50_jwyn74wm0000gn/T/ipykernel_2616/2885908043.py:14: FutureWarning: The default value of regex will change from True to False in a future version. In addition, single character regular expressions will *not* be treated as literal strings when regex=True.\n",
      "  df.columns = df.columns.str.strip().str.lower().str.replace(' ', '_').str.replace('(', '').str.replace(')', '')\n"
     ]
    },
    {
     "name": "stdout",
     "output_type": "stream",
     "text": [
      "Zip archive: ../data/original/DWD//hourly/precipitation/historical/stundenwerte_RR_02473_20041201_20201231_hist.zip\n",
      "Extract product file: produkt_rr_stunde_20041201_20201231_02473.txt\n",
      "\n"
     ]
    },
    {
     "name": "stderr",
     "output_type": "stream",
     "text": [
      "/var/folders/nv/b5gt_2xs6_b2b50_jwyn74wm0000gn/T/ipykernel_2616/2885908043.py:14: FutureWarning: The default value of regex will change from True to False in a future version. In addition, single character regular expressions will *not* be treated as literal strings when regex=True.\n",
      "  df.columns = df.columns.str.strip().str.lower().str.replace(' ', '_').str.replace('(', '').str.replace(')', '')\n",
      "/var/folders/nv/b5gt_2xs6_b2b50_jwyn74wm0000gn/T/ipykernel_2616/2885908043.py:14: FutureWarning: The default value of regex will change from True to False in a future version. In addition, single character regular expressions will *not* be treated as literal strings when regex=True.\n",
      "  df.columns = df.columns.str.strip().str.lower().str.replace(' ', '_').str.replace('(', '').str.replace(')', '')\n"
     ]
    },
    {
     "name": "stdout",
     "output_type": "stream",
     "text": [
      "Zip archive: ../data/original/DWD//hourly/precipitation/historical/stundenwerte_RR_02483_19951012_20201231_hist.zip\n",
      "Extract product file: produkt_rr_stunde_19951012_20201231_02483.txt\n",
      "\n"
     ]
    },
    {
     "name": "stderr",
     "output_type": "stream",
     "text": [
      "/var/folders/nv/b5gt_2xs6_b2b50_jwyn74wm0000gn/T/ipykernel_2616/2885908043.py:14: FutureWarning: The default value of regex will change from True to False in a future version. In addition, single character regular expressions will *not* be treated as literal strings when regex=True.\n",
      "  df.columns = df.columns.str.strip().str.lower().str.replace(' ', '_').str.replace('(', '').str.replace(')', '')\n",
      "/var/folders/nv/b5gt_2xs6_b2b50_jwyn74wm0000gn/T/ipykernel_2616/2885908043.py:14: FutureWarning: The default value of regex will change from True to False in a future version. In addition, single character regular expressions will *not* be treated as literal strings when regex=True.\n",
      "  df.columns = df.columns.str.strip().str.lower().str.replace(' ', '_').str.replace('(', '').str.replace(')', '')\n"
     ]
    },
    {
     "name": "stdout",
     "output_type": "stream",
     "text": [
      "Zip archive: ../data/original/DWD//hourly/precipitation/historical/stundenwerte_RR_02497_20040801_20201231_hist.zip\n",
      "Extract product file: produkt_rr_stunde_20040801_20201231_02497.txt\n",
      "\n"
     ]
    },
    {
     "name": "stderr",
     "output_type": "stream",
     "text": [
      "/var/folders/nv/b5gt_2xs6_b2b50_jwyn74wm0000gn/T/ipykernel_2616/2885908043.py:14: FutureWarning: The default value of regex will change from True to False in a future version. In addition, single character regular expressions will *not* be treated as literal strings when regex=True.\n",
      "  df.columns = df.columns.str.strip().str.lower().str.replace(' ', '_').str.replace('(', '').str.replace(')', '')\n",
      "/var/folders/nv/b5gt_2xs6_b2b50_jwyn74wm0000gn/T/ipykernel_2616/2885908043.py:14: FutureWarning: The default value of regex will change from True to False in a future version. In addition, single character regular expressions will *not* be treated as literal strings when regex=True.\n",
      "  df.columns = df.columns.str.strip().str.lower().str.replace(' ', '_').str.replace('(', '').str.replace(')', '')\n"
     ]
    },
    {
     "name": "stdout",
     "output_type": "stream",
     "text": [
      "Zip archive: ../data/original/DWD//hourly/precipitation/historical/stundenwerte_RR_02629_20040701_20201231_hist.zip\n",
      "Extract product file: produkt_rr_stunde_20040701_20201231_02629.txt\n",
      "\n"
     ]
    },
    {
     "name": "stderr",
     "output_type": "stream",
     "text": [
      "/var/folders/nv/b5gt_2xs6_b2b50_jwyn74wm0000gn/T/ipykernel_2616/2885908043.py:14: FutureWarning: The default value of regex will change from True to False in a future version. In addition, single character regular expressions will *not* be treated as literal strings when regex=True.\n",
      "  df.columns = df.columns.str.strip().str.lower().str.replace(' ', '_').str.replace('(', '').str.replace(')', '')\n",
      "/var/folders/nv/b5gt_2xs6_b2b50_jwyn74wm0000gn/T/ipykernel_2616/2885908043.py:14: FutureWarning: The default value of regex will change from True to False in a future version. In addition, single character regular expressions will *not* be treated as literal strings when regex=True.\n",
      "  df.columns = df.columns.str.strip().str.lower().str.replace(' ', '_').str.replace('(', '').str.replace(')', '')\n"
     ]
    },
    {
     "name": "stdout",
     "output_type": "stream",
     "text": [
      "Zip archive: ../data/original/DWD//hourly/precipitation/historical/stundenwerte_RR_02667_19950901_20201231_hist.zip\n",
      "Extract product file: produkt_rr_stunde_19950901_20201231_02667.txt\n",
      "\n"
     ]
    },
    {
     "name": "stderr",
     "output_type": "stream",
     "text": [
      "/var/folders/nv/b5gt_2xs6_b2b50_jwyn74wm0000gn/T/ipykernel_2616/2885908043.py:14: FutureWarning: The default value of regex will change from True to False in a future version. In addition, single character regular expressions will *not* be treated as literal strings when regex=True.\n",
      "  df.columns = df.columns.str.strip().str.lower().str.replace(' ', '_').str.replace('(', '').str.replace(')', '')\n",
      "/var/folders/nv/b5gt_2xs6_b2b50_jwyn74wm0000gn/T/ipykernel_2616/2885908043.py:14: FutureWarning: The default value of regex will change from True to False in a future version. In addition, single character regular expressions will *not* be treated as literal strings when regex=True.\n",
      "  df.columns = df.columns.str.strip().str.lower().str.replace(' ', '_').str.replace('(', '').str.replace(')', '')\n"
     ]
    },
    {
     "name": "stdout",
     "output_type": "stream",
     "text": [
      "Zip archive: ../data/original/DWD//hourly/precipitation/historical/stundenwerte_RR_02703_19950901_20001010_hist.zip\n",
      "Extract product file: produkt_rr_stunde_19950901_20001010_02703.txt\n",
      "\n"
     ]
    },
    {
     "name": "stderr",
     "output_type": "stream",
     "text": [
      "/var/folders/nv/b5gt_2xs6_b2b50_jwyn74wm0000gn/T/ipykernel_2616/2885908043.py:14: FutureWarning: The default value of regex will change from True to False in a future version. In addition, single character regular expressions will *not* be treated as literal strings when regex=True.\n",
      "  df.columns = df.columns.str.strip().str.lower().str.replace(' ', '_').str.replace('(', '').str.replace(')', '')\n",
      "/var/folders/nv/b5gt_2xs6_b2b50_jwyn74wm0000gn/T/ipykernel_2616/2885908043.py:14: FutureWarning: The default value of regex will change from True to False in a future version. In addition, single character regular expressions will *not* be treated as literal strings when regex=True.\n",
      "  df.columns = df.columns.str.strip().str.lower().str.replace(' ', '_').str.replace('(', '').str.replace(')', '')\n"
     ]
    },
    {
     "name": "stdout",
     "output_type": "stream",
     "text": [
      "Zip archive: ../data/original/DWD//hourly/precipitation/historical/stundenwerte_RR_02810_20061201_20201231_hist.zip\n",
      "Extract product file: produkt_rr_stunde_20061201_20201231_02810.txt\n",
      "\n"
     ]
    },
    {
     "name": "stderr",
     "output_type": "stream",
     "text": [
      "/var/folders/nv/b5gt_2xs6_b2b50_jwyn74wm0000gn/T/ipykernel_2616/2885908043.py:14: FutureWarning: The default value of regex will change from True to False in a future version. In addition, single character regular expressions will *not* be treated as literal strings when regex=True.\n",
      "  df.columns = df.columns.str.strip().str.lower().str.replace(' ', '_').str.replace('(', '').str.replace(')', '')\n",
      "/var/folders/nv/b5gt_2xs6_b2b50_jwyn74wm0000gn/T/ipykernel_2616/2885908043.py:14: FutureWarning: The default value of regex will change from True to False in a future version. In addition, single character regular expressions will *not* be treated as literal strings when regex=True.\n",
      "  df.columns = df.columns.str.strip().str.lower().str.replace(' ', '_').str.replace('(', '').str.replace(')', '')\n"
     ]
    },
    {
     "name": "stdout",
     "output_type": "stream",
     "text": [
      "Zip archive: ../data/original/DWD//hourly/precipitation/historical/stundenwerte_RR_02947_20061001_20201231_hist.zip\n",
      "Extract product file: produkt_rr_stunde_20061001_20201231_02947.txt\n",
      "\n"
     ]
    },
    {
     "name": "stderr",
     "output_type": "stream",
     "text": [
      "/var/folders/nv/b5gt_2xs6_b2b50_jwyn74wm0000gn/T/ipykernel_2616/2885908043.py:14: FutureWarning: The default value of regex will change from True to False in a future version. In addition, single character regular expressions will *not* be treated as literal strings when regex=True.\n",
      "  df.columns = df.columns.str.strip().str.lower().str.replace(' ', '_').str.replace('(', '').str.replace(')', '')\n",
      "/var/folders/nv/b5gt_2xs6_b2b50_jwyn74wm0000gn/T/ipykernel_2616/2885908043.py:14: FutureWarning: The default value of regex will change from True to False in a future version. In addition, single character regular expressions will *not* be treated as literal strings when regex=True.\n",
      "  df.columns = df.columns.str.strip().str.lower().str.replace(' ', '_').str.replace('(', '').str.replace(')', '')\n"
     ]
    },
    {
     "name": "stdout",
     "output_type": "stream",
     "text": [
      "Zip archive: ../data/original/DWD//hourly/precipitation/historical/stundenwerte_RR_02968_20081201_20201231_hist.zip\n",
      "Extract product file: produkt_rr_stunde_20081201_20201231_02968.txt\n",
      "\n"
     ]
    },
    {
     "name": "stderr",
     "output_type": "stream",
     "text": [
      "/var/folders/nv/b5gt_2xs6_b2b50_jwyn74wm0000gn/T/ipykernel_2616/2885908043.py:14: FutureWarning: The default value of regex will change from True to False in a future version. In addition, single character regular expressions will *not* be treated as literal strings when regex=True.\n",
      "  df.columns = df.columns.str.strip().str.lower().str.replace(' ', '_').str.replace('(', '').str.replace(')', '')\n",
      "/var/folders/nv/b5gt_2xs6_b2b50_jwyn74wm0000gn/T/ipykernel_2616/2885908043.py:14: FutureWarning: The default value of regex will change from True to False in a future version. In addition, single character regular expressions will *not* be treated as literal strings when regex=True.\n",
      "  df.columns = df.columns.str.strip().str.lower().str.replace(' ', '_').str.replace('(', '').str.replace(')', '')\n"
     ]
    },
    {
     "name": "stdout",
     "output_type": "stream",
     "text": [
      "Zip archive: ../data/original/DWD//hourly/precipitation/historical/stundenwerte_RR_02999_20040701_20201231_hist.zip\n",
      "Extract product file: produkt_rr_stunde_20040701_20201231_02999.txt\n",
      "\n"
     ]
    },
    {
     "name": "stderr",
     "output_type": "stream",
     "text": [
      "/var/folders/nv/b5gt_2xs6_b2b50_jwyn74wm0000gn/T/ipykernel_2616/2885908043.py:14: FutureWarning: The default value of regex will change from True to False in a future version. In addition, single character regular expressions will *not* be treated as literal strings when regex=True.\n",
      "  df.columns = df.columns.str.strip().str.lower().str.replace(' ', '_').str.replace('(', '').str.replace(')', '')\n",
      "/var/folders/nv/b5gt_2xs6_b2b50_jwyn74wm0000gn/T/ipykernel_2616/2885908043.py:14: FutureWarning: The default value of regex will change from True to False in a future version. In addition, single character regular expressions will *not* be treated as literal strings when regex=True.\n",
      "  df.columns = df.columns.str.strip().str.lower().str.replace(' ', '_').str.replace('(', '').str.replace(')', '')\n"
     ]
    },
    {
     "name": "stdout",
     "output_type": "stream",
     "text": [
      "Zip archive: ../data/original/DWD//hourly/precipitation/historical/stundenwerte_RR_03028_19950901_20201231_hist.zip\n",
      "Extract product file: produkt_rr_stunde_19950901_20201231_03028.txt\n",
      "\n"
     ]
    },
    {
     "name": "stderr",
     "output_type": "stream",
     "text": [
      "/var/folders/nv/b5gt_2xs6_b2b50_jwyn74wm0000gn/T/ipykernel_2616/2885908043.py:14: FutureWarning: The default value of regex will change from True to False in a future version. In addition, single character regular expressions will *not* be treated as literal strings when regex=True.\n",
      "  df.columns = df.columns.str.strip().str.lower().str.replace(' ', '_').str.replace('(', '').str.replace(')', '')\n",
      "/var/folders/nv/b5gt_2xs6_b2b50_jwyn74wm0000gn/T/ipykernel_2616/2885908043.py:14: FutureWarning: The default value of regex will change from True to False in a future version. In addition, single character regular expressions will *not* be treated as literal strings when regex=True.\n",
      "  df.columns = df.columns.str.strip().str.lower().str.replace(' ', '_').str.replace('(', '').str.replace(')', '')\n"
     ]
    },
    {
     "name": "stdout",
     "output_type": "stream",
     "text": [
      "Zip archive: ../data/original/DWD//hourly/precipitation/historical/stundenwerte_RR_03031_20040701_20201231_hist.zip\n",
      "Extract product file: produkt_rr_stunde_20040701_20201231_03031.txt\n",
      "\n"
     ]
    },
    {
     "name": "stderr",
     "output_type": "stream",
     "text": [
      "/var/folders/nv/b5gt_2xs6_b2b50_jwyn74wm0000gn/T/ipykernel_2616/2885908043.py:14: FutureWarning: The default value of regex will change from True to False in a future version. In addition, single character regular expressions will *not* be treated as literal strings when regex=True.\n",
      "  df.columns = df.columns.str.strip().str.lower().str.replace(' ', '_').str.replace('(', '').str.replace(')', '')\n",
      "/var/folders/nv/b5gt_2xs6_b2b50_jwyn74wm0000gn/T/ipykernel_2616/2885908043.py:14: FutureWarning: The default value of regex will change from True to False in a future version. In addition, single character regular expressions will *not* be treated as literal strings when regex=True.\n",
      "  df.columns = df.columns.str.strip().str.lower().str.replace(' ', '_').str.replace('(', '').str.replace(')', '')\n"
     ]
    },
    {
     "name": "stdout",
     "output_type": "stream",
     "text": [
      "Zip archive: ../data/original/DWD//hourly/precipitation/historical/stundenwerte_RR_03081_20071201_20201231_hist.zip\n",
      "Extract product file: produkt_rr_stunde_20071201_20201231_03081.txt\n",
      "\n"
     ]
    },
    {
     "name": "stderr",
     "output_type": "stream",
     "text": [
      "/var/folders/nv/b5gt_2xs6_b2b50_jwyn74wm0000gn/T/ipykernel_2616/2885908043.py:14: FutureWarning: The default value of regex will change from True to False in a future version. In addition, single character regular expressions will *not* be treated as literal strings when regex=True.\n",
      "  df.columns = df.columns.str.strip().str.lower().str.replace(' ', '_').str.replace('(', '').str.replace(')', '')\n",
      "/var/folders/nv/b5gt_2xs6_b2b50_jwyn74wm0000gn/T/ipykernel_2616/2885908043.py:14: FutureWarning: The default value of regex will change from True to False in a future version. In addition, single character regular expressions will *not* be treated as literal strings when regex=True.\n",
      "  df.columns = df.columns.str.strip().str.lower().str.replace(' ', '_').str.replace('(', '').str.replace(')', '')\n"
     ]
    },
    {
     "name": "stdout",
     "output_type": "stream",
     "text": [
      "Zip archive: ../data/original/DWD//hourly/precipitation/historical/stundenwerte_RR_03098_19950901_20201231_hist.zip\n",
      "Extract product file: produkt_rr_stunde_19950901_20201231_03098.txt\n",
      "\n"
     ]
    },
    {
     "name": "stderr",
     "output_type": "stream",
     "text": [
      "/var/folders/nv/b5gt_2xs6_b2b50_jwyn74wm0000gn/T/ipykernel_2616/2885908043.py:14: FutureWarning: The default value of regex will change from True to False in a future version. In addition, single character regular expressions will *not* be treated as literal strings when regex=True.\n",
      "  df.columns = df.columns.str.strip().str.lower().str.replace(' ', '_').str.replace('(', '').str.replace(')', '')\n",
      "/var/folders/nv/b5gt_2xs6_b2b50_jwyn74wm0000gn/T/ipykernel_2616/2885908043.py:14: FutureWarning: The default value of regex will change from True to False in a future version. In addition, single character regular expressions will *not* be treated as literal strings when regex=True.\n",
      "  df.columns = df.columns.str.strip().str.lower().str.replace(' ', '_').str.replace('(', '').str.replace(')', '')\n"
     ]
    },
    {
     "name": "stdout",
     "output_type": "stream",
     "text": [
      "Zip archive: ../data/original/DWD//hourly/precipitation/historical/stundenwerte_RR_03215_20070601_20201231_hist.zip\n",
      "Extract product file: produkt_rr_stunde_20070601_20201231_03215.txt\n",
      "\n"
     ]
    },
    {
     "name": "stderr",
     "output_type": "stream",
     "text": [
      "/var/folders/nv/b5gt_2xs6_b2b50_jwyn74wm0000gn/T/ipykernel_2616/2885908043.py:14: FutureWarning: The default value of regex will change from True to False in a future version. In addition, single character regular expressions will *not* be treated as literal strings when regex=True.\n",
      "  df.columns = df.columns.str.strip().str.lower().str.replace(' ', '_').str.replace('(', '').str.replace(')', '')\n",
      "/var/folders/nv/b5gt_2xs6_b2b50_jwyn74wm0000gn/T/ipykernel_2616/2885908043.py:14: FutureWarning: The default value of regex will change from True to False in a future version. In addition, single character regular expressions will *not* be treated as literal strings when regex=True.\n",
      "  df.columns = df.columns.str.strip().str.lower().str.replace(' ', '_').str.replace('(', '').str.replace(')', '')\n"
     ]
    },
    {
     "name": "stdout",
     "output_type": "stream",
     "text": [
      "Zip archive: ../data/original/DWD//hourly/precipitation/historical/stundenwerte_RR_03321_20050701_20201231_hist.zip\n",
      "Extract product file: produkt_rr_stunde_20050701_20201231_03321.txt\n",
      "\n"
     ]
    },
    {
     "name": "stderr",
     "output_type": "stream",
     "text": [
      "/var/folders/nv/b5gt_2xs6_b2b50_jwyn74wm0000gn/T/ipykernel_2616/2885908043.py:14: FutureWarning: The default value of regex will change from True to False in a future version. In addition, single character regular expressions will *not* be treated as literal strings when regex=True.\n",
      "  df.columns = df.columns.str.strip().str.lower().str.replace(' ', '_').str.replace('(', '').str.replace(')', '')\n",
      "/var/folders/nv/b5gt_2xs6_b2b50_jwyn74wm0000gn/T/ipykernel_2616/2885908043.py:14: FutureWarning: The default value of regex will change from True to False in a future version. In addition, single character regular expressions will *not* be treated as literal strings when regex=True.\n",
      "  df.columns = df.columns.str.strip().str.lower().str.replace(' ', '_').str.replace('(', '').str.replace(')', '')\n"
     ]
    },
    {
     "name": "stdout",
     "output_type": "stream",
     "text": [
      "Zip archive: ../data/original/DWD//hourly/precipitation/historical/stundenwerte_RR_03339_20060901_20201231_hist.zip\n",
      "Extract product file: produkt_rr_stunde_20060901_20201231_03339.txt\n",
      "\n"
     ]
    },
    {
     "name": "stderr",
     "output_type": "stream",
     "text": [
      "/var/folders/nv/b5gt_2xs6_b2b50_jwyn74wm0000gn/T/ipykernel_2616/2885908043.py:14: FutureWarning: The default value of regex will change from True to False in a future version. In addition, single character regular expressions will *not* be treated as literal strings when regex=True.\n",
      "  df.columns = df.columns.str.strip().str.lower().str.replace(' ', '_').str.replace('(', '').str.replace(')', '')\n",
      "/var/folders/nv/b5gt_2xs6_b2b50_jwyn74wm0000gn/T/ipykernel_2616/2885908043.py:14: FutureWarning: The default value of regex will change from True to False in a future version. In addition, single character regular expressions will *not* be treated as literal strings when regex=True.\n",
      "  df.columns = df.columns.str.strip().str.lower().str.replace(' ', '_').str.replace('(', '').str.replace(')', '')\n"
     ]
    },
    {
     "name": "stdout",
     "output_type": "stream",
     "text": [
      "Zip archive: ../data/original/DWD//hourly/precipitation/historical/stundenwerte_RR_03499_20060701_20201231_hist.zip\n",
      "Extract product file: produkt_rr_stunde_20060701_20201231_03499.txt\n",
      "\n"
     ]
    },
    {
     "name": "stderr",
     "output_type": "stream",
     "text": [
      "/var/folders/nv/b5gt_2xs6_b2b50_jwyn74wm0000gn/T/ipykernel_2616/2885908043.py:14: FutureWarning: The default value of regex will change from True to False in a future version. In addition, single character regular expressions will *not* be treated as literal strings when regex=True.\n",
      "  df.columns = df.columns.str.strip().str.lower().str.replace(' ', '_').str.replace('(', '').str.replace(')', '')\n",
      "/var/folders/nv/b5gt_2xs6_b2b50_jwyn74wm0000gn/T/ipykernel_2616/2885908043.py:14: FutureWarning: The default value of regex will change from True to False in a future version. In addition, single character regular expressions will *not* be treated as literal strings when regex=True.\n",
      "  df.columns = df.columns.str.strip().str.lower().str.replace(' ', '_').str.replace('(', '').str.replace(')', '')\n"
     ]
    },
    {
     "name": "stdout",
     "output_type": "stream",
     "text": [
      "Zip archive: ../data/original/DWD//hourly/precipitation/historical/stundenwerte_RR_03540_20041101_20201231_hist.zip\n",
      "Extract product file: produkt_rr_stunde_20041101_20201231_03540.txt\n",
      "\n"
     ]
    },
    {
     "name": "stderr",
     "output_type": "stream",
     "text": [
      "/var/folders/nv/b5gt_2xs6_b2b50_jwyn74wm0000gn/T/ipykernel_2616/2885908043.py:14: FutureWarning: The default value of regex will change from True to False in a future version. In addition, single character regular expressions will *not* be treated as literal strings when regex=True.\n",
      "  df.columns = df.columns.str.strip().str.lower().str.replace(' ', '_').str.replace('(', '').str.replace(')', '')\n",
      "/var/folders/nv/b5gt_2xs6_b2b50_jwyn74wm0000gn/T/ipykernel_2616/2885908043.py:14: FutureWarning: The default value of regex will change from True to False in a future version. In addition, single character regular expressions will *not* be treated as literal strings when regex=True.\n",
      "  df.columns = df.columns.str.strip().str.lower().str.replace(' ', '_').str.replace('(', '').str.replace(')', '')\n"
     ]
    },
    {
     "name": "stdout",
     "output_type": "stream",
     "text": [
      "Zip archive: ../data/original/DWD//hourly/precipitation/historical/stundenwerte_RR_03591_20040601_20201231_hist.zip\n",
      "Extract product file: produkt_rr_stunde_20040601_20201231_03591.txt\n",
      "\n"
     ]
    },
    {
     "name": "stderr",
     "output_type": "stream",
     "text": [
      "/var/folders/nv/b5gt_2xs6_b2b50_jwyn74wm0000gn/T/ipykernel_2616/2885908043.py:14: FutureWarning: The default value of regex will change from True to False in a future version. In addition, single character regular expressions will *not* be treated as literal strings when regex=True.\n",
      "  df.columns = df.columns.str.strip().str.lower().str.replace(' ', '_').str.replace('(', '').str.replace(')', '')\n",
      "/var/folders/nv/b5gt_2xs6_b2b50_jwyn74wm0000gn/T/ipykernel_2616/2885908043.py:14: FutureWarning: The default value of regex will change from True to False in a future version. In addition, single character regular expressions will *not* be treated as literal strings when regex=True.\n",
      "  df.columns = df.columns.str.strip().str.lower().str.replace(' ', '_').str.replace('(', '').str.replace(')', '')\n"
     ]
    },
    {
     "name": "stdout",
     "output_type": "stream",
     "text": [
      "Zip archive: ../data/original/DWD//hourly/precipitation/historical/stundenwerte_RR_03795_20041201_20201231_hist.zip\n",
      "Extract product file: produkt_rr_stunde_20041201_20201231_03795.txt\n",
      "\n"
     ]
    },
    {
     "name": "stderr",
     "output_type": "stream",
     "text": [
      "/var/folders/nv/b5gt_2xs6_b2b50_jwyn74wm0000gn/T/ipykernel_2616/2885908043.py:14: FutureWarning: The default value of regex will change from True to False in a future version. In addition, single character regular expressions will *not* be treated as literal strings when regex=True.\n",
      "  df.columns = df.columns.str.strip().str.lower().str.replace(' ', '_').str.replace('(', '').str.replace(')', '')\n",
      "/var/folders/nv/b5gt_2xs6_b2b50_jwyn74wm0000gn/T/ipykernel_2616/2885908043.py:14: FutureWarning: The default value of regex will change from True to False in a future version. In addition, single character regular expressions will *not* be treated as literal strings when regex=True.\n",
      "  df.columns = df.columns.str.strip().str.lower().str.replace(' ', '_').str.replace('(', '').str.replace(')', '')\n"
     ]
    },
    {
     "name": "stdout",
     "output_type": "stream",
     "text": [
      "Zip archive: ../data/original/DWD//hourly/precipitation/historical/stundenwerte_RR_03913_20040701_20201231_hist.zip\n",
      "Extract product file: produkt_rr_stunde_20040701_20201231_03913.txt\n",
      "\n"
     ]
    },
    {
     "name": "stderr",
     "output_type": "stream",
     "text": [
      "/var/folders/nv/b5gt_2xs6_b2b50_jwyn74wm0000gn/T/ipykernel_2616/2885908043.py:14: FutureWarning: The default value of regex will change from True to False in a future version. In addition, single character regular expressions will *not* be treated as literal strings when regex=True.\n",
      "  df.columns = df.columns.str.strip().str.lower().str.replace(' ', '_').str.replace('(', '').str.replace(')', '')\n",
      "/var/folders/nv/b5gt_2xs6_b2b50_jwyn74wm0000gn/T/ipykernel_2616/2885908043.py:14: FutureWarning: The default value of regex will change from True to False in a future version. In addition, single character regular expressions will *not* be treated as literal strings when regex=True.\n",
      "  df.columns = df.columns.str.strip().str.lower().str.replace(' ', '_').str.replace('(', '').str.replace(')', '')\n"
     ]
    },
    {
     "name": "stdout",
     "output_type": "stream",
     "text": [
      "Zip archive: ../data/original/DWD//hourly/precipitation/historical/stundenwerte_RR_04063_20030701_20201231_hist.zip\n",
      "Extract product file: produkt_rr_stunde_20030701_20201231_04063.txt\n",
      "\n"
     ]
    },
    {
     "name": "stderr",
     "output_type": "stream",
     "text": [
      "/var/folders/nv/b5gt_2xs6_b2b50_jwyn74wm0000gn/T/ipykernel_2616/2885908043.py:14: FutureWarning: The default value of regex will change from True to False in a future version. In addition, single character regular expressions will *not* be treated as literal strings when regex=True.\n",
      "  df.columns = df.columns.str.strip().str.lower().str.replace(' ', '_').str.replace('(', '').str.replace(')', '')\n",
      "/var/folders/nv/b5gt_2xs6_b2b50_jwyn74wm0000gn/T/ipykernel_2616/2885908043.py:14: FutureWarning: The default value of regex will change from True to False in a future version. In addition, single character regular expressions will *not* be treated as literal strings when regex=True.\n",
      "  df.columns = df.columns.str.strip().str.lower().str.replace(' ', '_').str.replace('(', '').str.replace(')', '')\n"
     ]
    },
    {
     "name": "stdout",
     "output_type": "stream",
     "text": [
      "Zip archive: ../data/original/DWD//hourly/precipitation/historical/stundenwerte_RR_04127_20050101_20201231_hist.zip\n",
      "Extract product file: produkt_rr_stunde_20050101_20201231_04127.txt\n",
      "\n"
     ]
    },
    {
     "name": "stderr",
     "output_type": "stream",
     "text": [
      "/var/folders/nv/b5gt_2xs6_b2b50_jwyn74wm0000gn/T/ipykernel_2616/2885908043.py:14: FutureWarning: The default value of regex will change from True to False in a future version. In addition, single character regular expressions will *not* be treated as literal strings when regex=True.\n",
      "  df.columns = df.columns.str.strip().str.lower().str.replace(' ', '_').str.replace('(', '').str.replace(')', '')\n",
      "/var/folders/nv/b5gt_2xs6_b2b50_jwyn74wm0000gn/T/ipykernel_2616/2885908043.py:14: FutureWarning: The default value of regex will change from True to False in a future version. In addition, single character regular expressions will *not* be treated as literal strings when regex=True.\n",
      "  df.columns = df.columns.str.strip().str.lower().str.replace(' ', '_').str.replace('(', '').str.replace(')', '')\n"
     ]
    },
    {
     "name": "stdout",
     "output_type": "stream",
     "text": [
      "Zip archive: ../data/original/DWD//hourly/precipitation/historical/stundenwerte_RR_04150_20051201_20201231_hist.zip\n",
      "Extract product file: produkt_rr_stunde_20051201_20201231_04150.txt\n",
      "\n"
     ]
    },
    {
     "name": "stderr",
     "output_type": "stream",
     "text": [
      "/var/folders/nv/b5gt_2xs6_b2b50_jwyn74wm0000gn/T/ipykernel_2616/2885908043.py:14: FutureWarning: The default value of regex will change from True to False in a future version. In addition, single character regular expressions will *not* be treated as literal strings when regex=True.\n",
      "  df.columns = df.columns.str.strip().str.lower().str.replace(' ', '_').str.replace('(', '').str.replace(')', '')\n",
      "/var/folders/nv/b5gt_2xs6_b2b50_jwyn74wm0000gn/T/ipykernel_2616/2885908043.py:14: FutureWarning: The default value of regex will change from True to False in a future version. In addition, single character regular expressions will *not* be treated as literal strings when regex=True.\n",
      "  df.columns = df.columns.str.strip().str.lower().str.replace(' ', '_').str.replace('(', '').str.replace(')', '')\n"
     ]
    },
    {
     "name": "stdout",
     "output_type": "stream",
     "text": [
      "Zip archive: ../data/original/DWD//hourly/precipitation/historical/stundenwerte_RR_04154_20110201_20180701_hist.zip\n",
      "Extract product file: produkt_rr_stunde_20110201_20180701_04154.txt\n",
      "\n"
     ]
    },
    {
     "name": "stderr",
     "output_type": "stream",
     "text": [
      "/var/folders/nv/b5gt_2xs6_b2b50_jwyn74wm0000gn/T/ipykernel_2616/2885908043.py:14: FutureWarning: The default value of regex will change from True to False in a future version. In addition, single character regular expressions will *not* be treated as literal strings when regex=True.\n",
      "  df.columns = df.columns.str.strip().str.lower().str.replace(' ', '_').str.replace('(', '').str.replace(')', '')\n",
      "/var/folders/nv/b5gt_2xs6_b2b50_jwyn74wm0000gn/T/ipykernel_2616/2885908043.py:14: FutureWarning: The default value of regex will change from True to False in a future version. In addition, single character regular expressions will *not* be treated as literal strings when regex=True.\n",
      "  df.columns = df.columns.str.strip().str.lower().str.replace(' ', '_').str.replace('(', '').str.replace(')', '')\n"
     ]
    },
    {
     "name": "stdout",
     "output_type": "stream",
     "text": [
      "Zip archive: ../data/original/DWD//hourly/precipitation/historical/stundenwerte_RR_04313_20040801_20201231_hist.zip\n",
      "Extract product file: produkt_rr_stunde_20040801_20201231_04313.txt\n",
      "\n"
     ]
    },
    {
     "name": "stderr",
     "output_type": "stream",
     "text": [
      "/var/folders/nv/b5gt_2xs6_b2b50_jwyn74wm0000gn/T/ipykernel_2616/2885908043.py:14: FutureWarning: The default value of regex will change from True to False in a future version. In addition, single character regular expressions will *not* be treated as literal strings when regex=True.\n",
      "  df.columns = df.columns.str.strip().str.lower().str.replace(' ', '_').str.replace('(', '').str.replace(')', '')\n",
      "/var/folders/nv/b5gt_2xs6_b2b50_jwyn74wm0000gn/T/ipykernel_2616/2885908043.py:14: FutureWarning: The default value of regex will change from True to False in a future version. In addition, single character regular expressions will *not* be treated as literal strings when regex=True.\n",
      "  df.columns = df.columns.str.strip().str.lower().str.replace(' ', '_').str.replace('(', '').str.replace(')', '')\n"
     ]
    },
    {
     "name": "stdout",
     "output_type": "stream",
     "text": [
      "Zip archive: ../data/original/DWD//hourly/precipitation/historical/stundenwerte_RR_04368_20041001_20201231_hist.zip\n",
      "Extract product file: produkt_rr_stunde_20041001_20201231_04368.txt\n",
      "\n"
     ]
    },
    {
     "name": "stderr",
     "output_type": "stream",
     "text": [
      "/var/folders/nv/b5gt_2xs6_b2b50_jwyn74wm0000gn/T/ipykernel_2616/2885908043.py:14: FutureWarning: The default value of regex will change from True to False in a future version. In addition, single character regular expressions will *not* be treated as literal strings when regex=True.\n",
      "  df.columns = df.columns.str.strip().str.lower().str.replace(' ', '_').str.replace('(', '').str.replace(')', '')\n",
      "/var/folders/nv/b5gt_2xs6_b2b50_jwyn74wm0000gn/T/ipykernel_2616/2885908043.py:14: FutureWarning: The default value of regex will change from True to False in a future version. In addition, single character regular expressions will *not* be treated as literal strings when regex=True.\n",
      "  df.columns = df.columns.str.strip().str.lower().str.replace(' ', '_').str.replace('(', '').str.replace(')', '')\n"
     ]
    },
    {
     "name": "stdout",
     "output_type": "stream",
     "text": [
      "Zip archive: ../data/original/DWD//hourly/precipitation/historical/stundenwerte_RR_04371_19950901_20201231_hist.zip\n",
      "Extract product file: produkt_rr_stunde_19950901_20201231_04371.txt\n",
      "\n"
     ]
    },
    {
     "name": "stderr",
     "output_type": "stream",
     "text": [
      "/var/folders/nv/b5gt_2xs6_b2b50_jwyn74wm0000gn/T/ipykernel_2616/2885908043.py:14: FutureWarning: The default value of regex will change from True to False in a future version. In addition, single character regular expressions will *not* be treated as literal strings when regex=True.\n",
      "  df.columns = df.columns.str.strip().str.lower().str.replace(' ', '_').str.replace('(', '').str.replace(')', '')\n",
      "/var/folders/nv/b5gt_2xs6_b2b50_jwyn74wm0000gn/T/ipykernel_2616/2885908043.py:14: FutureWarning: The default value of regex will change from True to False in a future version. In addition, single character regular expressions will *not* be treated as literal strings when regex=True.\n",
      "  df.columns = df.columns.str.strip().str.lower().str.replace(' ', '_').str.replace('(', '').str.replace(')', '')\n"
     ]
    },
    {
     "name": "stdout",
     "output_type": "stream",
     "text": [
      "Zip archive: ../data/original/DWD//hourly/precipitation/historical/stundenwerte_RR_04400_20040801_20201231_hist.zip\n",
      "Extract product file: produkt_rr_stunde_20040801_20201231_04400.txt\n",
      "\n"
     ]
    },
    {
     "name": "stderr",
     "output_type": "stream",
     "text": [
      "/var/folders/nv/b5gt_2xs6_b2b50_jwyn74wm0000gn/T/ipykernel_2616/2885908043.py:14: FutureWarning: The default value of regex will change from True to False in a future version. In addition, single character regular expressions will *not* be treated as literal strings when regex=True.\n",
      "  df.columns = df.columns.str.strip().str.lower().str.replace(' ', '_').str.replace('(', '').str.replace(')', '')\n",
      "/var/folders/nv/b5gt_2xs6_b2b50_jwyn74wm0000gn/T/ipykernel_2616/2885908043.py:14: FutureWarning: The default value of regex will change from True to False in a future version. In addition, single character regular expressions will *not* be treated as literal strings when regex=True.\n",
      "  df.columns = df.columns.str.strip().str.lower().str.replace(' ', '_').str.replace('(', '').str.replace(')', '')\n"
     ]
    },
    {
     "name": "stdout",
     "output_type": "stream",
     "text": [
      "Zip archive: ../data/original/DWD//hourly/precipitation/historical/stundenwerte_RR_04488_20060801_20201231_hist.zip\n",
      "Extract product file: produkt_rr_stunde_20060801_20201231_04488.txt\n",
      "\n"
     ]
    },
    {
     "name": "stderr",
     "output_type": "stream",
     "text": [
      "/var/folders/nv/b5gt_2xs6_b2b50_jwyn74wm0000gn/T/ipykernel_2616/2885908043.py:14: FutureWarning: The default value of regex will change from True to False in a future version. In addition, single character regular expressions will *not* be treated as literal strings when regex=True.\n",
      "  df.columns = df.columns.str.strip().str.lower().str.replace(' ', '_').str.replace('(', '').str.replace(')', '')\n",
      "/var/folders/nv/b5gt_2xs6_b2b50_jwyn74wm0000gn/T/ipykernel_2616/2885908043.py:14: FutureWarning: The default value of regex will change from True to False in a future version. In addition, single character regular expressions will *not* be treated as literal strings when regex=True.\n",
      "  df.columns = df.columns.str.strip().str.lower().str.replace(' ', '_').str.replace('(', '').str.replace(')', '')\n"
     ]
    },
    {
     "name": "stdout",
     "output_type": "stream",
     "text": [
      "Zip archive: ../data/original/DWD//hourly/precipitation/historical/stundenwerte_RR_04692_20080301_20181201_hist.zip\n",
      "Extract product file: produkt_rr_stunde_20080301_20181201_04692.txt\n",
      "\n"
     ]
    },
    {
     "name": "stderr",
     "output_type": "stream",
     "text": [
      "/var/folders/nv/b5gt_2xs6_b2b50_jwyn74wm0000gn/T/ipykernel_2616/2885908043.py:14: FutureWarning: The default value of regex will change from True to False in a future version. In addition, single character regular expressions will *not* be treated as literal strings when regex=True.\n",
      "  df.columns = df.columns.str.strip().str.lower().str.replace(' ', '_').str.replace('(', '').str.replace(')', '')\n",
      "/var/folders/nv/b5gt_2xs6_b2b50_jwyn74wm0000gn/T/ipykernel_2616/2885908043.py:14: FutureWarning: The default value of regex will change from True to False in a future version. In addition, single character regular expressions will *not* be treated as literal strings when regex=True.\n",
      "  df.columns = df.columns.str.strip().str.lower().str.replace(' ', '_').str.replace('(', '').str.replace(')', '')\n"
     ]
    },
    {
     "name": "stdout",
     "output_type": "stream",
     "text": [
      "Zip archive: ../data/original/DWD//hourly/precipitation/historical/stundenwerte_RR_04741_20041201_20201231_hist.zip\n",
      "Extract product file: produkt_rr_stunde_20041201_20201231_04741.txt\n",
      "\n"
     ]
    },
    {
     "name": "stderr",
     "output_type": "stream",
     "text": [
      "/var/folders/nv/b5gt_2xs6_b2b50_jwyn74wm0000gn/T/ipykernel_2616/2885908043.py:14: FutureWarning: The default value of regex will change from True to False in a future version. In addition, single character regular expressions will *not* be treated as literal strings when regex=True.\n",
      "  df.columns = df.columns.str.strip().str.lower().str.replace(' ', '_').str.replace('(', '').str.replace(')', '')\n",
      "/var/folders/nv/b5gt_2xs6_b2b50_jwyn74wm0000gn/T/ipykernel_2616/2885908043.py:14: FutureWarning: The default value of regex will change from True to False in a future version. In addition, single character regular expressions will *not* be treated as literal strings when regex=True.\n",
      "  df.columns = df.columns.str.strip().str.lower().str.replace(' ', '_').str.replace('(', '').str.replace(')', '')\n"
     ]
    },
    {
     "name": "stdout",
     "output_type": "stream",
     "text": [
      "Zip archive: ../data/original/DWD//hourly/precipitation/historical/stundenwerte_RR_04849_20050601_20201231_hist.zip\n",
      "Extract product file: produkt_rr_stunde_20050601_20201231_04849.txt\n",
      "\n"
     ]
    },
    {
     "name": "stderr",
     "output_type": "stream",
     "text": [
      "/var/folders/nv/b5gt_2xs6_b2b50_jwyn74wm0000gn/T/ipykernel_2616/2885908043.py:14: FutureWarning: The default value of regex will change from True to False in a future version. In addition, single character regular expressions will *not* be treated as literal strings when regex=True.\n",
      "  df.columns = df.columns.str.strip().str.lower().str.replace(' ', '_').str.replace('(', '').str.replace(')', '')\n",
      "/var/folders/nv/b5gt_2xs6_b2b50_jwyn74wm0000gn/T/ipykernel_2616/2885908043.py:14: FutureWarning: The default value of regex will change from True to False in a future version. In addition, single character regular expressions will *not* be treated as literal strings when regex=True.\n",
      "  df.columns = df.columns.str.strip().str.lower().str.replace(' ', '_').str.replace('(', '').str.replace(')', '')\n"
     ]
    },
    {
     "name": "stdout",
     "output_type": "stream",
     "text": [
      "Zip archive: ../data/original/DWD//hourly/precipitation/historical/stundenwerte_RR_05064_20041201_20201231_hist.zip\n",
      "Extract product file: produkt_rr_stunde_20041201_20201231_05064.txt\n",
      "\n"
     ]
    },
    {
     "name": "stderr",
     "output_type": "stream",
     "text": [
      "/var/folders/nv/b5gt_2xs6_b2b50_jwyn74wm0000gn/T/ipykernel_2616/2885908043.py:14: FutureWarning: The default value of regex will change from True to False in a future version. In addition, single character regular expressions will *not* be treated as literal strings when regex=True.\n",
      "  df.columns = df.columns.str.strip().str.lower().str.replace(' ', '_').str.replace('(', '').str.replace(')', '')\n",
      "/var/folders/nv/b5gt_2xs6_b2b50_jwyn74wm0000gn/T/ipykernel_2616/2885908043.py:14: FutureWarning: The default value of regex will change from True to False in a future version. In addition, single character regular expressions will *not* be treated as literal strings when regex=True.\n",
      "  df.columns = df.columns.str.strip().str.lower().str.replace(' ', '_').str.replace('(', '').str.replace(')', '')\n"
     ]
    },
    {
     "name": "stdout",
     "output_type": "stream",
     "text": [
      "Zip archive: ../data/original/DWD//hourly/precipitation/historical/stundenwerte_RR_05347_19950901_20201231_hist.zip\n",
      "Extract product file: produkt_rr_stunde_19950901_20201231_05347.txt\n",
      "\n"
     ]
    },
    {
     "name": "stderr",
     "output_type": "stream",
     "text": [
      "/var/folders/nv/b5gt_2xs6_b2b50_jwyn74wm0000gn/T/ipykernel_2616/2885908043.py:14: FutureWarning: The default value of regex will change from True to False in a future version. In addition, single character regular expressions will *not* be treated as literal strings when regex=True.\n",
      "  df.columns = df.columns.str.strip().str.lower().str.replace(' ', '_').str.replace('(', '').str.replace(')', '')\n",
      "/var/folders/nv/b5gt_2xs6_b2b50_jwyn74wm0000gn/T/ipykernel_2616/2885908043.py:14: FutureWarning: The default value of regex will change from True to False in a future version. In addition, single character regular expressions will *not* be treated as literal strings when regex=True.\n",
      "  df.columns = df.columns.str.strip().str.lower().str.replace(' ', '_').str.replace('(', '').str.replace(')', '')\n"
     ]
    },
    {
     "name": "stdout",
     "output_type": "stream",
     "text": [
      "Zip archive: ../data/original/DWD//hourly/precipitation/historical/stundenwerte_RR_05360_20070701_20201231_hist.zip\n",
      "Extract product file: produkt_rr_stunde_20070701_20201231_05360.txt\n",
      "\n"
     ]
    },
    {
     "name": "stderr",
     "output_type": "stream",
     "text": [
      "/var/folders/nv/b5gt_2xs6_b2b50_jwyn74wm0000gn/T/ipykernel_2616/2885908043.py:14: FutureWarning: The default value of regex will change from True to False in a future version. In addition, single character regular expressions will *not* be treated as literal strings when regex=True.\n",
      "  df.columns = df.columns.str.strip().str.lower().str.replace(' ', '_').str.replace('(', '').str.replace(')', '')\n",
      "/var/folders/nv/b5gt_2xs6_b2b50_jwyn74wm0000gn/T/ipykernel_2616/2885908043.py:14: FutureWarning: The default value of regex will change from True to False in a future version. In addition, single character regular expressions will *not* be treated as literal strings when regex=True.\n",
      "  df.columns = df.columns.str.strip().str.lower().str.replace(' ', '_').str.replace('(', '').str.replace(')', '')\n"
     ]
    },
    {
     "name": "stdout",
     "output_type": "stream",
     "text": [
      "Zip archive: ../data/original/DWD//hourly/precipitation/historical/stundenwerte_RR_05468_20060701_20201001_hist.zip\n",
      "Extract product file: produkt_rr_stunde_20060701_20201001_05468.txt\n",
      "\n"
     ]
    },
    {
     "name": "stderr",
     "output_type": "stream",
     "text": [
      "/var/folders/nv/b5gt_2xs6_b2b50_jwyn74wm0000gn/T/ipykernel_2616/2885908043.py:14: FutureWarning: The default value of regex will change from True to False in a future version. In addition, single character regular expressions will *not* be treated as literal strings when regex=True.\n",
      "  df.columns = df.columns.str.strip().str.lower().str.replace(' ', '_').str.replace('(', '').str.replace(')', '')\n",
      "/var/folders/nv/b5gt_2xs6_b2b50_jwyn74wm0000gn/T/ipykernel_2616/2885908043.py:14: FutureWarning: The default value of regex will change from True to False in a future version. In addition, single character regular expressions will *not* be treated as literal strings when regex=True.\n",
      "  df.columns = df.columns.str.strip().str.lower().str.replace(' ', '_').str.replace('(', '').str.replace(')', '')\n"
     ]
    },
    {
     "name": "stdout",
     "output_type": "stream",
     "text": [
      "Zip archive: ../data/original/DWD//hourly/precipitation/historical/stundenwerte_RR_05480_20030910_20201231_hist.zip\n",
      "Extract product file: produkt_rr_stunde_20030910_20201231_05480.txt\n",
      "\n"
     ]
    },
    {
     "name": "stderr",
     "output_type": "stream",
     "text": [
      "/var/folders/nv/b5gt_2xs6_b2b50_jwyn74wm0000gn/T/ipykernel_2616/2885908043.py:14: FutureWarning: The default value of regex will change from True to False in a future version. In addition, single character regular expressions will *not* be treated as literal strings when regex=True.\n",
      "  df.columns = df.columns.str.strip().str.lower().str.replace(' ', '_').str.replace('(', '').str.replace(')', '')\n",
      "/var/folders/nv/b5gt_2xs6_b2b50_jwyn74wm0000gn/T/ipykernel_2616/2885908043.py:14: FutureWarning: The default value of regex will change from True to False in a future version. In addition, single character regular expressions will *not* be treated as literal strings when regex=True.\n",
      "  df.columns = df.columns.str.strip().str.lower().str.replace(' ', '_').str.replace('(', '').str.replace(')', '')\n"
     ]
    },
    {
     "name": "stdout",
     "output_type": "stream",
     "text": [
      "Zip archive: ../data/original/DWD//hourly/precipitation/historical/stundenwerte_RR_05513_20050901_20201231_hist.zip\n",
      "Extract product file: produkt_rr_stunde_20050901_20201231_05513.txt\n",
      "\n"
     ]
    },
    {
     "name": "stderr",
     "output_type": "stream",
     "text": [
      "/var/folders/nv/b5gt_2xs6_b2b50_jwyn74wm0000gn/T/ipykernel_2616/2885908043.py:14: FutureWarning: The default value of regex will change from True to False in a future version. In addition, single character regular expressions will *not* be treated as literal strings when regex=True.\n",
      "  df.columns = df.columns.str.strip().str.lower().str.replace(' ', '_').str.replace('(', '').str.replace(')', '')\n",
      "/var/folders/nv/b5gt_2xs6_b2b50_jwyn74wm0000gn/T/ipykernel_2616/2885908043.py:14: FutureWarning: The default value of regex will change from True to False in a future version. In addition, single character regular expressions will *not* be treated as literal strings when regex=True.\n",
      "  df.columns = df.columns.str.strip().str.lower().str.replace(' ', '_').str.replace('(', '').str.replace(')', '')\n"
     ]
    },
    {
     "name": "stdout",
     "output_type": "stream",
     "text": [
      "Zip archive: ../data/original/DWD//hourly/precipitation/historical/stundenwerte_RR_05619_20041201_20201231_hist.zip\n",
      "Extract product file: produkt_rr_stunde_20041201_20201231_05619.txt\n",
      "\n"
     ]
    },
    {
     "name": "stderr",
     "output_type": "stream",
     "text": [
      "/var/folders/nv/b5gt_2xs6_b2b50_jwyn74wm0000gn/T/ipykernel_2616/2885908043.py:14: FutureWarning: The default value of regex will change from True to False in a future version. In addition, single character regular expressions will *not* be treated as literal strings when regex=True.\n",
      "  df.columns = df.columns.str.strip().str.lower().str.replace(' ', '_').str.replace('(', '').str.replace(')', '')\n",
      "/var/folders/nv/b5gt_2xs6_b2b50_jwyn74wm0000gn/T/ipykernel_2616/2885908043.py:14: FutureWarning: The default value of regex will change from True to False in a future version. In addition, single character regular expressions will *not* be treated as literal strings when regex=True.\n",
      "  df.columns = df.columns.str.strip().str.lower().str.replace(' ', '_').str.replace('(', '').str.replace(')', '')\n"
     ]
    },
    {
     "name": "stdout",
     "output_type": "stream",
     "text": [
      "Zip archive: ../data/original/DWD//hourly/precipitation/historical/stundenwerte_RR_05699_20041101_20201231_hist.zip\n",
      "Extract product file: produkt_rr_stunde_20041101_20201231_05699.txt\n",
      "\n"
     ]
    },
    {
     "name": "stderr",
     "output_type": "stream",
     "text": [
      "/var/folders/nv/b5gt_2xs6_b2b50_jwyn74wm0000gn/T/ipykernel_2616/2885908043.py:14: FutureWarning: The default value of regex will change from True to False in a future version. In addition, single character regular expressions will *not* be treated as literal strings when regex=True.\n",
      "  df.columns = df.columns.str.strip().str.lower().str.replace(' ', '_').str.replace('(', '').str.replace(')', '')\n",
      "/var/folders/nv/b5gt_2xs6_b2b50_jwyn74wm0000gn/T/ipykernel_2616/2885908043.py:14: FutureWarning: The default value of regex will change from True to False in a future version. In addition, single character regular expressions will *not* be treated as literal strings when regex=True.\n",
      "  df.columns = df.columns.str.strip().str.lower().str.replace(' ', '_').str.replace('(', '').str.replace(')', '')\n"
     ]
    },
    {
     "name": "stdout",
     "output_type": "stream",
     "text": [
      "Zip archive: ../data/original/DWD//hourly/precipitation/historical/stundenwerte_RR_05717_20060901_20201231_hist.zip\n",
      "Extract product file: produkt_rr_stunde_20060901_20201231_05717.txt\n",
      "\n"
     ]
    },
    {
     "name": "stderr",
     "output_type": "stream",
     "text": [
      "/var/folders/nv/b5gt_2xs6_b2b50_jwyn74wm0000gn/T/ipykernel_2616/2885908043.py:14: FutureWarning: The default value of regex will change from True to False in a future version. In addition, single character regular expressions will *not* be treated as literal strings when regex=True.\n",
      "  df.columns = df.columns.str.strip().str.lower().str.replace(' ', '_').str.replace('(', '').str.replace(')', '')\n",
      "/var/folders/nv/b5gt_2xs6_b2b50_jwyn74wm0000gn/T/ipykernel_2616/2885908043.py:14: FutureWarning: The default value of regex will change from True to False in a future version. In addition, single character regular expressions will *not* be treated as literal strings when regex=True.\n",
      "  df.columns = df.columns.str.strip().str.lower().str.replace(' ', '_').str.replace('(', '').str.replace(')', '')\n"
     ]
    },
    {
     "name": "stdout",
     "output_type": "stream",
     "text": [
      "Zip archive: ../data/original/DWD//hourly/precipitation/historical/stundenwerte_RR_05719_20041001_20091210_hist.zip\n",
      "Extract product file: produkt_rr_stunde_20041001_20091210_05719.txt\n",
      "\n"
     ]
    },
    {
     "name": "stderr",
     "output_type": "stream",
     "text": [
      "/var/folders/nv/b5gt_2xs6_b2b50_jwyn74wm0000gn/T/ipykernel_2616/2885908043.py:14: FutureWarning: The default value of regex will change from True to False in a future version. In addition, single character regular expressions will *not* be treated as literal strings when regex=True.\n",
      "  df.columns = df.columns.str.strip().str.lower().str.replace(' ', '_').str.replace('(', '').str.replace(')', '')\n",
      "/var/folders/nv/b5gt_2xs6_b2b50_jwyn74wm0000gn/T/ipykernel_2616/2885908043.py:14: FutureWarning: The default value of regex will change from True to False in a future version. In addition, single character regular expressions will *not* be treated as literal strings when regex=True.\n",
      "  df.columns = df.columns.str.strip().str.lower().str.replace(' ', '_').str.replace('(', '').str.replace(')', '')\n"
     ]
    },
    {
     "name": "stdout",
     "output_type": "stream",
     "text": [
      "Zip archive: ../data/original/DWD//hourly/precipitation/historical/stundenwerte_RR_05733_20050501_20201231_hist.zip\n",
      "Extract product file: produkt_rr_stunde_20050501_20201231_05733.txt\n",
      "\n"
     ]
    },
    {
     "name": "stderr",
     "output_type": "stream",
     "text": [
      "/var/folders/nv/b5gt_2xs6_b2b50_jwyn74wm0000gn/T/ipykernel_2616/2885908043.py:14: FutureWarning: The default value of regex will change from True to False in a future version. In addition, single character regular expressions will *not* be treated as literal strings when regex=True.\n",
      "  df.columns = df.columns.str.strip().str.lower().str.replace(' ', '_').str.replace('(', '').str.replace(')', '')\n",
      "/var/folders/nv/b5gt_2xs6_b2b50_jwyn74wm0000gn/T/ipykernel_2616/2885908043.py:14: FutureWarning: The default value of regex will change from True to False in a future version. In addition, single character regular expressions will *not* be treated as literal strings when regex=True.\n",
      "  df.columns = df.columns.str.strip().str.lower().str.replace(' ', '_').str.replace('(', '').str.replace(')', '')\n"
     ]
    },
    {
     "name": "stdout",
     "output_type": "stream",
     "text": [
      "Zip archive: ../data/original/DWD//hourly/precipitation/historical/stundenwerte_RR_06197_20001013_20201231_hist.zip\n",
      "Extract product file: produkt_rr_stunde_20001013_20201231_06197.txt\n",
      "\n"
     ]
    },
    {
     "name": "stderr",
     "output_type": "stream",
     "text": [
      "/var/folders/nv/b5gt_2xs6_b2b50_jwyn74wm0000gn/T/ipykernel_2616/2885908043.py:14: FutureWarning: The default value of regex will change from True to False in a future version. In addition, single character regular expressions will *not* be treated as literal strings when regex=True.\n",
      "  df.columns = df.columns.str.strip().str.lower().str.replace(' ', '_').str.replace('(', '').str.replace(')', '')\n",
      "/var/folders/nv/b5gt_2xs6_b2b50_jwyn74wm0000gn/T/ipykernel_2616/2885908043.py:14: FutureWarning: The default value of regex will change from True to False in a future version. In addition, single character regular expressions will *not* be treated as literal strings when regex=True.\n",
      "  df.columns = df.columns.str.strip().str.lower().str.replace(' ', '_').str.replace('(', '').str.replace(')', '')\n"
     ]
    },
    {
     "name": "stdout",
     "output_type": "stream",
     "text": [
      "Zip archive: ../data/original/DWD//hourly/precipitation/historical/stundenwerte_RR_06264_20040601_20201231_hist.zip\n",
      "Extract product file: produkt_rr_stunde_20040601_20201231_06264.txt\n",
      "\n"
     ]
    },
    {
     "name": "stderr",
     "output_type": "stream",
     "text": [
      "/var/folders/nv/b5gt_2xs6_b2b50_jwyn74wm0000gn/T/ipykernel_2616/2885908043.py:14: FutureWarning: The default value of regex will change from True to False in a future version. In addition, single character regular expressions will *not* be treated as literal strings when regex=True.\n",
      "  df.columns = df.columns.str.strip().str.lower().str.replace(' ', '_').str.replace('(', '').str.replace(')', '')\n",
      "/var/folders/nv/b5gt_2xs6_b2b50_jwyn74wm0000gn/T/ipykernel_2616/2885908043.py:14: FutureWarning: The default value of regex will change from True to False in a future version. In addition, single character regular expressions will *not* be treated as literal strings when regex=True.\n",
      "  df.columns = df.columns.str.strip().str.lower().str.replace(' ', '_').str.replace('(', '').str.replace(')', '')\n"
     ]
    },
    {
     "name": "stdout",
     "output_type": "stream",
     "text": [
      "Zip archive: ../data/original/DWD//hourly/precipitation/historical/stundenwerte_RR_06276_20041101_20191102_hist.zip\n",
      "Extract product file: produkt_rr_stunde_20041101_20191102_06276.txt\n",
      "\n"
     ]
    },
    {
     "name": "stderr",
     "output_type": "stream",
     "text": [
      "/var/folders/nv/b5gt_2xs6_b2b50_jwyn74wm0000gn/T/ipykernel_2616/2885908043.py:14: FutureWarning: The default value of regex will change from True to False in a future version. In addition, single character regular expressions will *not* be treated as literal strings when regex=True.\n",
      "  df.columns = df.columns.str.strip().str.lower().str.replace(' ', '_').str.replace('(', '').str.replace(')', '')\n",
      "/var/folders/nv/b5gt_2xs6_b2b50_jwyn74wm0000gn/T/ipykernel_2616/2885908043.py:14: FutureWarning: The default value of regex will change from True to False in a future version. In addition, single character regular expressions will *not* be treated as literal strings when regex=True.\n",
      "  df.columns = df.columns.str.strip().str.lower().str.replace(' ', '_').str.replace('(', '').str.replace(')', '')\n"
     ]
    },
    {
     "name": "stdout",
     "output_type": "stream",
     "text": [
      "Zip archive: ../data/original/DWD//hourly/precipitation/historical/stundenwerte_RR_06313_20041201_20201231_hist.zip\n",
      "Extract product file: produkt_rr_stunde_20041201_20201231_06313.txt\n",
      "\n"
     ]
    },
    {
     "name": "stderr",
     "output_type": "stream",
     "text": [
      "/var/folders/nv/b5gt_2xs6_b2b50_jwyn74wm0000gn/T/ipykernel_2616/2885908043.py:14: FutureWarning: The default value of regex will change from True to False in a future version. In addition, single character regular expressions will *not* be treated as literal strings when regex=True.\n",
      "  df.columns = df.columns.str.strip().str.lower().str.replace(' ', '_').str.replace('(', '').str.replace(')', '')\n",
      "/var/folders/nv/b5gt_2xs6_b2b50_jwyn74wm0000gn/T/ipykernel_2616/2885908043.py:14: FutureWarning: The default value of regex will change from True to False in a future version. In addition, single character regular expressions will *not* be treated as literal strings when regex=True.\n",
      "  df.columns = df.columns.str.strip().str.lower().str.replace(' ', '_').str.replace('(', '').str.replace(')', '')\n"
     ]
    },
    {
     "name": "stdout",
     "output_type": "stream",
     "text": [
      "Zip archive: ../data/original/DWD//hourly/precipitation/historical/stundenwerte_RR_06337_20040801_20201231_hist.zip\n",
      "Extract product file: produkt_rr_stunde_20040801_20201231_06337.txt\n",
      "\n"
     ]
    },
    {
     "name": "stderr",
     "output_type": "stream",
     "text": [
      "/var/folders/nv/b5gt_2xs6_b2b50_jwyn74wm0000gn/T/ipykernel_2616/2885908043.py:14: FutureWarning: The default value of regex will change from True to False in a future version. In addition, single character regular expressions will *not* be treated as literal strings when regex=True.\n",
      "  df.columns = df.columns.str.strip().str.lower().str.replace(' ', '_').str.replace('(', '').str.replace(')', '')\n",
      "/var/folders/nv/b5gt_2xs6_b2b50_jwyn74wm0000gn/T/ipykernel_2616/2885908043.py:14: FutureWarning: The default value of regex will change from True to False in a future version. In addition, single character regular expressions will *not* be treated as literal strings when regex=True.\n",
      "  df.columns = df.columns.str.strip().str.lower().str.replace(' ', '_').str.replace('(', '').str.replace(')', '')\n"
     ]
    },
    {
     "name": "stdout",
     "output_type": "stream",
     "text": [
      "Zip archive: ../data/original/DWD//hourly/precipitation/historical/stundenwerte_RR_07106_20060901_20201231_hist.zip\n",
      "Extract product file: produkt_rr_stunde_20060901_20201231_07106.txt\n",
      "\n"
     ]
    },
    {
     "name": "stderr",
     "output_type": "stream",
     "text": [
      "/var/folders/nv/b5gt_2xs6_b2b50_jwyn74wm0000gn/T/ipykernel_2616/2885908043.py:14: FutureWarning: The default value of regex will change from True to False in a future version. In addition, single character regular expressions will *not* be treated as literal strings when regex=True.\n",
      "  df.columns = df.columns.str.strip().str.lower().str.replace(' ', '_').str.replace('(', '').str.replace(')', '')\n",
      "/var/folders/nv/b5gt_2xs6_b2b50_jwyn74wm0000gn/T/ipykernel_2616/2885908043.py:14: FutureWarning: The default value of regex will change from True to False in a future version. In addition, single character regular expressions will *not* be treated as literal strings when regex=True.\n",
      "  df.columns = df.columns.str.strip().str.lower().str.replace(' ', '_').str.replace('(', '').str.replace(')', '')\n"
     ]
    },
    {
     "name": "stdout",
     "output_type": "stream",
     "text": [
      "Zip archive: ../data/original/DWD//hourly/precipitation/historical/stundenwerte_RR_07330_20051001_20201231_hist.zip\n",
      "Extract product file: produkt_rr_stunde_20051001_20201231_07330.txt\n",
      "\n"
     ]
    },
    {
     "name": "stderr",
     "output_type": "stream",
     "text": [
      "/var/folders/nv/b5gt_2xs6_b2b50_jwyn74wm0000gn/T/ipykernel_2616/2885908043.py:14: FutureWarning: The default value of regex will change from True to False in a future version. In addition, single character regular expressions will *not* be treated as literal strings when regex=True.\n",
      "  df.columns = df.columns.str.strip().str.lower().str.replace(' ', '_').str.replace('(', '').str.replace(')', '')\n",
      "/var/folders/nv/b5gt_2xs6_b2b50_jwyn74wm0000gn/T/ipykernel_2616/2885908043.py:14: FutureWarning: The default value of regex will change from True to False in a future version. In addition, single character regular expressions will *not* be treated as literal strings when regex=True.\n",
      "  df.columns = df.columns.str.strip().str.lower().str.replace(' ', '_').str.replace('(', '').str.replace(')', '')\n"
     ]
    },
    {
     "name": "stdout",
     "output_type": "stream",
     "text": [
      "Zip archive: ../data/original/DWD//hourly/precipitation/historical/stundenwerte_RR_07344_20060601_20201231_hist.zip\n",
      "Extract product file: produkt_rr_stunde_20060601_20201231_07344.txt\n",
      "\n"
     ]
    },
    {
     "name": "stderr",
     "output_type": "stream",
     "text": [
      "/var/folders/nv/b5gt_2xs6_b2b50_jwyn74wm0000gn/T/ipykernel_2616/2885908043.py:14: FutureWarning: The default value of regex will change from True to False in a future version. In addition, single character regular expressions will *not* be treated as literal strings when regex=True.\n",
      "  df.columns = df.columns.str.strip().str.lower().str.replace(' ', '_').str.replace('(', '').str.replace(')', '')\n",
      "/var/folders/nv/b5gt_2xs6_b2b50_jwyn74wm0000gn/T/ipykernel_2616/2885908043.py:14: FutureWarning: The default value of regex will change from True to False in a future version. In addition, single character regular expressions will *not* be treated as literal strings when regex=True.\n",
      "  df.columns = df.columns.str.strip().str.lower().str.replace(' ', '_').str.replace('(', '').str.replace(')', '')\n"
     ]
    },
    {
     "name": "stdout",
     "output_type": "stream",
     "text": [
      "Zip archive: ../data/original/DWD//hourly/precipitation/historical/stundenwerte_RR_07374_20060301_20201231_hist.zip\n",
      "Extract product file: produkt_rr_stunde_20060301_20201231_07374.txt\n",
      "\n"
     ]
    },
    {
     "name": "stderr",
     "output_type": "stream",
     "text": [
      "/var/folders/nv/b5gt_2xs6_b2b50_jwyn74wm0000gn/T/ipykernel_2616/2885908043.py:14: FutureWarning: The default value of regex will change from True to False in a future version. In addition, single character regular expressions will *not* be treated as literal strings when regex=True.\n",
      "  df.columns = df.columns.str.strip().str.lower().str.replace(' ', '_').str.replace('(', '').str.replace(')', '')\n",
      "/var/folders/nv/b5gt_2xs6_b2b50_jwyn74wm0000gn/T/ipykernel_2616/2885908043.py:14: FutureWarning: The default value of regex will change from True to False in a future version. In addition, single character regular expressions will *not* be treated as literal strings when regex=True.\n",
      "  df.columns = df.columns.str.strip().str.lower().str.replace(' ', '_').str.replace('(', '').str.replace(')', '')\n"
     ]
    },
    {
     "name": "stdout",
     "output_type": "stream",
     "text": [
      "Zip archive: ../data/original/DWD//hourly/precipitation/historical/stundenwerte_RR_07378_20060701_20201231_hist.zip\n",
      "Extract product file: produkt_rr_stunde_20060701_20201231_07378.txt\n",
      "\n"
     ]
    },
    {
     "name": "stderr",
     "output_type": "stream",
     "text": [
      "/var/folders/nv/b5gt_2xs6_b2b50_jwyn74wm0000gn/T/ipykernel_2616/2885908043.py:14: FutureWarning: The default value of regex will change from True to False in a future version. In addition, single character regular expressions will *not* be treated as literal strings when regex=True.\n",
      "  df.columns = df.columns.str.strip().str.lower().str.replace(' ', '_').str.replace('(', '').str.replace(')', '')\n",
      "/var/folders/nv/b5gt_2xs6_b2b50_jwyn74wm0000gn/T/ipykernel_2616/2885908043.py:14: FutureWarning: The default value of regex will change from True to False in a future version. In addition, single character regular expressions will *not* be treated as literal strings when regex=True.\n",
      "  df.columns = df.columns.str.strip().str.lower().str.replace(' ', '_').str.replace('(', '').str.replace(')', '')\n"
     ]
    },
    {
     "name": "stdout",
     "output_type": "stream",
     "text": [
      "Zip archive: ../data/original/DWD//hourly/precipitation/historical/stundenwerte_RR_13669_20070901_20201231_hist.zip\n",
      "Extract product file: produkt_rr_stunde_20070901_20201231_13669.txt\n",
      "\n"
     ]
    },
    {
     "name": "stderr",
     "output_type": "stream",
     "text": [
      "/var/folders/nv/b5gt_2xs6_b2b50_jwyn74wm0000gn/T/ipykernel_2616/2885908043.py:14: FutureWarning: The default value of regex will change from True to False in a future version. In addition, single character regular expressions will *not* be treated as literal strings when regex=True.\n",
      "  df.columns = df.columns.str.strip().str.lower().str.replace(' ', '_').str.replace('(', '').str.replace(')', '')\n",
      "/var/folders/nv/b5gt_2xs6_b2b50_jwyn74wm0000gn/T/ipykernel_2616/2885908043.py:14: FutureWarning: The default value of regex will change from True to False in a future version. In addition, single character regular expressions will *not* be treated as literal strings when regex=True.\n",
      "  df.columns = df.columns.str.strip().str.lower().str.replace(' ', '_').str.replace('(', '').str.replace(')', '')\n"
     ]
    },
    {
     "name": "stdout",
     "output_type": "stream",
     "text": [
      "Zip archive: ../data/original/DWD//hourly/precipitation/historical/stundenwerte_RR_13670_20070601_20201231_hist.zip\n",
      "Extract product file: produkt_rr_stunde_20070601_20201231_13670.txt\n",
      "\n"
     ]
    },
    {
     "name": "stderr",
     "output_type": "stream",
     "text": [
      "/var/folders/nv/b5gt_2xs6_b2b50_jwyn74wm0000gn/T/ipykernel_2616/2885908043.py:14: FutureWarning: The default value of regex will change from True to False in a future version. In addition, single character regular expressions will *not* be treated as literal strings when regex=True.\n",
      "  df.columns = df.columns.str.strip().str.lower().str.replace(' ', '_').str.replace('(', '').str.replace(')', '')\n",
      "/var/folders/nv/b5gt_2xs6_b2b50_jwyn74wm0000gn/T/ipykernel_2616/2885908043.py:14: FutureWarning: The default value of regex will change from True to False in a future version. In addition, single character regular expressions will *not* be treated as literal strings when regex=True.\n",
      "  df.columns = df.columns.str.strip().str.lower().str.replace(' ', '_').str.replace('(', '').str.replace(')', '')\n"
     ]
    },
    {
     "name": "stdout",
     "output_type": "stream",
     "text": [
      "Zip archive: ../data/original/DWD//hourly/precipitation/historical/stundenwerte_RR_13671_20071201_20201231_hist.zip\n",
      "Extract product file: produkt_rr_stunde_20071201_20201231_13671.txt\n",
      "\n"
     ]
    },
    {
     "name": "stderr",
     "output_type": "stream",
     "text": [
      "/var/folders/nv/b5gt_2xs6_b2b50_jwyn74wm0000gn/T/ipykernel_2616/2885908043.py:14: FutureWarning: The default value of regex will change from True to False in a future version. In addition, single character regular expressions will *not* be treated as literal strings when regex=True.\n",
      "  df.columns = df.columns.str.strip().str.lower().str.replace(' ', '_').str.replace('(', '').str.replace(')', '')\n",
      "/var/folders/nv/b5gt_2xs6_b2b50_jwyn74wm0000gn/T/ipykernel_2616/2885908043.py:14: FutureWarning: The default value of regex will change from True to False in a future version. In addition, single character regular expressions will *not* be treated as literal strings when regex=True.\n",
      "  df.columns = df.columns.str.strip().str.lower().str.replace(' ', '_').str.replace('(', '').str.replace(')', '')\n"
     ]
    },
    {
     "name": "stdout",
     "output_type": "stream",
     "text": [
      "Zip archive: ../data/original/DWD//hourly/precipitation/historical/stundenwerte_RR_13696_20071201_20201231_hist.zip\n",
      "Extract product file: produkt_rr_stunde_20071201_20201231_13696.txt\n",
      "\n"
     ]
    },
    {
     "name": "stderr",
     "output_type": "stream",
     "text": [
      "/var/folders/nv/b5gt_2xs6_b2b50_jwyn74wm0000gn/T/ipykernel_2616/2885908043.py:14: FutureWarning: The default value of regex will change from True to False in a future version. In addition, single character regular expressions will *not* be treated as literal strings when regex=True.\n",
      "  df.columns = df.columns.str.strip().str.lower().str.replace(' ', '_').str.replace('(', '').str.replace(')', '')\n",
      "/var/folders/nv/b5gt_2xs6_b2b50_jwyn74wm0000gn/T/ipykernel_2616/2885908043.py:14: FutureWarning: The default value of regex will change from True to False in a future version. In addition, single character regular expressions will *not* be treated as literal strings when regex=True.\n",
      "  df.columns = df.columns.str.strip().str.lower().str.replace(' ', '_').str.replace('(', '').str.replace(')', '')\n"
     ]
    },
    {
     "name": "stdout",
     "output_type": "stream",
     "text": [
      "Zip archive: ../data/original/DWD//hourly/precipitation/historical/stundenwerte_RR_13700_20080501_20201231_hist.zip\n",
      "Extract product file: produkt_rr_stunde_20080501_20201231_13700.txt\n",
      "\n"
     ]
    },
    {
     "name": "stderr",
     "output_type": "stream",
     "text": [
      "/var/folders/nv/b5gt_2xs6_b2b50_jwyn74wm0000gn/T/ipykernel_2616/2885908043.py:14: FutureWarning: The default value of regex will change from True to False in a future version. In addition, single character regular expressions will *not* be treated as literal strings when regex=True.\n",
      "  df.columns = df.columns.str.strip().str.lower().str.replace(' ', '_').str.replace('(', '').str.replace(')', '')\n",
      "/var/folders/nv/b5gt_2xs6_b2b50_jwyn74wm0000gn/T/ipykernel_2616/2885908043.py:14: FutureWarning: The default value of regex will change from True to False in a future version. In addition, single character regular expressions will *not* be treated as literal strings when regex=True.\n",
      "  df.columns = df.columns.str.strip().str.lower().str.replace(' ', '_').str.replace('(', '').str.replace(')', '')\n"
     ]
    },
    {
     "name": "stdout",
     "output_type": "stream",
     "text": [
      "Zip archive: ../data/original/DWD//hourly/precipitation/historical/stundenwerte_RR_13713_20071101_20201231_hist.zip\n",
      "Extract product file: produkt_rr_stunde_20071101_20201231_13713.txt\n",
      "\n"
     ]
    },
    {
     "name": "stderr",
     "output_type": "stream",
     "text": [
      "/var/folders/nv/b5gt_2xs6_b2b50_jwyn74wm0000gn/T/ipykernel_2616/2885908043.py:14: FutureWarning: The default value of regex will change from True to False in a future version. In addition, single character regular expressions will *not* be treated as literal strings when regex=True.\n",
      "  df.columns = df.columns.str.strip().str.lower().str.replace(' ', '_').str.replace('(', '').str.replace(')', '')\n",
      "/var/folders/nv/b5gt_2xs6_b2b50_jwyn74wm0000gn/T/ipykernel_2616/2885908043.py:14: FutureWarning: The default value of regex will change from True to False in a future version. In addition, single character regular expressions will *not* be treated as literal strings when regex=True.\n",
      "  df.columns = df.columns.str.strip().str.lower().str.replace(' ', '_').str.replace('(', '').str.replace(')', '')\n"
     ]
    },
    {
     "name": "stdout",
     "output_type": "stream",
     "text": [
      "Zip archive: ../data/original/DWD//hourly/precipitation/historical/stundenwerte_RR_15000_20110401_20201231_hist.zip\n",
      "Extract product file: produkt_rr_stunde_20110401_20201231_15000.txt\n",
      "\n"
     ]
    },
    {
     "name": "stderr",
     "output_type": "stream",
     "text": [
      "/var/folders/nv/b5gt_2xs6_b2b50_jwyn74wm0000gn/T/ipykernel_2616/2885908043.py:14: FutureWarning: The default value of regex will change from True to False in a future version. In addition, single character regular expressions will *not* be treated as literal strings when regex=True.\n",
      "  df.columns = df.columns.str.strip().str.lower().str.replace(' ', '_').str.replace('(', '').str.replace(')', '')\n",
      "/var/folders/nv/b5gt_2xs6_b2b50_jwyn74wm0000gn/T/ipykernel_2616/2885908043.py:14: FutureWarning: The default value of regex will change from True to False in a future version. In addition, single character regular expressions will *not* be treated as literal strings when regex=True.\n",
      "  df.columns = df.columns.str.strip().str.lower().str.replace(' ', '_').str.replace('(', '').str.replace(')', '')\n"
     ]
    }
   ],
   "source": [
    "#merge all the precipitation time series generated into singe dataframe\n",
    "def prec_ts_merge():\n",
    "    # Very compact code.\n",
    "    df = pd.DataFrame()\n",
    "    for elt in local_zip_list:\n",
    "        ffname = local_ftp_ts_dir + elt\n",
    "        print(\"Zip archive: \" + ffname)\n",
    "        with ZipFile(ffname) as myzip:\n",
    "            # read the time series data from the file starting with \"produkt\"\n",
    "            prodfilename = [elt for elt in myzip.namelist() if elt.split(\"_\")[0]==\"produkt\"][0] \n",
    "            print(\"Extract product file: %s\" % prodfilename)\n",
    "            print()\n",
    "            with myzip.open(prodfilename) as myfile:\n",
    "                dftmp = prec_ts_to_df(myfile)\n",
    "                s = dftmp[\"r1\"].rename(dftmp[\"stations_id\"][0]).to_frame()\n",
    "                # outer merge.\n",
    "                df = pd.merge(df, s, left_index=True, right_index=True, how='outer')\n",
    "\n",
    "    #df.index.names = [\"year\"]\n",
    "    df.index.rename(name = \"time\", inplace = True)\n",
    "    return(df)\n",
    "\n",
    "df_merged_ts = prec_ts_merge()"
   ]
  },
  {
   "cell_type": "code",
   "execution_count": 17,
   "id": "c6e1a66b-8d0f-4dde-917c-309cccfc7c5d",
   "metadata": {},
   "outputs": [
    {
     "data": {
      "text/html": [
       "<div>\n",
       "<style scoped>\n",
       "    .dataframe tbody tr th:only-of-type {\n",
       "        vertical-align: middle;\n",
       "    }\n",
       "\n",
       "    .dataframe tbody tr th {\n",
       "        vertical-align: top;\n",
       "    }\n",
       "\n",
       "    .dataframe thead th {\n",
       "        text-align: right;\n",
       "    }\n",
       "</style>\n",
       "<table border=\"1\" class=\"dataframe\">\n",
       "  <thead>\n",
       "    <tr style=\"text-align: right;\">\n",
       "      <th></th>\n",
       "      <th>3</th>\n",
       "      <th>216</th>\n",
       "      <th>326</th>\n",
       "      <th>389</th>\n",
       "      <th>390</th>\n",
       "      <th>554</th>\n",
       "      <th>555</th>\n",
       "      <th>599</th>\n",
       "      <th>603</th>\n",
       "      <th>613</th>\n",
       "      <th>...</th>\n",
       "      <th>7344</th>\n",
       "      <th>7374</th>\n",
       "      <th>7378</th>\n",
       "      <th>13669</th>\n",
       "      <th>13670</th>\n",
       "      <th>13671</th>\n",
       "      <th>13696</th>\n",
       "      <th>13700</th>\n",
       "      <th>13713</th>\n",
       "      <th>15000</th>\n",
       "    </tr>\n",
       "    <tr>\n",
       "      <th>time</th>\n",
       "      <th></th>\n",
       "      <th></th>\n",
       "      <th></th>\n",
       "      <th></th>\n",
       "      <th></th>\n",
       "      <th></th>\n",
       "      <th></th>\n",
       "      <th></th>\n",
       "      <th></th>\n",
       "      <th></th>\n",
       "      <th></th>\n",
       "      <th></th>\n",
       "      <th></th>\n",
       "      <th></th>\n",
       "      <th></th>\n",
       "      <th></th>\n",
       "      <th></th>\n",
       "      <th></th>\n",
       "      <th></th>\n",
       "      <th></th>\n",
       "      <th></th>\n",
       "    </tr>\n",
       "  </thead>\n",
       "  <tbody>\n",
       "    <tr>\n",
       "      <th>1995-09-01 00:00:00</th>\n",
       "      <td>0.0</td>\n",
       "      <td>NaN</td>\n",
       "      <td>NaN</td>\n",
       "      <td>NaN</td>\n",
       "      <td>NaN</td>\n",
       "      <td>0.0</td>\n",
       "      <td>NaN</td>\n",
       "      <td>0.0</td>\n",
       "      <td>NaN</td>\n",
       "      <td>NaN</td>\n",
       "      <td>...</td>\n",
       "      <td>NaN</td>\n",
       "      <td>NaN</td>\n",
       "      <td>NaN</td>\n",
       "      <td>NaN</td>\n",
       "      <td>NaN</td>\n",
       "      <td>NaN</td>\n",
       "      <td>NaN</td>\n",
       "      <td>NaN</td>\n",
       "      <td>NaN</td>\n",
       "      <td>NaN</td>\n",
       "    </tr>\n",
       "    <tr>\n",
       "      <th>1995-09-01 01:00:00</th>\n",
       "      <td>0.0</td>\n",
       "      <td>NaN</td>\n",
       "      <td>NaN</td>\n",
       "      <td>NaN</td>\n",
       "      <td>NaN</td>\n",
       "      <td>0.0</td>\n",
       "      <td>NaN</td>\n",
       "      <td>0.0</td>\n",
       "      <td>NaN</td>\n",
       "      <td>NaN</td>\n",
       "      <td>...</td>\n",
       "      <td>NaN</td>\n",
       "      <td>NaN</td>\n",
       "      <td>NaN</td>\n",
       "      <td>NaN</td>\n",
       "      <td>NaN</td>\n",
       "      <td>NaN</td>\n",
       "      <td>NaN</td>\n",
       "      <td>NaN</td>\n",
       "      <td>NaN</td>\n",
       "      <td>NaN</td>\n",
       "    </tr>\n",
       "    <tr>\n",
       "      <th>1995-09-01 02:00:00</th>\n",
       "      <td>0.0</td>\n",
       "      <td>NaN</td>\n",
       "      <td>NaN</td>\n",
       "      <td>NaN</td>\n",
       "      <td>NaN</td>\n",
       "      <td>0.0</td>\n",
       "      <td>NaN</td>\n",
       "      <td>0.0</td>\n",
       "      <td>NaN</td>\n",
       "      <td>NaN</td>\n",
       "      <td>...</td>\n",
       "      <td>NaN</td>\n",
       "      <td>NaN</td>\n",
       "      <td>NaN</td>\n",
       "      <td>NaN</td>\n",
       "      <td>NaN</td>\n",
       "      <td>NaN</td>\n",
       "      <td>NaN</td>\n",
       "      <td>NaN</td>\n",
       "      <td>NaN</td>\n",
       "      <td>NaN</td>\n",
       "    </tr>\n",
       "    <tr>\n",
       "      <th>1995-09-01 03:00:00</th>\n",
       "      <td>0.0</td>\n",
       "      <td>NaN</td>\n",
       "      <td>NaN</td>\n",
       "      <td>NaN</td>\n",
       "      <td>NaN</td>\n",
       "      <td>0.0</td>\n",
       "      <td>NaN</td>\n",
       "      <td>0.0</td>\n",
       "      <td>NaN</td>\n",
       "      <td>NaN</td>\n",
       "      <td>...</td>\n",
       "      <td>NaN</td>\n",
       "      <td>NaN</td>\n",
       "      <td>NaN</td>\n",
       "      <td>NaN</td>\n",
       "      <td>NaN</td>\n",
       "      <td>NaN</td>\n",
       "      <td>NaN</td>\n",
       "      <td>NaN</td>\n",
       "      <td>NaN</td>\n",
       "      <td>NaN</td>\n",
       "    </tr>\n",
       "    <tr>\n",
       "      <th>1995-09-01 04:00:00</th>\n",
       "      <td>0.0</td>\n",
       "      <td>NaN</td>\n",
       "      <td>NaN</td>\n",
       "      <td>NaN</td>\n",
       "      <td>NaN</td>\n",
       "      <td>0.0</td>\n",
       "      <td>NaN</td>\n",
       "      <td>0.0</td>\n",
       "      <td>NaN</td>\n",
       "      <td>NaN</td>\n",
       "      <td>...</td>\n",
       "      <td>NaN</td>\n",
       "      <td>NaN</td>\n",
       "      <td>NaN</td>\n",
       "      <td>NaN</td>\n",
       "      <td>NaN</td>\n",
       "      <td>NaN</td>\n",
       "      <td>NaN</td>\n",
       "      <td>NaN</td>\n",
       "      <td>NaN</td>\n",
       "      <td>NaN</td>\n",
       "    </tr>\n",
       "  </tbody>\n",
       "</table>\n",
       "<p>5 rows × 93 columns</p>\n",
       "</div>"
      ],
      "text/plain": [
       "                     3      216    326    389    390    554    555    599    \\\n",
       "time                                                                          \n",
       "1995-09-01 00:00:00    0.0    NaN    NaN    NaN    NaN    0.0    NaN    0.0   \n",
       "1995-09-01 01:00:00    0.0    NaN    NaN    NaN    NaN    0.0    NaN    0.0   \n",
       "1995-09-01 02:00:00    0.0    NaN    NaN    NaN    NaN    0.0    NaN    0.0   \n",
       "1995-09-01 03:00:00    0.0    NaN    NaN    NaN    NaN    0.0    NaN    0.0   \n",
       "1995-09-01 04:00:00    0.0    NaN    NaN    NaN    NaN    0.0    NaN    0.0   \n",
       "\n",
       "                     603    613    ...  7344   7374   7378   13669  13670  \\\n",
       "time                               ...                                      \n",
       "1995-09-01 00:00:00    NaN    NaN  ...    NaN    NaN    NaN    NaN    NaN   \n",
       "1995-09-01 01:00:00    NaN    NaN  ...    NaN    NaN    NaN    NaN    NaN   \n",
       "1995-09-01 02:00:00    NaN    NaN  ...    NaN    NaN    NaN    NaN    NaN   \n",
       "1995-09-01 03:00:00    NaN    NaN  ...    NaN    NaN    NaN    NaN    NaN   \n",
       "1995-09-01 04:00:00    NaN    NaN  ...    NaN    NaN    NaN    NaN    NaN   \n",
       "\n",
       "                     13671  13696  13700  13713  15000  \n",
       "time                                                    \n",
       "1995-09-01 00:00:00    NaN    NaN    NaN    NaN    NaN  \n",
       "1995-09-01 01:00:00    NaN    NaN    NaN    NaN    NaN  \n",
       "1995-09-01 02:00:00    NaN    NaN    NaN    NaN    NaN  \n",
       "1995-09-01 03:00:00    NaN    NaN    NaN    NaN    NaN  \n",
       "1995-09-01 04:00:00    NaN    NaN    NaN    NaN    NaN  \n",
       "\n",
       "[5 rows x 93 columns]"
      ]
     },
     "execution_count": 17,
     "metadata": {},
     "output_type": "execute_result"
    }
   ],
   "source": [
    "#glance the contents of the created dataframe\n",
    "df_merged_ts.head()"
   ]
  },
  {
   "cell_type": "code",
   "execution_count": 18,
   "id": "c9a74f8f-82ba-4180-b7bf-88469bd52753",
   "metadata": {},
   "outputs": [
    {
     "name": "stdout",
     "output_type": "stream",
     "text": [
      "Zip archive: ../data/original/DWD//hourly/precipitation/historical/stundenwerte_RR_00003_19950901_20110401_hist.zip\n",
      "Extract product file: produkt_rr_stunde_19950901_20110401_00003.txt\n",
      "\n"
     ]
    },
    {
     "name": "stderr",
     "output_type": "stream",
     "text": [
      "/var/folders/nv/b5gt_2xs6_b2b50_jwyn74wm0000gn/T/ipykernel_2616/2885908043.py:14: FutureWarning: The default value of regex will change from True to False in a future version. In addition, single character regular expressions will *not* be treated as literal strings when regex=True.\n",
      "  df.columns = df.columns.str.strip().str.lower().str.replace(' ', '_').str.replace('(', '').str.replace(')', '')\n",
      "/var/folders/nv/b5gt_2xs6_b2b50_jwyn74wm0000gn/T/ipykernel_2616/2885908043.py:14: FutureWarning: The default value of regex will change from True to False in a future version. In addition, single character regular expressions will *not* be treated as literal strings when regex=True.\n",
      "  df.columns = df.columns.str.strip().str.lower().str.replace(' ', '_').str.replace('(', '').str.replace(')', '')\n",
      "/var/folders/nv/b5gt_2xs6_b2b50_jwyn74wm0000gn/T/ipykernel_2616/308058508.py:19: FutureWarning: The frame.append method is deprecated and will be removed from pandas in a future version. Use pandas.concat instead.\n",
      "  df = df.append(dftmp)\n"
     ]
    },
    {
     "name": "stdout",
     "output_type": "stream",
     "text": [
      "Zip archive: ../data/original/DWD//hourly/precipitation/historical/stundenwerte_RR_00216_20041001_20201231_hist.zip\n",
      "Extract product file: produkt_rr_stunde_20041001_20201231_00216.txt\n",
      "\n"
     ]
    },
    {
     "name": "stderr",
     "output_type": "stream",
     "text": [
      "/var/folders/nv/b5gt_2xs6_b2b50_jwyn74wm0000gn/T/ipykernel_2616/2885908043.py:14: FutureWarning: The default value of regex will change from True to False in a future version. In addition, single character regular expressions will *not* be treated as literal strings when regex=True.\n",
      "  df.columns = df.columns.str.strip().str.lower().str.replace(' ', '_').str.replace('(', '').str.replace(')', '')\n",
      "/var/folders/nv/b5gt_2xs6_b2b50_jwyn74wm0000gn/T/ipykernel_2616/2885908043.py:14: FutureWarning: The default value of regex will change from True to False in a future version. In addition, single character regular expressions will *not* be treated as literal strings when regex=True.\n",
      "  df.columns = df.columns.str.strip().str.lower().str.replace(' ', '_').str.replace('(', '').str.replace(')', '')\n",
      "/var/folders/nv/b5gt_2xs6_b2b50_jwyn74wm0000gn/T/ipykernel_2616/308058508.py:19: FutureWarning: The frame.append method is deprecated and will be removed from pandas in a future version. Use pandas.concat instead.\n",
      "  df = df.append(dftmp)\n"
     ]
    },
    {
     "name": "stdout",
     "output_type": "stream",
     "text": [
      "Zip archive: ../data/original/DWD//hourly/precipitation/historical/stundenwerte_RR_00326_20040701_20130708_hist.zip\n",
      "Extract product file: produkt_rr_stunde_20040701_20130708_00326.txt\n",
      "\n"
     ]
    },
    {
     "name": "stderr",
     "output_type": "stream",
     "text": [
      "/var/folders/nv/b5gt_2xs6_b2b50_jwyn74wm0000gn/T/ipykernel_2616/2885908043.py:14: FutureWarning: The default value of regex will change from True to False in a future version. In addition, single character regular expressions will *not* be treated as literal strings when regex=True.\n",
      "  df.columns = df.columns.str.strip().str.lower().str.replace(' ', '_').str.replace('(', '').str.replace(')', '')\n",
      "/var/folders/nv/b5gt_2xs6_b2b50_jwyn74wm0000gn/T/ipykernel_2616/2885908043.py:14: FutureWarning: The default value of regex will change from True to False in a future version. In addition, single character regular expressions will *not* be treated as literal strings when regex=True.\n",
      "  df.columns = df.columns.str.strip().str.lower().str.replace(' ', '_').str.replace('(', '').str.replace(')', '')\n",
      "/var/folders/nv/b5gt_2xs6_b2b50_jwyn74wm0000gn/T/ipykernel_2616/308058508.py:19: FutureWarning: The frame.append method is deprecated and will be removed from pandas in a future version. Use pandas.concat instead.\n",
      "  df = df.append(dftmp)\n"
     ]
    },
    {
     "name": "stdout",
     "output_type": "stream",
     "text": [
      "Zip archive: ../data/original/DWD//hourly/precipitation/historical/stundenwerte_RR_00389_20091101_20201231_hist.zip\n",
      "Extract product file: produkt_rr_stunde_20091101_20201231_00389.txt\n",
      "\n"
     ]
    },
    {
     "name": "stderr",
     "output_type": "stream",
     "text": [
      "/var/folders/nv/b5gt_2xs6_b2b50_jwyn74wm0000gn/T/ipykernel_2616/2885908043.py:14: FutureWarning: The default value of regex will change from True to False in a future version. In addition, single character regular expressions will *not* be treated as literal strings when regex=True.\n",
      "  df.columns = df.columns.str.strip().str.lower().str.replace(' ', '_').str.replace('(', '').str.replace(')', '')\n",
      "/var/folders/nv/b5gt_2xs6_b2b50_jwyn74wm0000gn/T/ipykernel_2616/2885908043.py:14: FutureWarning: The default value of regex will change from True to False in a future version. In addition, single character regular expressions will *not* be treated as literal strings when regex=True.\n",
      "  df.columns = df.columns.str.strip().str.lower().str.replace(' ', '_').str.replace('(', '').str.replace(')', '')\n",
      "/var/folders/nv/b5gt_2xs6_b2b50_jwyn74wm0000gn/T/ipykernel_2616/308058508.py:19: FutureWarning: The frame.append method is deprecated and will be removed from pandas in a future version. Use pandas.concat instead.\n",
      "  df = df.append(dftmp)\n"
     ]
    },
    {
     "name": "stdout",
     "output_type": "stream",
     "text": [
      "Zip archive: ../data/original/DWD//hourly/precipitation/historical/stundenwerte_RR_00390_20040701_20201231_hist.zip\n",
      "Extract product file: produkt_rr_stunde_20040701_20201231_00390.txt\n",
      "\n"
     ]
    },
    {
     "name": "stderr",
     "output_type": "stream",
     "text": [
      "/var/folders/nv/b5gt_2xs6_b2b50_jwyn74wm0000gn/T/ipykernel_2616/2885908043.py:14: FutureWarning: The default value of regex will change from True to False in a future version. In addition, single character regular expressions will *not* be treated as literal strings when regex=True.\n",
      "  df.columns = df.columns.str.strip().str.lower().str.replace(' ', '_').str.replace('(', '').str.replace(')', '')\n",
      "/var/folders/nv/b5gt_2xs6_b2b50_jwyn74wm0000gn/T/ipykernel_2616/2885908043.py:14: FutureWarning: The default value of regex will change from True to False in a future version. In addition, single character regular expressions will *not* be treated as literal strings when regex=True.\n",
      "  df.columns = df.columns.str.strip().str.lower().str.replace(' ', '_').str.replace('(', '').str.replace(')', '')\n",
      "/var/folders/nv/b5gt_2xs6_b2b50_jwyn74wm0000gn/T/ipykernel_2616/308058508.py:19: FutureWarning: The frame.append method is deprecated and will be removed from pandas in a future version. Use pandas.concat instead.\n",
      "  df = df.append(dftmp)\n"
     ]
    },
    {
     "name": "stdout",
     "output_type": "stream",
     "text": [
      "Zip archive: ../data/original/DWD//hourly/precipitation/historical/stundenwerte_RR_00554_19950901_20201231_hist.zip\n",
      "Extract product file: produkt_rr_stunde_19950901_20201231_00554.txt\n",
      "\n"
     ]
    },
    {
     "name": "stderr",
     "output_type": "stream",
     "text": [
      "/var/folders/nv/b5gt_2xs6_b2b50_jwyn74wm0000gn/T/ipykernel_2616/2885908043.py:14: FutureWarning: The default value of regex will change from True to False in a future version. In addition, single character regular expressions will *not* be treated as literal strings when regex=True.\n",
      "  df.columns = df.columns.str.strip().str.lower().str.replace(' ', '_').str.replace('(', '').str.replace(')', '')\n",
      "/var/folders/nv/b5gt_2xs6_b2b50_jwyn74wm0000gn/T/ipykernel_2616/2885908043.py:14: FutureWarning: The default value of regex will change from True to False in a future version. In addition, single character regular expressions will *not* be treated as literal strings when regex=True.\n",
      "  df.columns = df.columns.str.strip().str.lower().str.replace(' ', '_').str.replace('(', '').str.replace(')', '')\n",
      "/var/folders/nv/b5gt_2xs6_b2b50_jwyn74wm0000gn/T/ipykernel_2616/308058508.py:19: FutureWarning: The frame.append method is deprecated and will be removed from pandas in a future version. Use pandas.concat instead.\n",
      "  df = df.append(dftmp)\n"
     ]
    },
    {
     "name": "stdout",
     "output_type": "stream",
     "text": [
      "Zip archive: ../data/original/DWD//hourly/precipitation/historical/stundenwerte_RR_00555_20080101_20181101_hist.zip\n",
      "Extract product file: produkt_rr_stunde_20080101_20181101_00555.txt\n",
      "\n"
     ]
    },
    {
     "name": "stderr",
     "output_type": "stream",
     "text": [
      "/var/folders/nv/b5gt_2xs6_b2b50_jwyn74wm0000gn/T/ipykernel_2616/2885908043.py:14: FutureWarning: The default value of regex will change from True to False in a future version. In addition, single character regular expressions will *not* be treated as literal strings when regex=True.\n",
      "  df.columns = df.columns.str.strip().str.lower().str.replace(' ', '_').str.replace('(', '').str.replace(')', '')\n",
      "/var/folders/nv/b5gt_2xs6_b2b50_jwyn74wm0000gn/T/ipykernel_2616/2885908043.py:14: FutureWarning: The default value of regex will change from True to False in a future version. In addition, single character regular expressions will *not* be treated as literal strings when regex=True.\n",
      "  df.columns = df.columns.str.strip().str.lower().str.replace(' ', '_').str.replace('(', '').str.replace(')', '')\n",
      "/var/folders/nv/b5gt_2xs6_b2b50_jwyn74wm0000gn/T/ipykernel_2616/308058508.py:19: FutureWarning: The frame.append method is deprecated and will be removed from pandas in a future version. Use pandas.concat instead.\n",
      "  df = df.append(dftmp)\n"
     ]
    },
    {
     "name": "stdout",
     "output_type": "stream",
     "text": [
      "Zip archive: ../data/original/DWD//hourly/precipitation/historical/stundenwerte_RR_00599_19950901_19990302_hist.zip\n",
      "Extract product file: produkt_rr_stunde_19950901_19990302_00599.txt\n",
      "\n"
     ]
    },
    {
     "name": "stderr",
     "output_type": "stream",
     "text": [
      "/var/folders/nv/b5gt_2xs6_b2b50_jwyn74wm0000gn/T/ipykernel_2616/2885908043.py:14: FutureWarning: The default value of regex will change from True to False in a future version. In addition, single character regular expressions will *not* be treated as literal strings when regex=True.\n",
      "  df.columns = df.columns.str.strip().str.lower().str.replace(' ', '_').str.replace('(', '').str.replace(')', '')\n",
      "/var/folders/nv/b5gt_2xs6_b2b50_jwyn74wm0000gn/T/ipykernel_2616/2885908043.py:14: FutureWarning: The default value of regex will change from True to False in a future version. In addition, single character regular expressions will *not* be treated as literal strings when regex=True.\n",
      "  df.columns = df.columns.str.strip().str.lower().str.replace(' ', '_').str.replace('(', '').str.replace(')', '')\n",
      "/var/folders/nv/b5gt_2xs6_b2b50_jwyn74wm0000gn/T/ipykernel_2616/308058508.py:19: FutureWarning: The frame.append method is deprecated and will be removed from pandas in a future version. Use pandas.concat instead.\n",
      "  df = df.append(dftmp)\n"
     ]
    },
    {
     "name": "stdout",
     "output_type": "stream",
     "text": [
      "Zip archive: ../data/original/DWD//hourly/precipitation/historical/stundenwerte_RR_00603_19990303_20201231_hist.zip\n",
      "Extract product file: produkt_rr_stunde_19990303_20201231_00603.txt\n",
      "\n"
     ]
    },
    {
     "name": "stderr",
     "output_type": "stream",
     "text": [
      "/var/folders/nv/b5gt_2xs6_b2b50_jwyn74wm0000gn/T/ipykernel_2616/2885908043.py:14: FutureWarning: The default value of regex will change from True to False in a future version. In addition, single character regular expressions will *not* be treated as literal strings when regex=True.\n",
      "  df.columns = df.columns.str.strip().str.lower().str.replace(' ', '_').str.replace('(', '').str.replace(')', '')\n",
      "/var/folders/nv/b5gt_2xs6_b2b50_jwyn74wm0000gn/T/ipykernel_2616/2885908043.py:14: FutureWarning: The default value of regex will change from True to False in a future version. In addition, single character regular expressions will *not* be treated as literal strings when regex=True.\n",
      "  df.columns = df.columns.str.strip().str.lower().str.replace(' ', '_').str.replace('(', '').str.replace(')', '')\n",
      "/var/folders/nv/b5gt_2xs6_b2b50_jwyn74wm0000gn/T/ipykernel_2616/308058508.py:19: FutureWarning: The frame.append method is deprecated and will be removed from pandas in a future version. Use pandas.concat instead.\n",
      "  df = df.append(dftmp)\n"
     ]
    },
    {
     "name": "stdout",
     "output_type": "stream",
     "text": [
      "Zip archive: ../data/original/DWD//hourly/precipitation/historical/stundenwerte_RR_00613_20041101_20201231_hist.zip\n",
      "Extract product file: produkt_rr_stunde_20041101_20201231_00613.txt\n",
      "\n"
     ]
    },
    {
     "name": "stderr",
     "output_type": "stream",
     "text": [
      "/var/folders/nv/b5gt_2xs6_b2b50_jwyn74wm0000gn/T/ipykernel_2616/2885908043.py:14: FutureWarning: The default value of regex will change from True to False in a future version. In addition, single character regular expressions will *not* be treated as literal strings when regex=True.\n",
      "  df.columns = df.columns.str.strip().str.lower().str.replace(' ', '_').str.replace('(', '').str.replace(')', '')\n",
      "/var/folders/nv/b5gt_2xs6_b2b50_jwyn74wm0000gn/T/ipykernel_2616/2885908043.py:14: FutureWarning: The default value of regex will change from True to False in a future version. In addition, single character regular expressions will *not* be treated as literal strings when regex=True.\n",
      "  df.columns = df.columns.str.strip().str.lower().str.replace(' ', '_').str.replace('(', '').str.replace(')', '')\n",
      "/var/folders/nv/b5gt_2xs6_b2b50_jwyn74wm0000gn/T/ipykernel_2616/308058508.py:19: FutureWarning: The frame.append method is deprecated and will be removed from pandas in a future version. Use pandas.concat instead.\n",
      "  df = df.append(dftmp)\n"
     ]
    },
    {
     "name": "stdout",
     "output_type": "stream",
     "text": [
      "Zip archive: ../data/original/DWD//hourly/precipitation/historical/stundenwerte_RR_00617_20040601_20201231_hist.zip\n",
      "Extract product file: produkt_rr_stunde_20040601_20201231_00617.txt\n",
      "\n"
     ]
    },
    {
     "name": "stderr",
     "output_type": "stream",
     "text": [
      "/var/folders/nv/b5gt_2xs6_b2b50_jwyn74wm0000gn/T/ipykernel_2616/2885908043.py:14: FutureWarning: The default value of regex will change from True to False in a future version. In addition, single character regular expressions will *not* be treated as literal strings when regex=True.\n",
      "  df.columns = df.columns.str.strip().str.lower().str.replace(' ', '_').str.replace('(', '').str.replace(')', '')\n",
      "/var/folders/nv/b5gt_2xs6_b2b50_jwyn74wm0000gn/T/ipykernel_2616/2885908043.py:14: FutureWarning: The default value of regex will change from True to False in a future version. In addition, single character regular expressions will *not* be treated as literal strings when regex=True.\n",
      "  df.columns = df.columns.str.strip().str.lower().str.replace(' ', '_').str.replace('(', '').str.replace(')', '')\n",
      "/var/folders/nv/b5gt_2xs6_b2b50_jwyn74wm0000gn/T/ipykernel_2616/308058508.py:19: FutureWarning: The frame.append method is deprecated and will be removed from pandas in a future version. Use pandas.concat instead.\n",
      "  df = df.append(dftmp)\n"
     ]
    },
    {
     "name": "stdout",
     "output_type": "stream",
     "text": [
      "Zip archive: ../data/original/DWD//hourly/precipitation/historical/stundenwerte_RR_00644_20050101_20201231_hist.zip\n",
      "Extract product file: produkt_rr_stunde_20050101_20201231_00644.txt\n",
      "\n"
     ]
    },
    {
     "name": "stderr",
     "output_type": "stream",
     "text": [
      "/var/folders/nv/b5gt_2xs6_b2b50_jwyn74wm0000gn/T/ipykernel_2616/2885908043.py:14: FutureWarning: The default value of regex will change from True to False in a future version. In addition, single character regular expressions will *not* be treated as literal strings when regex=True.\n",
      "  df.columns = df.columns.str.strip().str.lower().str.replace(' ', '_').str.replace('(', '').str.replace(')', '')\n",
      "/var/folders/nv/b5gt_2xs6_b2b50_jwyn74wm0000gn/T/ipykernel_2616/2885908043.py:14: FutureWarning: The default value of regex will change from True to False in a future version. In addition, single character regular expressions will *not* be treated as literal strings when regex=True.\n",
      "  df.columns = df.columns.str.strip().str.lower().str.replace(' ', '_').str.replace('(', '').str.replace(')', '')\n",
      "/var/folders/nv/b5gt_2xs6_b2b50_jwyn74wm0000gn/T/ipykernel_2616/308058508.py:19: FutureWarning: The frame.append method is deprecated and will be removed from pandas in a future version. Use pandas.concat instead.\n",
      "  df = df.append(dftmp)\n"
     ]
    },
    {
     "name": "stdout",
     "output_type": "stream",
     "text": [
      "Zip archive: ../data/original/DWD//hourly/precipitation/historical/stundenwerte_RR_00796_20041101_20201231_hist.zip\n",
      "Extract product file: produkt_rr_stunde_20041101_20201231_00796.txt\n",
      "\n"
     ]
    },
    {
     "name": "stderr",
     "output_type": "stream",
     "text": [
      "/var/folders/nv/b5gt_2xs6_b2b50_jwyn74wm0000gn/T/ipykernel_2616/2885908043.py:14: FutureWarning: The default value of regex will change from True to False in a future version. In addition, single character regular expressions will *not* be treated as literal strings when regex=True.\n",
      "  df.columns = df.columns.str.strip().str.lower().str.replace(' ', '_').str.replace('(', '').str.replace(')', '')\n",
      "/var/folders/nv/b5gt_2xs6_b2b50_jwyn74wm0000gn/T/ipykernel_2616/2885908043.py:14: FutureWarning: The default value of regex will change from True to False in a future version. In addition, single character regular expressions will *not* be treated as literal strings when regex=True.\n",
      "  df.columns = df.columns.str.strip().str.lower().str.replace(' ', '_').str.replace('(', '').str.replace(')', '')\n",
      "/var/folders/nv/b5gt_2xs6_b2b50_jwyn74wm0000gn/T/ipykernel_2616/308058508.py:19: FutureWarning: The frame.append method is deprecated and will be removed from pandas in a future version. Use pandas.concat instead.\n",
      "  df = df.append(dftmp)\n"
     ]
    },
    {
     "name": "stdout",
     "output_type": "stream",
     "text": [
      "Zip archive: ../data/original/DWD//hourly/precipitation/historical/stundenwerte_RR_00871_20050801_20201231_hist.zip\n",
      "Extract product file: produkt_rr_stunde_20050801_20201231_00871.txt\n",
      "\n"
     ]
    },
    {
     "name": "stderr",
     "output_type": "stream",
     "text": [
      "/var/folders/nv/b5gt_2xs6_b2b50_jwyn74wm0000gn/T/ipykernel_2616/2885908043.py:14: FutureWarning: The default value of regex will change from True to False in a future version. In addition, single character regular expressions will *not* be treated as literal strings when regex=True.\n",
      "  df.columns = df.columns.str.strip().str.lower().str.replace(' ', '_').str.replace('(', '').str.replace(')', '')\n",
      "/var/folders/nv/b5gt_2xs6_b2b50_jwyn74wm0000gn/T/ipykernel_2616/2885908043.py:14: FutureWarning: The default value of regex will change from True to False in a future version. In addition, single character regular expressions will *not* be treated as literal strings when regex=True.\n",
      "  df.columns = df.columns.str.strip().str.lower().str.replace(' ', '_').str.replace('(', '').str.replace(')', '')\n",
      "/var/folders/nv/b5gt_2xs6_b2b50_jwyn74wm0000gn/T/ipykernel_2616/308058508.py:19: FutureWarning: The frame.append method is deprecated and will be removed from pandas in a future version. Use pandas.concat instead.\n",
      "  df = df.append(dftmp)\n"
     ]
    },
    {
     "name": "stdout",
     "output_type": "stream",
     "text": [
      "Zip archive: ../data/original/DWD//hourly/precipitation/historical/stundenwerte_RR_00902_20061001_20201231_hist.zip\n",
      "Extract product file: produkt_rr_stunde_20061001_20201231_00902.txt\n",
      "\n"
     ]
    },
    {
     "name": "stderr",
     "output_type": "stream",
     "text": [
      "/var/folders/nv/b5gt_2xs6_b2b50_jwyn74wm0000gn/T/ipykernel_2616/2885908043.py:14: FutureWarning: The default value of regex will change from True to False in a future version. In addition, single character regular expressions will *not* be treated as literal strings when regex=True.\n",
      "  df.columns = df.columns.str.strip().str.lower().str.replace(' ', '_').str.replace('(', '').str.replace(')', '')\n",
      "/var/folders/nv/b5gt_2xs6_b2b50_jwyn74wm0000gn/T/ipykernel_2616/2885908043.py:14: FutureWarning: The default value of regex will change from True to False in a future version. In addition, single character regular expressions will *not* be treated as literal strings when regex=True.\n",
      "  df.columns = df.columns.str.strip().str.lower().str.replace(' ', '_').str.replace('(', '').str.replace(')', '')\n",
      "/var/folders/nv/b5gt_2xs6_b2b50_jwyn74wm0000gn/T/ipykernel_2616/308058508.py:19: FutureWarning: The frame.append method is deprecated and will be removed from pandas in a future version. Use pandas.concat instead.\n",
      "  df = df.append(dftmp)\n"
     ]
    },
    {
     "name": "stdout",
     "output_type": "stream",
     "text": [
      "Zip archive: ../data/original/DWD//hourly/precipitation/historical/stundenwerte_RR_00934_20041001_20201231_hist.zip\n",
      "Extract product file: produkt_rr_stunde_20041001_20201231_00934.txt\n",
      "\n"
     ]
    },
    {
     "name": "stderr",
     "output_type": "stream",
     "text": [
      "/var/folders/nv/b5gt_2xs6_b2b50_jwyn74wm0000gn/T/ipykernel_2616/2885908043.py:14: FutureWarning: The default value of regex will change from True to False in a future version. In addition, single character regular expressions will *not* be treated as literal strings when regex=True.\n",
      "  df.columns = df.columns.str.strip().str.lower().str.replace(' ', '_').str.replace('(', '').str.replace(')', '')\n",
      "/var/folders/nv/b5gt_2xs6_b2b50_jwyn74wm0000gn/T/ipykernel_2616/2885908043.py:14: FutureWarning: The default value of regex will change from True to False in a future version. In addition, single character regular expressions will *not* be treated as literal strings when regex=True.\n",
      "  df.columns = df.columns.str.strip().str.lower().str.replace(' ', '_').str.replace('(', '').str.replace(')', '')\n",
      "/var/folders/nv/b5gt_2xs6_b2b50_jwyn74wm0000gn/T/ipykernel_2616/308058508.py:19: FutureWarning: The frame.append method is deprecated and will be removed from pandas in a future version. Use pandas.concat instead.\n",
      "  df = df.append(dftmp)\n"
     ]
    },
    {
     "name": "stdout",
     "output_type": "stream",
     "text": [
      "Zip archive: ../data/original/DWD//hourly/precipitation/historical/stundenwerte_RR_00989_20050201_20201231_hist.zip\n",
      "Extract product file: produkt_rr_stunde_20050201_20201231_00989.txt\n",
      "\n"
     ]
    },
    {
     "name": "stderr",
     "output_type": "stream",
     "text": [
      "/var/folders/nv/b5gt_2xs6_b2b50_jwyn74wm0000gn/T/ipykernel_2616/2885908043.py:14: FutureWarning: The default value of regex will change from True to False in a future version. In addition, single character regular expressions will *not* be treated as literal strings when regex=True.\n",
      "  df.columns = df.columns.str.strip().str.lower().str.replace(' ', '_').str.replace('(', '').str.replace(')', '')\n",
      "/var/folders/nv/b5gt_2xs6_b2b50_jwyn74wm0000gn/T/ipykernel_2616/2885908043.py:14: FutureWarning: The default value of regex will change from True to False in a future version. In addition, single character regular expressions will *not* be treated as literal strings when regex=True.\n",
      "  df.columns = df.columns.str.strip().str.lower().str.replace(' ', '_').str.replace('(', '').str.replace(')', '')\n",
      "/var/folders/nv/b5gt_2xs6_b2b50_jwyn74wm0000gn/T/ipykernel_2616/308058508.py:19: FutureWarning: The frame.append method is deprecated and will be removed from pandas in a future version. Use pandas.concat instead.\n",
      "  df = df.append(dftmp)\n"
     ]
    },
    {
     "name": "stdout",
     "output_type": "stream",
     "text": [
      "Zip archive: ../data/original/DWD//hourly/precipitation/historical/stundenwerte_RR_01024_20060801_20201231_hist.zip\n",
      "Extract product file: produkt_rr_stunde_20060801_20201231_01024.txt\n",
      "\n"
     ]
    },
    {
     "name": "stderr",
     "output_type": "stream",
     "text": [
      "/var/folders/nv/b5gt_2xs6_b2b50_jwyn74wm0000gn/T/ipykernel_2616/2885908043.py:14: FutureWarning: The default value of regex will change from True to False in a future version. In addition, single character regular expressions will *not* be treated as literal strings when regex=True.\n",
      "  df.columns = df.columns.str.strip().str.lower().str.replace(' ', '_').str.replace('(', '').str.replace(')', '')\n",
      "/var/folders/nv/b5gt_2xs6_b2b50_jwyn74wm0000gn/T/ipykernel_2616/2885908043.py:14: FutureWarning: The default value of regex will change from True to False in a future version. In addition, single character regular expressions will *not* be treated as literal strings when regex=True.\n",
      "  df.columns = df.columns.str.strip().str.lower().str.replace(' ', '_').str.replace('(', '').str.replace(')', '')\n",
      "/var/folders/nv/b5gt_2xs6_b2b50_jwyn74wm0000gn/T/ipykernel_2616/308058508.py:19: FutureWarning: The frame.append method is deprecated and will be removed from pandas in a future version. Use pandas.concat instead.\n",
      "  df = df.append(dftmp)\n"
     ]
    },
    {
     "name": "stdout",
     "output_type": "stream",
     "text": [
      "Zip archive: ../data/original/DWD//hourly/precipitation/historical/stundenwerte_RR_01046_20041001_20201231_hist.zip\n",
      "Extract product file: produkt_rr_stunde_20041001_20201231_01046.txt\n",
      "\n"
     ]
    },
    {
     "name": "stderr",
     "output_type": "stream",
     "text": [
      "/var/folders/nv/b5gt_2xs6_b2b50_jwyn74wm0000gn/T/ipykernel_2616/2885908043.py:14: FutureWarning: The default value of regex will change from True to False in a future version. In addition, single character regular expressions will *not* be treated as literal strings when regex=True.\n",
      "  df.columns = df.columns.str.strip().str.lower().str.replace(' ', '_').str.replace('(', '').str.replace(')', '')\n",
      "/var/folders/nv/b5gt_2xs6_b2b50_jwyn74wm0000gn/T/ipykernel_2616/2885908043.py:14: FutureWarning: The default value of regex will change from True to False in a future version. In addition, single character regular expressions will *not* be treated as literal strings when regex=True.\n",
      "  df.columns = df.columns.str.strip().str.lower().str.replace(' ', '_').str.replace('(', '').str.replace(')', '')\n",
      "/var/folders/nv/b5gt_2xs6_b2b50_jwyn74wm0000gn/T/ipykernel_2616/308058508.py:19: FutureWarning: The frame.append method is deprecated and will be removed from pandas in a future version. Use pandas.concat instead.\n",
      "  df = df.append(dftmp)\n"
     ]
    },
    {
     "name": "stdout",
     "output_type": "stream",
     "text": [
      "Zip archive: ../data/original/DWD//hourly/precipitation/historical/stundenwerte_RR_01078_19950901_20201231_hist.zip\n",
      "Extract product file: produkt_rr_stunde_19950901_20201231_01078.txt\n",
      "\n"
     ]
    },
    {
     "name": "stderr",
     "output_type": "stream",
     "text": [
      "/var/folders/nv/b5gt_2xs6_b2b50_jwyn74wm0000gn/T/ipykernel_2616/2885908043.py:14: FutureWarning: The default value of regex will change from True to False in a future version. In addition, single character regular expressions will *not* be treated as literal strings when regex=True.\n",
      "  df.columns = df.columns.str.strip().str.lower().str.replace(' ', '_').str.replace('(', '').str.replace(')', '')\n",
      "/var/folders/nv/b5gt_2xs6_b2b50_jwyn74wm0000gn/T/ipykernel_2616/2885908043.py:14: FutureWarning: The default value of regex will change from True to False in a future version. In addition, single character regular expressions will *not* be treated as literal strings when regex=True.\n",
      "  df.columns = df.columns.str.strip().str.lower().str.replace(' ', '_').str.replace('(', '').str.replace(')', '')\n",
      "/var/folders/nv/b5gt_2xs6_b2b50_jwyn74wm0000gn/T/ipykernel_2616/308058508.py:19: FutureWarning: The frame.append method is deprecated and will be removed from pandas in a future version. Use pandas.concat instead.\n",
      "  df = df.append(dftmp)\n"
     ]
    },
    {
     "name": "stdout",
     "output_type": "stream",
     "text": [
      "Zip archive: ../data/original/DWD//hourly/precipitation/historical/stundenwerte_RR_01241_20061201_20201231_hist.zip\n",
      "Extract product file: produkt_rr_stunde_20061201_20201231_01241.txt\n",
      "\n"
     ]
    },
    {
     "name": "stderr",
     "output_type": "stream",
     "text": [
      "/var/folders/nv/b5gt_2xs6_b2b50_jwyn74wm0000gn/T/ipykernel_2616/2885908043.py:14: FutureWarning: The default value of regex will change from True to False in a future version. In addition, single character regular expressions will *not* be treated as literal strings when regex=True.\n",
      "  df.columns = df.columns.str.strip().str.lower().str.replace(' ', '_').str.replace('(', '').str.replace(')', '')\n",
      "/var/folders/nv/b5gt_2xs6_b2b50_jwyn74wm0000gn/T/ipykernel_2616/2885908043.py:14: FutureWarning: The default value of regex will change from True to False in a future version. In addition, single character regular expressions will *not* be treated as literal strings when regex=True.\n",
      "  df.columns = df.columns.str.strip().str.lower().str.replace(' ', '_').str.replace('(', '').str.replace(')', '')\n",
      "/var/folders/nv/b5gt_2xs6_b2b50_jwyn74wm0000gn/T/ipykernel_2616/308058508.py:19: FutureWarning: The frame.append method is deprecated and will be removed from pandas in a future version. Use pandas.concat instead.\n",
      "  df = df.append(dftmp)\n"
     ]
    },
    {
     "name": "stdout",
     "output_type": "stream",
     "text": [
      "Zip archive: ../data/original/DWD//hourly/precipitation/historical/stundenwerte_RR_01246_20150801_20201231_hist.zip\n",
      "Extract product file: produkt_rr_stunde_20150801_20201231_01246.txt\n",
      "\n"
     ]
    },
    {
     "name": "stderr",
     "output_type": "stream",
     "text": [
      "/var/folders/nv/b5gt_2xs6_b2b50_jwyn74wm0000gn/T/ipykernel_2616/2885908043.py:14: FutureWarning: The default value of regex will change from True to False in a future version. In addition, single character regular expressions will *not* be treated as literal strings when regex=True.\n",
      "  df.columns = df.columns.str.strip().str.lower().str.replace(' ', '_').str.replace('(', '').str.replace(')', '')\n",
      "/var/folders/nv/b5gt_2xs6_b2b50_jwyn74wm0000gn/T/ipykernel_2616/2885908043.py:14: FutureWarning: The default value of regex will change from True to False in a future version. In addition, single character regular expressions will *not* be treated as literal strings when regex=True.\n",
      "  df.columns = df.columns.str.strip().str.lower().str.replace(' ', '_').str.replace('(', '').str.replace(')', '')\n",
      "/var/folders/nv/b5gt_2xs6_b2b50_jwyn74wm0000gn/T/ipykernel_2616/308058508.py:19: FutureWarning: The frame.append method is deprecated and will be removed from pandas in a future version. Use pandas.concat instead.\n",
      "  df = df.append(dftmp)\n"
     ]
    },
    {
     "name": "stdout",
     "output_type": "stream",
     "text": [
      "Zip archive: ../data/original/DWD//hourly/precipitation/historical/stundenwerte_RR_01300_20040601_20201231_hist.zip\n",
      "Extract product file: produkt_rr_stunde_20040601_20201231_01300.txt\n",
      "\n"
     ]
    },
    {
     "name": "stderr",
     "output_type": "stream",
     "text": [
      "/var/folders/nv/b5gt_2xs6_b2b50_jwyn74wm0000gn/T/ipykernel_2616/2885908043.py:14: FutureWarning: The default value of regex will change from True to False in a future version. In addition, single character regular expressions will *not* be treated as literal strings when regex=True.\n",
      "  df.columns = df.columns.str.strip().str.lower().str.replace(' ', '_').str.replace('(', '').str.replace(')', '')\n",
      "/var/folders/nv/b5gt_2xs6_b2b50_jwyn74wm0000gn/T/ipykernel_2616/2885908043.py:14: FutureWarning: The default value of regex will change from True to False in a future version. In addition, single character regular expressions will *not* be treated as literal strings when regex=True.\n",
      "  df.columns = df.columns.str.strip().str.lower().str.replace(' ', '_').str.replace('(', '').str.replace(')', '')\n",
      "/var/folders/nv/b5gt_2xs6_b2b50_jwyn74wm0000gn/T/ipykernel_2616/308058508.py:19: FutureWarning: The frame.append method is deprecated and will be removed from pandas in a future version. Use pandas.concat instead.\n",
      "  df = df.append(dftmp)\n"
     ]
    },
    {
     "name": "stdout",
     "output_type": "stream",
     "text": [
      "Zip archive: ../data/original/DWD//hourly/precipitation/historical/stundenwerte_RR_01303_19950901_20201231_hist.zip\n",
      "Extract product file: produkt_rr_stunde_19950901_20201231_01303.txt\n",
      "\n"
     ]
    },
    {
     "name": "stderr",
     "output_type": "stream",
     "text": [
      "/var/folders/nv/b5gt_2xs6_b2b50_jwyn74wm0000gn/T/ipykernel_2616/2885908043.py:14: FutureWarning: The default value of regex will change from True to False in a future version. In addition, single character regular expressions will *not* be treated as literal strings when regex=True.\n",
      "  df.columns = df.columns.str.strip().str.lower().str.replace(' ', '_').str.replace('(', '').str.replace(')', '')\n",
      "/var/folders/nv/b5gt_2xs6_b2b50_jwyn74wm0000gn/T/ipykernel_2616/2885908043.py:14: FutureWarning: The default value of regex will change from True to False in a future version. In addition, single character regular expressions will *not* be treated as literal strings when regex=True.\n",
      "  df.columns = df.columns.str.strip().str.lower().str.replace(' ', '_').str.replace('(', '').str.replace(')', '')\n",
      "/var/folders/nv/b5gt_2xs6_b2b50_jwyn74wm0000gn/T/ipykernel_2616/308058508.py:19: FutureWarning: The frame.append method is deprecated and will be removed from pandas in a future version. Use pandas.concat instead.\n",
      "  df = df.append(dftmp)\n"
     ]
    },
    {
     "name": "stdout",
     "output_type": "stream",
     "text": [
      "Zip archive: ../data/original/DWD//hourly/precipitation/historical/stundenwerte_RR_01327_20040801_20201231_hist.zip\n",
      "Extract product file: produkt_rr_stunde_20040801_20201231_01327.txt\n",
      "\n"
     ]
    },
    {
     "name": "stderr",
     "output_type": "stream",
     "text": [
      "/var/folders/nv/b5gt_2xs6_b2b50_jwyn74wm0000gn/T/ipykernel_2616/2885908043.py:14: FutureWarning: The default value of regex will change from True to False in a future version. In addition, single character regular expressions will *not* be treated as literal strings when regex=True.\n",
      "  df.columns = df.columns.str.strip().str.lower().str.replace(' ', '_').str.replace('(', '').str.replace(')', '')\n",
      "/var/folders/nv/b5gt_2xs6_b2b50_jwyn74wm0000gn/T/ipykernel_2616/2885908043.py:14: FutureWarning: The default value of regex will change from True to False in a future version. In addition, single character regular expressions will *not* be treated as literal strings when regex=True.\n",
      "  df.columns = df.columns.str.strip().str.lower().str.replace(' ', '_').str.replace('(', '').str.replace(')', '')\n",
      "/var/folders/nv/b5gt_2xs6_b2b50_jwyn74wm0000gn/T/ipykernel_2616/308058508.py:19: FutureWarning: The frame.append method is deprecated and will be removed from pandas in a future version. Use pandas.concat instead.\n",
      "  df = df.append(dftmp)\n"
     ]
    },
    {
     "name": "stdout",
     "output_type": "stream",
     "text": [
      "Zip archive: ../data/original/DWD//hourly/precipitation/historical/stundenwerte_RR_01590_20030701_20201231_hist.zip\n",
      "Extract product file: produkt_rr_stunde_20030701_20201231_01590.txt\n",
      "\n"
     ]
    },
    {
     "name": "stderr",
     "output_type": "stream",
     "text": [
      "/var/folders/nv/b5gt_2xs6_b2b50_jwyn74wm0000gn/T/ipykernel_2616/2885908043.py:14: FutureWarning: The default value of regex will change from True to False in a future version. In addition, single character regular expressions will *not* be treated as literal strings when regex=True.\n",
      "  df.columns = df.columns.str.strip().str.lower().str.replace(' ', '_').str.replace('(', '').str.replace(')', '')\n",
      "/var/folders/nv/b5gt_2xs6_b2b50_jwyn74wm0000gn/T/ipykernel_2616/2885908043.py:14: FutureWarning: The default value of regex will change from True to False in a future version. In addition, single character regular expressions will *not* be treated as literal strings when regex=True.\n",
      "  df.columns = df.columns.str.strip().str.lower().str.replace(' ', '_').str.replace('(', '').str.replace(')', '')\n",
      "/var/folders/nv/b5gt_2xs6_b2b50_jwyn74wm0000gn/T/ipykernel_2616/308058508.py:19: FutureWarning: The frame.append method is deprecated and will be removed from pandas in a future version. Use pandas.concat instead.\n",
      "  df = df.append(dftmp)\n"
     ]
    },
    {
     "name": "stdout",
     "output_type": "stream",
     "text": [
      "Zip archive: ../data/original/DWD//hourly/precipitation/historical/stundenwerte_RR_01595_20121001_20201231_hist.zip\n",
      "Extract product file: produkt_rr_stunde_20121001_20201231_01595.txt\n",
      "\n"
     ]
    },
    {
     "name": "stderr",
     "output_type": "stream",
     "text": [
      "/var/folders/nv/b5gt_2xs6_b2b50_jwyn74wm0000gn/T/ipykernel_2616/2885908043.py:14: FutureWarning: The default value of regex will change from True to False in a future version. In addition, single character regular expressions will *not* be treated as literal strings when regex=True.\n",
      "  df.columns = df.columns.str.strip().str.lower().str.replace(' ', '_').str.replace('(', '').str.replace(')', '')\n",
      "/var/folders/nv/b5gt_2xs6_b2b50_jwyn74wm0000gn/T/ipykernel_2616/2885908043.py:14: FutureWarning: The default value of regex will change from True to False in a future version. In addition, single character regular expressions will *not* be treated as literal strings when regex=True.\n",
      "  df.columns = df.columns.str.strip().str.lower().str.replace(' ', '_').str.replace('(', '').str.replace(')', '')\n",
      "/var/folders/nv/b5gt_2xs6_b2b50_jwyn74wm0000gn/T/ipykernel_2616/308058508.py:19: FutureWarning: The frame.append method is deprecated and will be removed from pandas in a future version. Use pandas.concat instead.\n",
      "  df = df.append(dftmp)\n"
     ]
    },
    {
     "name": "stdout",
     "output_type": "stream",
     "text": [
      "Zip archive: ../data/original/DWD//hourly/precipitation/historical/stundenwerte_RR_01766_19950901_20201231_hist.zip\n",
      "Extract product file: produkt_rr_stunde_19950901_20201231_01766.txt\n",
      "\n"
     ]
    },
    {
     "name": "stderr",
     "output_type": "stream",
     "text": [
      "/var/folders/nv/b5gt_2xs6_b2b50_jwyn74wm0000gn/T/ipykernel_2616/2885908043.py:14: FutureWarning: The default value of regex will change from True to False in a future version. In addition, single character regular expressions will *not* be treated as literal strings when regex=True.\n",
      "  df.columns = df.columns.str.strip().str.lower().str.replace(' ', '_').str.replace('(', '').str.replace(')', '')\n",
      "/var/folders/nv/b5gt_2xs6_b2b50_jwyn74wm0000gn/T/ipykernel_2616/2885908043.py:14: FutureWarning: The default value of regex will change from True to False in a future version. In addition, single character regular expressions will *not* be treated as literal strings when regex=True.\n",
      "  df.columns = df.columns.str.strip().str.lower().str.replace(' ', '_').str.replace('(', '').str.replace(')', '')\n",
      "/var/folders/nv/b5gt_2xs6_b2b50_jwyn74wm0000gn/T/ipykernel_2616/308058508.py:19: FutureWarning: The frame.append method is deprecated and will be removed from pandas in a future version. Use pandas.concat instead.\n",
      "  df = df.append(dftmp)\n"
     ]
    },
    {
     "name": "stdout",
     "output_type": "stream",
     "text": [
      "Zip archive: ../data/original/DWD//hourly/precipitation/historical/stundenwerte_RR_02027_20060601_20201231_hist.zip\n",
      "Extract product file: produkt_rr_stunde_20060601_20201231_02027.txt\n",
      "\n"
     ]
    },
    {
     "name": "stderr",
     "output_type": "stream",
     "text": [
      "/var/folders/nv/b5gt_2xs6_b2b50_jwyn74wm0000gn/T/ipykernel_2616/2885908043.py:14: FutureWarning: The default value of regex will change from True to False in a future version. In addition, single character regular expressions will *not* be treated as literal strings when regex=True.\n",
      "  df.columns = df.columns.str.strip().str.lower().str.replace(' ', '_').str.replace('(', '').str.replace(')', '')\n",
      "/var/folders/nv/b5gt_2xs6_b2b50_jwyn74wm0000gn/T/ipykernel_2616/2885908043.py:14: FutureWarning: The default value of regex will change from True to False in a future version. In addition, single character regular expressions will *not* be treated as literal strings when regex=True.\n",
      "  df.columns = df.columns.str.strip().str.lower().str.replace(' ', '_').str.replace('(', '').str.replace(')', '')\n",
      "/var/folders/nv/b5gt_2xs6_b2b50_jwyn74wm0000gn/T/ipykernel_2616/308058508.py:19: FutureWarning: The frame.append method is deprecated and will be removed from pandas in a future version. Use pandas.concat instead.\n",
      "  df = df.append(dftmp)\n"
     ]
    },
    {
     "name": "stdout",
     "output_type": "stream",
     "text": [
      "Zip archive: ../data/original/DWD//hourly/precipitation/historical/stundenwerte_RR_02110_20030105_20201231_hist.zip\n",
      "Extract product file: produkt_rr_stunde_20030105_20201231_02110.txt\n",
      "\n"
     ]
    },
    {
     "name": "stderr",
     "output_type": "stream",
     "text": [
      "/var/folders/nv/b5gt_2xs6_b2b50_jwyn74wm0000gn/T/ipykernel_2616/2885908043.py:14: FutureWarning: The default value of regex will change from True to False in a future version. In addition, single character regular expressions will *not* be treated as literal strings when regex=True.\n",
      "  df.columns = df.columns.str.strip().str.lower().str.replace(' ', '_').str.replace('(', '').str.replace(')', '')\n",
      "/var/folders/nv/b5gt_2xs6_b2b50_jwyn74wm0000gn/T/ipykernel_2616/2885908043.py:14: FutureWarning: The default value of regex will change from True to False in a future version. In addition, single character regular expressions will *not* be treated as literal strings when regex=True.\n",
      "  df.columns = df.columns.str.strip().str.lower().str.replace(' ', '_').str.replace('(', '').str.replace(')', '')\n",
      "/var/folders/nv/b5gt_2xs6_b2b50_jwyn74wm0000gn/T/ipykernel_2616/308058508.py:19: FutureWarning: The frame.append method is deprecated and will be removed from pandas in a future version. Use pandas.concat instead.\n",
      "  df = df.append(dftmp)\n"
     ]
    },
    {
     "name": "stdout",
     "output_type": "stream",
     "text": [
      "Zip archive: ../data/original/DWD//hourly/precipitation/historical/stundenwerte_RR_02254_20050601_20201231_hist.zip\n",
      "Extract product file: produkt_rr_stunde_20050601_20201231_02254.txt\n",
      "\n"
     ]
    },
    {
     "name": "stderr",
     "output_type": "stream",
     "text": [
      "/var/folders/nv/b5gt_2xs6_b2b50_jwyn74wm0000gn/T/ipykernel_2616/2885908043.py:14: FutureWarning: The default value of regex will change from True to False in a future version. In addition, single character regular expressions will *not* be treated as literal strings when regex=True.\n",
      "  df.columns = df.columns.str.strip().str.lower().str.replace(' ', '_').str.replace('(', '').str.replace(')', '')\n",
      "/var/folders/nv/b5gt_2xs6_b2b50_jwyn74wm0000gn/T/ipykernel_2616/2885908043.py:14: FutureWarning: The default value of regex will change from True to False in a future version. In addition, single character regular expressions will *not* be treated as literal strings when regex=True.\n",
      "  df.columns = df.columns.str.strip().str.lower().str.replace(' ', '_').str.replace('(', '').str.replace(')', '')\n",
      "/var/folders/nv/b5gt_2xs6_b2b50_jwyn74wm0000gn/T/ipykernel_2616/308058508.py:19: FutureWarning: The frame.append method is deprecated and will be removed from pandas in a future version. Use pandas.concat instead.\n",
      "  df = df.append(dftmp)\n"
     ]
    },
    {
     "name": "stdout",
     "output_type": "stream",
     "text": [
      "Zip archive: ../data/original/DWD//hourly/precipitation/historical/stundenwerte_RR_02473_20041201_20201231_hist.zip\n",
      "Extract product file: produkt_rr_stunde_20041201_20201231_02473.txt\n",
      "\n"
     ]
    },
    {
     "name": "stderr",
     "output_type": "stream",
     "text": [
      "/var/folders/nv/b5gt_2xs6_b2b50_jwyn74wm0000gn/T/ipykernel_2616/2885908043.py:14: FutureWarning: The default value of regex will change from True to False in a future version. In addition, single character regular expressions will *not* be treated as literal strings when regex=True.\n",
      "  df.columns = df.columns.str.strip().str.lower().str.replace(' ', '_').str.replace('(', '').str.replace(')', '')\n",
      "/var/folders/nv/b5gt_2xs6_b2b50_jwyn74wm0000gn/T/ipykernel_2616/2885908043.py:14: FutureWarning: The default value of regex will change from True to False in a future version. In addition, single character regular expressions will *not* be treated as literal strings when regex=True.\n",
      "  df.columns = df.columns.str.strip().str.lower().str.replace(' ', '_').str.replace('(', '').str.replace(')', '')\n",
      "/var/folders/nv/b5gt_2xs6_b2b50_jwyn74wm0000gn/T/ipykernel_2616/308058508.py:19: FutureWarning: The frame.append method is deprecated and will be removed from pandas in a future version. Use pandas.concat instead.\n",
      "  df = df.append(dftmp)\n"
     ]
    },
    {
     "name": "stdout",
     "output_type": "stream",
     "text": [
      "Zip archive: ../data/original/DWD//hourly/precipitation/historical/stundenwerte_RR_02483_19951012_20201231_hist.zip\n",
      "Extract product file: produkt_rr_stunde_19951012_20201231_02483.txt\n",
      "\n"
     ]
    },
    {
     "name": "stderr",
     "output_type": "stream",
     "text": [
      "/var/folders/nv/b5gt_2xs6_b2b50_jwyn74wm0000gn/T/ipykernel_2616/2885908043.py:14: FutureWarning: The default value of regex will change from True to False in a future version. In addition, single character regular expressions will *not* be treated as literal strings when regex=True.\n",
      "  df.columns = df.columns.str.strip().str.lower().str.replace(' ', '_').str.replace('(', '').str.replace(')', '')\n",
      "/var/folders/nv/b5gt_2xs6_b2b50_jwyn74wm0000gn/T/ipykernel_2616/2885908043.py:14: FutureWarning: The default value of regex will change from True to False in a future version. In addition, single character regular expressions will *not* be treated as literal strings when regex=True.\n",
      "  df.columns = df.columns.str.strip().str.lower().str.replace(' ', '_').str.replace('(', '').str.replace(')', '')\n",
      "/var/folders/nv/b5gt_2xs6_b2b50_jwyn74wm0000gn/T/ipykernel_2616/308058508.py:19: FutureWarning: The frame.append method is deprecated and will be removed from pandas in a future version. Use pandas.concat instead.\n",
      "  df = df.append(dftmp)\n"
     ]
    },
    {
     "name": "stdout",
     "output_type": "stream",
     "text": [
      "Zip archive: ../data/original/DWD//hourly/precipitation/historical/stundenwerte_RR_02497_20040801_20201231_hist.zip\n",
      "Extract product file: produkt_rr_stunde_20040801_20201231_02497.txt\n",
      "\n"
     ]
    },
    {
     "name": "stderr",
     "output_type": "stream",
     "text": [
      "/var/folders/nv/b5gt_2xs6_b2b50_jwyn74wm0000gn/T/ipykernel_2616/2885908043.py:14: FutureWarning: The default value of regex will change from True to False in a future version. In addition, single character regular expressions will *not* be treated as literal strings when regex=True.\n",
      "  df.columns = df.columns.str.strip().str.lower().str.replace(' ', '_').str.replace('(', '').str.replace(')', '')\n",
      "/var/folders/nv/b5gt_2xs6_b2b50_jwyn74wm0000gn/T/ipykernel_2616/2885908043.py:14: FutureWarning: The default value of regex will change from True to False in a future version. In addition, single character regular expressions will *not* be treated as literal strings when regex=True.\n",
      "  df.columns = df.columns.str.strip().str.lower().str.replace(' ', '_').str.replace('(', '').str.replace(')', '')\n",
      "/var/folders/nv/b5gt_2xs6_b2b50_jwyn74wm0000gn/T/ipykernel_2616/308058508.py:19: FutureWarning: The frame.append method is deprecated and will be removed from pandas in a future version. Use pandas.concat instead.\n",
      "  df = df.append(dftmp)\n"
     ]
    },
    {
     "name": "stdout",
     "output_type": "stream",
     "text": [
      "Zip archive: ../data/original/DWD//hourly/precipitation/historical/stundenwerte_RR_02629_20040701_20201231_hist.zip\n",
      "Extract product file: produkt_rr_stunde_20040701_20201231_02629.txt\n",
      "\n"
     ]
    },
    {
     "name": "stderr",
     "output_type": "stream",
     "text": [
      "/var/folders/nv/b5gt_2xs6_b2b50_jwyn74wm0000gn/T/ipykernel_2616/2885908043.py:14: FutureWarning: The default value of regex will change from True to False in a future version. In addition, single character regular expressions will *not* be treated as literal strings when regex=True.\n",
      "  df.columns = df.columns.str.strip().str.lower().str.replace(' ', '_').str.replace('(', '').str.replace(')', '')\n",
      "/var/folders/nv/b5gt_2xs6_b2b50_jwyn74wm0000gn/T/ipykernel_2616/2885908043.py:14: FutureWarning: The default value of regex will change from True to False in a future version. In addition, single character regular expressions will *not* be treated as literal strings when regex=True.\n",
      "  df.columns = df.columns.str.strip().str.lower().str.replace(' ', '_').str.replace('(', '').str.replace(')', '')\n",
      "/var/folders/nv/b5gt_2xs6_b2b50_jwyn74wm0000gn/T/ipykernel_2616/308058508.py:19: FutureWarning: The frame.append method is deprecated and will be removed from pandas in a future version. Use pandas.concat instead.\n",
      "  df = df.append(dftmp)\n"
     ]
    },
    {
     "name": "stdout",
     "output_type": "stream",
     "text": [
      "Zip archive: ../data/original/DWD//hourly/precipitation/historical/stundenwerte_RR_02667_19950901_20201231_hist.zip\n",
      "Extract product file: produkt_rr_stunde_19950901_20201231_02667.txt\n",
      "\n"
     ]
    },
    {
     "name": "stderr",
     "output_type": "stream",
     "text": [
      "/var/folders/nv/b5gt_2xs6_b2b50_jwyn74wm0000gn/T/ipykernel_2616/2885908043.py:14: FutureWarning: The default value of regex will change from True to False in a future version. In addition, single character regular expressions will *not* be treated as literal strings when regex=True.\n",
      "  df.columns = df.columns.str.strip().str.lower().str.replace(' ', '_').str.replace('(', '').str.replace(')', '')\n",
      "/var/folders/nv/b5gt_2xs6_b2b50_jwyn74wm0000gn/T/ipykernel_2616/2885908043.py:14: FutureWarning: The default value of regex will change from True to False in a future version. In addition, single character regular expressions will *not* be treated as literal strings when regex=True.\n",
      "  df.columns = df.columns.str.strip().str.lower().str.replace(' ', '_').str.replace('(', '').str.replace(')', '')\n",
      "/var/folders/nv/b5gt_2xs6_b2b50_jwyn74wm0000gn/T/ipykernel_2616/308058508.py:19: FutureWarning: The frame.append method is deprecated and will be removed from pandas in a future version. Use pandas.concat instead.\n",
      "  df = df.append(dftmp)\n"
     ]
    },
    {
     "name": "stdout",
     "output_type": "stream",
     "text": [
      "Zip archive: ../data/original/DWD//hourly/precipitation/historical/stundenwerte_RR_02703_19950901_20001010_hist.zip\n",
      "Extract product file: produkt_rr_stunde_19950901_20001010_02703.txt\n",
      "\n"
     ]
    },
    {
     "name": "stderr",
     "output_type": "stream",
     "text": [
      "/var/folders/nv/b5gt_2xs6_b2b50_jwyn74wm0000gn/T/ipykernel_2616/2885908043.py:14: FutureWarning: The default value of regex will change from True to False in a future version. In addition, single character regular expressions will *not* be treated as literal strings when regex=True.\n",
      "  df.columns = df.columns.str.strip().str.lower().str.replace(' ', '_').str.replace('(', '').str.replace(')', '')\n",
      "/var/folders/nv/b5gt_2xs6_b2b50_jwyn74wm0000gn/T/ipykernel_2616/2885908043.py:14: FutureWarning: The default value of regex will change from True to False in a future version. In addition, single character regular expressions will *not* be treated as literal strings when regex=True.\n",
      "  df.columns = df.columns.str.strip().str.lower().str.replace(' ', '_').str.replace('(', '').str.replace(')', '')\n",
      "/var/folders/nv/b5gt_2xs6_b2b50_jwyn74wm0000gn/T/ipykernel_2616/308058508.py:19: FutureWarning: The frame.append method is deprecated and will be removed from pandas in a future version. Use pandas.concat instead.\n",
      "  df = df.append(dftmp)\n"
     ]
    },
    {
     "name": "stdout",
     "output_type": "stream",
     "text": [
      "Zip archive: ../data/original/DWD//hourly/precipitation/historical/stundenwerte_RR_02810_20061201_20201231_hist.zip\n",
      "Extract product file: produkt_rr_stunde_20061201_20201231_02810.txt\n",
      "\n"
     ]
    },
    {
     "name": "stderr",
     "output_type": "stream",
     "text": [
      "/var/folders/nv/b5gt_2xs6_b2b50_jwyn74wm0000gn/T/ipykernel_2616/2885908043.py:14: FutureWarning: The default value of regex will change from True to False in a future version. In addition, single character regular expressions will *not* be treated as literal strings when regex=True.\n",
      "  df.columns = df.columns.str.strip().str.lower().str.replace(' ', '_').str.replace('(', '').str.replace(')', '')\n",
      "/var/folders/nv/b5gt_2xs6_b2b50_jwyn74wm0000gn/T/ipykernel_2616/2885908043.py:14: FutureWarning: The default value of regex will change from True to False in a future version. In addition, single character regular expressions will *not* be treated as literal strings when regex=True.\n",
      "  df.columns = df.columns.str.strip().str.lower().str.replace(' ', '_').str.replace('(', '').str.replace(')', '')\n",
      "/var/folders/nv/b5gt_2xs6_b2b50_jwyn74wm0000gn/T/ipykernel_2616/308058508.py:19: FutureWarning: The frame.append method is deprecated and will be removed from pandas in a future version. Use pandas.concat instead.\n",
      "  df = df.append(dftmp)\n"
     ]
    },
    {
     "name": "stdout",
     "output_type": "stream",
     "text": [
      "Zip archive: ../data/original/DWD//hourly/precipitation/historical/stundenwerte_RR_02947_20061001_20201231_hist.zip\n",
      "Extract product file: produkt_rr_stunde_20061001_20201231_02947.txt\n",
      "\n"
     ]
    },
    {
     "name": "stderr",
     "output_type": "stream",
     "text": [
      "/var/folders/nv/b5gt_2xs6_b2b50_jwyn74wm0000gn/T/ipykernel_2616/2885908043.py:14: FutureWarning: The default value of regex will change from True to False in a future version. In addition, single character regular expressions will *not* be treated as literal strings when regex=True.\n",
      "  df.columns = df.columns.str.strip().str.lower().str.replace(' ', '_').str.replace('(', '').str.replace(')', '')\n",
      "/var/folders/nv/b5gt_2xs6_b2b50_jwyn74wm0000gn/T/ipykernel_2616/2885908043.py:14: FutureWarning: The default value of regex will change from True to False in a future version. In addition, single character regular expressions will *not* be treated as literal strings when regex=True.\n",
      "  df.columns = df.columns.str.strip().str.lower().str.replace(' ', '_').str.replace('(', '').str.replace(')', '')\n",
      "/var/folders/nv/b5gt_2xs6_b2b50_jwyn74wm0000gn/T/ipykernel_2616/308058508.py:19: FutureWarning: The frame.append method is deprecated and will be removed from pandas in a future version. Use pandas.concat instead.\n",
      "  df = df.append(dftmp)\n"
     ]
    },
    {
     "name": "stdout",
     "output_type": "stream",
     "text": [
      "Zip archive: ../data/original/DWD//hourly/precipitation/historical/stundenwerte_RR_02968_20081201_20201231_hist.zip\n",
      "Extract product file: produkt_rr_stunde_20081201_20201231_02968.txt\n",
      "\n"
     ]
    },
    {
     "name": "stderr",
     "output_type": "stream",
     "text": [
      "/var/folders/nv/b5gt_2xs6_b2b50_jwyn74wm0000gn/T/ipykernel_2616/2885908043.py:14: FutureWarning: The default value of regex will change from True to False in a future version. In addition, single character regular expressions will *not* be treated as literal strings when regex=True.\n",
      "  df.columns = df.columns.str.strip().str.lower().str.replace(' ', '_').str.replace('(', '').str.replace(')', '')\n",
      "/var/folders/nv/b5gt_2xs6_b2b50_jwyn74wm0000gn/T/ipykernel_2616/2885908043.py:14: FutureWarning: The default value of regex will change from True to False in a future version. In addition, single character regular expressions will *not* be treated as literal strings when regex=True.\n",
      "  df.columns = df.columns.str.strip().str.lower().str.replace(' ', '_').str.replace('(', '').str.replace(')', '')\n",
      "/var/folders/nv/b5gt_2xs6_b2b50_jwyn74wm0000gn/T/ipykernel_2616/308058508.py:19: FutureWarning: The frame.append method is deprecated and will be removed from pandas in a future version. Use pandas.concat instead.\n",
      "  df = df.append(dftmp)\n"
     ]
    },
    {
     "name": "stdout",
     "output_type": "stream",
     "text": [
      "Zip archive: ../data/original/DWD//hourly/precipitation/historical/stundenwerte_RR_02999_20040701_20201231_hist.zip\n",
      "Extract product file: produkt_rr_stunde_20040701_20201231_02999.txt\n",
      "\n"
     ]
    },
    {
     "name": "stderr",
     "output_type": "stream",
     "text": [
      "/var/folders/nv/b5gt_2xs6_b2b50_jwyn74wm0000gn/T/ipykernel_2616/2885908043.py:14: FutureWarning: The default value of regex will change from True to False in a future version. In addition, single character regular expressions will *not* be treated as literal strings when regex=True.\n",
      "  df.columns = df.columns.str.strip().str.lower().str.replace(' ', '_').str.replace('(', '').str.replace(')', '')\n",
      "/var/folders/nv/b5gt_2xs6_b2b50_jwyn74wm0000gn/T/ipykernel_2616/2885908043.py:14: FutureWarning: The default value of regex will change from True to False in a future version. In addition, single character regular expressions will *not* be treated as literal strings when regex=True.\n",
      "  df.columns = df.columns.str.strip().str.lower().str.replace(' ', '_').str.replace('(', '').str.replace(')', '')\n",
      "/var/folders/nv/b5gt_2xs6_b2b50_jwyn74wm0000gn/T/ipykernel_2616/308058508.py:19: FutureWarning: The frame.append method is deprecated and will be removed from pandas in a future version. Use pandas.concat instead.\n",
      "  df = df.append(dftmp)\n"
     ]
    },
    {
     "name": "stdout",
     "output_type": "stream",
     "text": [
      "Zip archive: ../data/original/DWD//hourly/precipitation/historical/stundenwerte_RR_03028_19950901_20201231_hist.zip\n",
      "Extract product file: produkt_rr_stunde_19950901_20201231_03028.txt\n",
      "\n"
     ]
    },
    {
     "name": "stderr",
     "output_type": "stream",
     "text": [
      "/var/folders/nv/b5gt_2xs6_b2b50_jwyn74wm0000gn/T/ipykernel_2616/2885908043.py:14: FutureWarning: The default value of regex will change from True to False in a future version. In addition, single character regular expressions will *not* be treated as literal strings when regex=True.\n",
      "  df.columns = df.columns.str.strip().str.lower().str.replace(' ', '_').str.replace('(', '').str.replace(')', '')\n",
      "/var/folders/nv/b5gt_2xs6_b2b50_jwyn74wm0000gn/T/ipykernel_2616/2885908043.py:14: FutureWarning: The default value of regex will change from True to False in a future version. In addition, single character regular expressions will *not* be treated as literal strings when regex=True.\n",
      "  df.columns = df.columns.str.strip().str.lower().str.replace(' ', '_').str.replace('(', '').str.replace(')', '')\n",
      "/var/folders/nv/b5gt_2xs6_b2b50_jwyn74wm0000gn/T/ipykernel_2616/308058508.py:19: FutureWarning: The frame.append method is deprecated and will be removed from pandas in a future version. Use pandas.concat instead.\n",
      "  df = df.append(dftmp)\n"
     ]
    },
    {
     "name": "stdout",
     "output_type": "stream",
     "text": [
      "Zip archive: ../data/original/DWD//hourly/precipitation/historical/stundenwerte_RR_03031_20040701_20201231_hist.zip\n",
      "Extract product file: produkt_rr_stunde_20040701_20201231_03031.txt\n",
      "\n"
     ]
    },
    {
     "name": "stderr",
     "output_type": "stream",
     "text": [
      "/var/folders/nv/b5gt_2xs6_b2b50_jwyn74wm0000gn/T/ipykernel_2616/2885908043.py:14: FutureWarning: The default value of regex will change from True to False in a future version. In addition, single character regular expressions will *not* be treated as literal strings when regex=True.\n",
      "  df.columns = df.columns.str.strip().str.lower().str.replace(' ', '_').str.replace('(', '').str.replace(')', '')\n",
      "/var/folders/nv/b5gt_2xs6_b2b50_jwyn74wm0000gn/T/ipykernel_2616/2885908043.py:14: FutureWarning: The default value of regex will change from True to False in a future version. In addition, single character regular expressions will *not* be treated as literal strings when regex=True.\n",
      "  df.columns = df.columns.str.strip().str.lower().str.replace(' ', '_').str.replace('(', '').str.replace(')', '')\n",
      "/var/folders/nv/b5gt_2xs6_b2b50_jwyn74wm0000gn/T/ipykernel_2616/308058508.py:19: FutureWarning: The frame.append method is deprecated and will be removed from pandas in a future version. Use pandas.concat instead.\n",
      "  df = df.append(dftmp)\n"
     ]
    },
    {
     "name": "stdout",
     "output_type": "stream",
     "text": [
      "Zip archive: ../data/original/DWD//hourly/precipitation/historical/stundenwerte_RR_03081_20071201_20201231_hist.zip\n",
      "Extract product file: produkt_rr_stunde_20071201_20201231_03081.txt\n",
      "\n"
     ]
    },
    {
     "name": "stderr",
     "output_type": "stream",
     "text": [
      "/var/folders/nv/b5gt_2xs6_b2b50_jwyn74wm0000gn/T/ipykernel_2616/2885908043.py:14: FutureWarning: The default value of regex will change from True to False in a future version. In addition, single character regular expressions will *not* be treated as literal strings when regex=True.\n",
      "  df.columns = df.columns.str.strip().str.lower().str.replace(' ', '_').str.replace('(', '').str.replace(')', '')\n",
      "/var/folders/nv/b5gt_2xs6_b2b50_jwyn74wm0000gn/T/ipykernel_2616/2885908043.py:14: FutureWarning: The default value of regex will change from True to False in a future version. In addition, single character regular expressions will *not* be treated as literal strings when regex=True.\n",
      "  df.columns = df.columns.str.strip().str.lower().str.replace(' ', '_').str.replace('(', '').str.replace(')', '')\n",
      "/var/folders/nv/b5gt_2xs6_b2b50_jwyn74wm0000gn/T/ipykernel_2616/308058508.py:19: FutureWarning: The frame.append method is deprecated and will be removed from pandas in a future version. Use pandas.concat instead.\n",
      "  df = df.append(dftmp)\n"
     ]
    },
    {
     "name": "stdout",
     "output_type": "stream",
     "text": [
      "Zip archive: ../data/original/DWD//hourly/precipitation/historical/stundenwerte_RR_03098_19950901_20201231_hist.zip\n",
      "Extract product file: produkt_rr_stunde_19950901_20201231_03098.txt\n",
      "\n"
     ]
    },
    {
     "name": "stderr",
     "output_type": "stream",
     "text": [
      "/var/folders/nv/b5gt_2xs6_b2b50_jwyn74wm0000gn/T/ipykernel_2616/2885908043.py:14: FutureWarning: The default value of regex will change from True to False in a future version. In addition, single character regular expressions will *not* be treated as literal strings when regex=True.\n",
      "  df.columns = df.columns.str.strip().str.lower().str.replace(' ', '_').str.replace('(', '').str.replace(')', '')\n",
      "/var/folders/nv/b5gt_2xs6_b2b50_jwyn74wm0000gn/T/ipykernel_2616/2885908043.py:14: FutureWarning: The default value of regex will change from True to False in a future version. In addition, single character regular expressions will *not* be treated as literal strings when regex=True.\n",
      "  df.columns = df.columns.str.strip().str.lower().str.replace(' ', '_').str.replace('(', '').str.replace(')', '')\n",
      "/var/folders/nv/b5gt_2xs6_b2b50_jwyn74wm0000gn/T/ipykernel_2616/308058508.py:19: FutureWarning: The frame.append method is deprecated and will be removed from pandas in a future version. Use pandas.concat instead.\n",
      "  df = df.append(dftmp)\n"
     ]
    },
    {
     "name": "stdout",
     "output_type": "stream",
     "text": [
      "Zip archive: ../data/original/DWD//hourly/precipitation/historical/stundenwerte_RR_03215_20070601_20201231_hist.zip\n",
      "Extract product file: produkt_rr_stunde_20070601_20201231_03215.txt\n",
      "\n"
     ]
    },
    {
     "name": "stderr",
     "output_type": "stream",
     "text": [
      "/var/folders/nv/b5gt_2xs6_b2b50_jwyn74wm0000gn/T/ipykernel_2616/2885908043.py:14: FutureWarning: The default value of regex will change from True to False in a future version. In addition, single character regular expressions will *not* be treated as literal strings when regex=True.\n",
      "  df.columns = df.columns.str.strip().str.lower().str.replace(' ', '_').str.replace('(', '').str.replace(')', '')\n",
      "/var/folders/nv/b5gt_2xs6_b2b50_jwyn74wm0000gn/T/ipykernel_2616/2885908043.py:14: FutureWarning: The default value of regex will change from True to False in a future version. In addition, single character regular expressions will *not* be treated as literal strings when regex=True.\n",
      "  df.columns = df.columns.str.strip().str.lower().str.replace(' ', '_').str.replace('(', '').str.replace(')', '')\n",
      "/var/folders/nv/b5gt_2xs6_b2b50_jwyn74wm0000gn/T/ipykernel_2616/308058508.py:19: FutureWarning: The frame.append method is deprecated and will be removed from pandas in a future version. Use pandas.concat instead.\n",
      "  df = df.append(dftmp)\n"
     ]
    },
    {
     "name": "stdout",
     "output_type": "stream",
     "text": [
      "Zip archive: ../data/original/DWD//hourly/precipitation/historical/stundenwerte_RR_03321_20050701_20201231_hist.zip\n",
      "Extract product file: produkt_rr_stunde_20050701_20201231_03321.txt\n",
      "\n"
     ]
    },
    {
     "name": "stderr",
     "output_type": "stream",
     "text": [
      "/var/folders/nv/b5gt_2xs6_b2b50_jwyn74wm0000gn/T/ipykernel_2616/2885908043.py:14: FutureWarning: The default value of regex will change from True to False in a future version. In addition, single character regular expressions will *not* be treated as literal strings when regex=True.\n",
      "  df.columns = df.columns.str.strip().str.lower().str.replace(' ', '_').str.replace('(', '').str.replace(')', '')\n",
      "/var/folders/nv/b5gt_2xs6_b2b50_jwyn74wm0000gn/T/ipykernel_2616/2885908043.py:14: FutureWarning: The default value of regex will change from True to False in a future version. In addition, single character regular expressions will *not* be treated as literal strings when regex=True.\n",
      "  df.columns = df.columns.str.strip().str.lower().str.replace(' ', '_').str.replace('(', '').str.replace(')', '')\n",
      "/var/folders/nv/b5gt_2xs6_b2b50_jwyn74wm0000gn/T/ipykernel_2616/308058508.py:19: FutureWarning: The frame.append method is deprecated and will be removed from pandas in a future version. Use pandas.concat instead.\n",
      "  df = df.append(dftmp)\n"
     ]
    },
    {
     "name": "stdout",
     "output_type": "stream",
     "text": [
      "Zip archive: ../data/original/DWD//hourly/precipitation/historical/stundenwerte_RR_03339_20060901_20201231_hist.zip\n",
      "Extract product file: produkt_rr_stunde_20060901_20201231_03339.txt\n",
      "\n"
     ]
    },
    {
     "name": "stderr",
     "output_type": "stream",
     "text": [
      "/var/folders/nv/b5gt_2xs6_b2b50_jwyn74wm0000gn/T/ipykernel_2616/2885908043.py:14: FutureWarning: The default value of regex will change from True to False in a future version. In addition, single character regular expressions will *not* be treated as literal strings when regex=True.\n",
      "  df.columns = df.columns.str.strip().str.lower().str.replace(' ', '_').str.replace('(', '').str.replace(')', '')\n",
      "/var/folders/nv/b5gt_2xs6_b2b50_jwyn74wm0000gn/T/ipykernel_2616/2885908043.py:14: FutureWarning: The default value of regex will change from True to False in a future version. In addition, single character regular expressions will *not* be treated as literal strings when regex=True.\n",
      "  df.columns = df.columns.str.strip().str.lower().str.replace(' ', '_').str.replace('(', '').str.replace(')', '')\n",
      "/var/folders/nv/b5gt_2xs6_b2b50_jwyn74wm0000gn/T/ipykernel_2616/308058508.py:19: FutureWarning: The frame.append method is deprecated and will be removed from pandas in a future version. Use pandas.concat instead.\n",
      "  df = df.append(dftmp)\n"
     ]
    },
    {
     "name": "stdout",
     "output_type": "stream",
     "text": [
      "Zip archive: ../data/original/DWD//hourly/precipitation/historical/stundenwerte_RR_03499_20060701_20201231_hist.zip\n",
      "Extract product file: produkt_rr_stunde_20060701_20201231_03499.txt\n",
      "\n"
     ]
    },
    {
     "name": "stderr",
     "output_type": "stream",
     "text": [
      "/var/folders/nv/b5gt_2xs6_b2b50_jwyn74wm0000gn/T/ipykernel_2616/2885908043.py:14: FutureWarning: The default value of regex will change from True to False in a future version. In addition, single character regular expressions will *not* be treated as literal strings when regex=True.\n",
      "  df.columns = df.columns.str.strip().str.lower().str.replace(' ', '_').str.replace('(', '').str.replace(')', '')\n",
      "/var/folders/nv/b5gt_2xs6_b2b50_jwyn74wm0000gn/T/ipykernel_2616/2885908043.py:14: FutureWarning: The default value of regex will change from True to False in a future version. In addition, single character regular expressions will *not* be treated as literal strings when regex=True.\n",
      "  df.columns = df.columns.str.strip().str.lower().str.replace(' ', '_').str.replace('(', '').str.replace(')', '')\n",
      "/var/folders/nv/b5gt_2xs6_b2b50_jwyn74wm0000gn/T/ipykernel_2616/308058508.py:19: FutureWarning: The frame.append method is deprecated and will be removed from pandas in a future version. Use pandas.concat instead.\n",
      "  df = df.append(dftmp)\n"
     ]
    },
    {
     "name": "stdout",
     "output_type": "stream",
     "text": [
      "Zip archive: ../data/original/DWD//hourly/precipitation/historical/stundenwerte_RR_03540_20041101_20201231_hist.zip\n",
      "Extract product file: produkt_rr_stunde_20041101_20201231_03540.txt\n",
      "\n"
     ]
    },
    {
     "name": "stderr",
     "output_type": "stream",
     "text": [
      "/var/folders/nv/b5gt_2xs6_b2b50_jwyn74wm0000gn/T/ipykernel_2616/2885908043.py:14: FutureWarning: The default value of regex will change from True to False in a future version. In addition, single character regular expressions will *not* be treated as literal strings when regex=True.\n",
      "  df.columns = df.columns.str.strip().str.lower().str.replace(' ', '_').str.replace('(', '').str.replace(')', '')\n",
      "/var/folders/nv/b5gt_2xs6_b2b50_jwyn74wm0000gn/T/ipykernel_2616/2885908043.py:14: FutureWarning: The default value of regex will change from True to False in a future version. In addition, single character regular expressions will *not* be treated as literal strings when regex=True.\n",
      "  df.columns = df.columns.str.strip().str.lower().str.replace(' ', '_').str.replace('(', '').str.replace(')', '')\n",
      "/var/folders/nv/b5gt_2xs6_b2b50_jwyn74wm0000gn/T/ipykernel_2616/308058508.py:19: FutureWarning: The frame.append method is deprecated and will be removed from pandas in a future version. Use pandas.concat instead.\n",
      "  df = df.append(dftmp)\n"
     ]
    },
    {
     "name": "stdout",
     "output_type": "stream",
     "text": [
      "Zip archive: ../data/original/DWD//hourly/precipitation/historical/stundenwerte_RR_03591_20040601_20201231_hist.zip\n",
      "Extract product file: produkt_rr_stunde_20040601_20201231_03591.txt\n",
      "\n"
     ]
    },
    {
     "name": "stderr",
     "output_type": "stream",
     "text": [
      "/var/folders/nv/b5gt_2xs6_b2b50_jwyn74wm0000gn/T/ipykernel_2616/2885908043.py:14: FutureWarning: The default value of regex will change from True to False in a future version. In addition, single character regular expressions will *not* be treated as literal strings when regex=True.\n",
      "  df.columns = df.columns.str.strip().str.lower().str.replace(' ', '_').str.replace('(', '').str.replace(')', '')\n",
      "/var/folders/nv/b5gt_2xs6_b2b50_jwyn74wm0000gn/T/ipykernel_2616/2885908043.py:14: FutureWarning: The default value of regex will change from True to False in a future version. In addition, single character regular expressions will *not* be treated as literal strings when regex=True.\n",
      "  df.columns = df.columns.str.strip().str.lower().str.replace(' ', '_').str.replace('(', '').str.replace(')', '')\n",
      "/var/folders/nv/b5gt_2xs6_b2b50_jwyn74wm0000gn/T/ipykernel_2616/308058508.py:19: FutureWarning: The frame.append method is deprecated and will be removed from pandas in a future version. Use pandas.concat instead.\n",
      "  df = df.append(dftmp)\n"
     ]
    },
    {
     "name": "stdout",
     "output_type": "stream",
     "text": [
      "Zip archive: ../data/original/DWD//hourly/precipitation/historical/stundenwerte_RR_03795_20041201_20201231_hist.zip\n",
      "Extract product file: produkt_rr_stunde_20041201_20201231_03795.txt\n",
      "\n"
     ]
    },
    {
     "name": "stderr",
     "output_type": "stream",
     "text": [
      "/var/folders/nv/b5gt_2xs6_b2b50_jwyn74wm0000gn/T/ipykernel_2616/2885908043.py:14: FutureWarning: The default value of regex will change from True to False in a future version. In addition, single character regular expressions will *not* be treated as literal strings when regex=True.\n",
      "  df.columns = df.columns.str.strip().str.lower().str.replace(' ', '_').str.replace('(', '').str.replace(')', '')\n",
      "/var/folders/nv/b5gt_2xs6_b2b50_jwyn74wm0000gn/T/ipykernel_2616/2885908043.py:14: FutureWarning: The default value of regex will change from True to False in a future version. In addition, single character regular expressions will *not* be treated as literal strings when regex=True.\n",
      "  df.columns = df.columns.str.strip().str.lower().str.replace(' ', '_').str.replace('(', '').str.replace(')', '')\n",
      "/var/folders/nv/b5gt_2xs6_b2b50_jwyn74wm0000gn/T/ipykernel_2616/308058508.py:19: FutureWarning: The frame.append method is deprecated and will be removed from pandas in a future version. Use pandas.concat instead.\n",
      "  df = df.append(dftmp)\n"
     ]
    },
    {
     "name": "stdout",
     "output_type": "stream",
     "text": [
      "Zip archive: ../data/original/DWD//hourly/precipitation/historical/stundenwerte_RR_03913_20040701_20201231_hist.zip\n",
      "Extract product file: produkt_rr_stunde_20040701_20201231_03913.txt\n",
      "\n"
     ]
    },
    {
     "name": "stderr",
     "output_type": "stream",
     "text": [
      "/var/folders/nv/b5gt_2xs6_b2b50_jwyn74wm0000gn/T/ipykernel_2616/2885908043.py:14: FutureWarning: The default value of regex will change from True to False in a future version. In addition, single character regular expressions will *not* be treated as literal strings when regex=True.\n",
      "  df.columns = df.columns.str.strip().str.lower().str.replace(' ', '_').str.replace('(', '').str.replace(')', '')\n",
      "/var/folders/nv/b5gt_2xs6_b2b50_jwyn74wm0000gn/T/ipykernel_2616/2885908043.py:14: FutureWarning: The default value of regex will change from True to False in a future version. In addition, single character regular expressions will *not* be treated as literal strings when regex=True.\n",
      "  df.columns = df.columns.str.strip().str.lower().str.replace(' ', '_').str.replace('(', '').str.replace(')', '')\n",
      "/var/folders/nv/b5gt_2xs6_b2b50_jwyn74wm0000gn/T/ipykernel_2616/308058508.py:19: FutureWarning: The frame.append method is deprecated and will be removed from pandas in a future version. Use pandas.concat instead.\n",
      "  df = df.append(dftmp)\n"
     ]
    },
    {
     "name": "stdout",
     "output_type": "stream",
     "text": [
      "Zip archive: ../data/original/DWD//hourly/precipitation/historical/stundenwerte_RR_04063_20030701_20201231_hist.zip\n",
      "Extract product file: produkt_rr_stunde_20030701_20201231_04063.txt\n",
      "\n"
     ]
    },
    {
     "name": "stderr",
     "output_type": "stream",
     "text": [
      "/var/folders/nv/b5gt_2xs6_b2b50_jwyn74wm0000gn/T/ipykernel_2616/2885908043.py:14: FutureWarning: The default value of regex will change from True to False in a future version. In addition, single character regular expressions will *not* be treated as literal strings when regex=True.\n",
      "  df.columns = df.columns.str.strip().str.lower().str.replace(' ', '_').str.replace('(', '').str.replace(')', '')\n",
      "/var/folders/nv/b5gt_2xs6_b2b50_jwyn74wm0000gn/T/ipykernel_2616/2885908043.py:14: FutureWarning: The default value of regex will change from True to False in a future version. In addition, single character regular expressions will *not* be treated as literal strings when regex=True.\n",
      "  df.columns = df.columns.str.strip().str.lower().str.replace(' ', '_').str.replace('(', '').str.replace(')', '')\n",
      "/var/folders/nv/b5gt_2xs6_b2b50_jwyn74wm0000gn/T/ipykernel_2616/308058508.py:19: FutureWarning: The frame.append method is deprecated and will be removed from pandas in a future version. Use pandas.concat instead.\n",
      "  df = df.append(dftmp)\n"
     ]
    },
    {
     "name": "stdout",
     "output_type": "stream",
     "text": [
      "Zip archive: ../data/original/DWD//hourly/precipitation/historical/stundenwerte_RR_04127_20050101_20201231_hist.zip\n",
      "Extract product file: produkt_rr_stunde_20050101_20201231_04127.txt\n",
      "\n"
     ]
    },
    {
     "name": "stderr",
     "output_type": "stream",
     "text": [
      "/var/folders/nv/b5gt_2xs6_b2b50_jwyn74wm0000gn/T/ipykernel_2616/2885908043.py:14: FutureWarning: The default value of regex will change from True to False in a future version. In addition, single character regular expressions will *not* be treated as literal strings when regex=True.\n",
      "  df.columns = df.columns.str.strip().str.lower().str.replace(' ', '_').str.replace('(', '').str.replace(')', '')\n",
      "/var/folders/nv/b5gt_2xs6_b2b50_jwyn74wm0000gn/T/ipykernel_2616/2885908043.py:14: FutureWarning: The default value of regex will change from True to False in a future version. In addition, single character regular expressions will *not* be treated as literal strings when regex=True.\n",
      "  df.columns = df.columns.str.strip().str.lower().str.replace(' ', '_').str.replace('(', '').str.replace(')', '')\n",
      "/var/folders/nv/b5gt_2xs6_b2b50_jwyn74wm0000gn/T/ipykernel_2616/308058508.py:19: FutureWarning: The frame.append method is deprecated and will be removed from pandas in a future version. Use pandas.concat instead.\n",
      "  df = df.append(dftmp)\n"
     ]
    },
    {
     "name": "stdout",
     "output_type": "stream",
     "text": [
      "Zip archive: ../data/original/DWD//hourly/precipitation/historical/stundenwerte_RR_04150_20051201_20201231_hist.zip\n",
      "Extract product file: produkt_rr_stunde_20051201_20201231_04150.txt\n",
      "\n"
     ]
    },
    {
     "name": "stderr",
     "output_type": "stream",
     "text": [
      "/var/folders/nv/b5gt_2xs6_b2b50_jwyn74wm0000gn/T/ipykernel_2616/2885908043.py:14: FutureWarning: The default value of regex will change from True to False in a future version. In addition, single character regular expressions will *not* be treated as literal strings when regex=True.\n",
      "  df.columns = df.columns.str.strip().str.lower().str.replace(' ', '_').str.replace('(', '').str.replace(')', '')\n",
      "/var/folders/nv/b5gt_2xs6_b2b50_jwyn74wm0000gn/T/ipykernel_2616/2885908043.py:14: FutureWarning: The default value of regex will change from True to False in a future version. In addition, single character regular expressions will *not* be treated as literal strings when regex=True.\n",
      "  df.columns = df.columns.str.strip().str.lower().str.replace(' ', '_').str.replace('(', '').str.replace(')', '')\n",
      "/var/folders/nv/b5gt_2xs6_b2b50_jwyn74wm0000gn/T/ipykernel_2616/308058508.py:19: FutureWarning: The frame.append method is deprecated and will be removed from pandas in a future version. Use pandas.concat instead.\n",
      "  df = df.append(dftmp)\n"
     ]
    },
    {
     "name": "stdout",
     "output_type": "stream",
     "text": [
      "Zip archive: ../data/original/DWD//hourly/precipitation/historical/stundenwerte_RR_04154_20110201_20180701_hist.zip\n",
      "Extract product file: produkt_rr_stunde_20110201_20180701_04154.txt\n",
      "\n"
     ]
    },
    {
     "name": "stderr",
     "output_type": "stream",
     "text": [
      "/var/folders/nv/b5gt_2xs6_b2b50_jwyn74wm0000gn/T/ipykernel_2616/2885908043.py:14: FutureWarning: The default value of regex will change from True to False in a future version. In addition, single character regular expressions will *not* be treated as literal strings when regex=True.\n",
      "  df.columns = df.columns.str.strip().str.lower().str.replace(' ', '_').str.replace('(', '').str.replace(')', '')\n",
      "/var/folders/nv/b5gt_2xs6_b2b50_jwyn74wm0000gn/T/ipykernel_2616/2885908043.py:14: FutureWarning: The default value of regex will change from True to False in a future version. In addition, single character regular expressions will *not* be treated as literal strings when regex=True.\n",
      "  df.columns = df.columns.str.strip().str.lower().str.replace(' ', '_').str.replace('(', '').str.replace(')', '')\n",
      "/var/folders/nv/b5gt_2xs6_b2b50_jwyn74wm0000gn/T/ipykernel_2616/308058508.py:19: FutureWarning: The frame.append method is deprecated and will be removed from pandas in a future version. Use pandas.concat instead.\n",
      "  df = df.append(dftmp)\n"
     ]
    },
    {
     "name": "stdout",
     "output_type": "stream",
     "text": [
      "Zip archive: ../data/original/DWD//hourly/precipitation/historical/stundenwerte_RR_04313_20040801_20201231_hist.zip\n",
      "Extract product file: produkt_rr_stunde_20040801_20201231_04313.txt\n",
      "\n"
     ]
    },
    {
     "name": "stderr",
     "output_type": "stream",
     "text": [
      "/var/folders/nv/b5gt_2xs6_b2b50_jwyn74wm0000gn/T/ipykernel_2616/2885908043.py:14: FutureWarning: The default value of regex will change from True to False in a future version. In addition, single character regular expressions will *not* be treated as literal strings when regex=True.\n",
      "  df.columns = df.columns.str.strip().str.lower().str.replace(' ', '_').str.replace('(', '').str.replace(')', '')\n",
      "/var/folders/nv/b5gt_2xs6_b2b50_jwyn74wm0000gn/T/ipykernel_2616/2885908043.py:14: FutureWarning: The default value of regex will change from True to False in a future version. In addition, single character regular expressions will *not* be treated as literal strings when regex=True.\n",
      "  df.columns = df.columns.str.strip().str.lower().str.replace(' ', '_').str.replace('(', '').str.replace(')', '')\n",
      "/var/folders/nv/b5gt_2xs6_b2b50_jwyn74wm0000gn/T/ipykernel_2616/308058508.py:19: FutureWarning: The frame.append method is deprecated and will be removed from pandas in a future version. Use pandas.concat instead.\n",
      "  df = df.append(dftmp)\n"
     ]
    },
    {
     "name": "stdout",
     "output_type": "stream",
     "text": [
      "Zip archive: ../data/original/DWD//hourly/precipitation/historical/stundenwerte_RR_04368_20041001_20201231_hist.zip\n",
      "Extract product file: produkt_rr_stunde_20041001_20201231_04368.txt\n",
      "\n"
     ]
    },
    {
     "name": "stderr",
     "output_type": "stream",
     "text": [
      "/var/folders/nv/b5gt_2xs6_b2b50_jwyn74wm0000gn/T/ipykernel_2616/2885908043.py:14: FutureWarning: The default value of regex will change from True to False in a future version. In addition, single character regular expressions will *not* be treated as literal strings when regex=True.\n",
      "  df.columns = df.columns.str.strip().str.lower().str.replace(' ', '_').str.replace('(', '').str.replace(')', '')\n",
      "/var/folders/nv/b5gt_2xs6_b2b50_jwyn74wm0000gn/T/ipykernel_2616/2885908043.py:14: FutureWarning: The default value of regex will change from True to False in a future version. In addition, single character regular expressions will *not* be treated as literal strings when regex=True.\n",
      "  df.columns = df.columns.str.strip().str.lower().str.replace(' ', '_').str.replace('(', '').str.replace(')', '')\n",
      "/var/folders/nv/b5gt_2xs6_b2b50_jwyn74wm0000gn/T/ipykernel_2616/308058508.py:19: FutureWarning: The frame.append method is deprecated and will be removed from pandas in a future version. Use pandas.concat instead.\n",
      "  df = df.append(dftmp)\n"
     ]
    },
    {
     "name": "stdout",
     "output_type": "stream",
     "text": [
      "Zip archive: ../data/original/DWD//hourly/precipitation/historical/stundenwerte_RR_04371_19950901_20201231_hist.zip\n",
      "Extract product file: produkt_rr_stunde_19950901_20201231_04371.txt\n",
      "\n"
     ]
    },
    {
     "name": "stderr",
     "output_type": "stream",
     "text": [
      "/var/folders/nv/b5gt_2xs6_b2b50_jwyn74wm0000gn/T/ipykernel_2616/2885908043.py:14: FutureWarning: The default value of regex will change from True to False in a future version. In addition, single character regular expressions will *not* be treated as literal strings when regex=True.\n",
      "  df.columns = df.columns.str.strip().str.lower().str.replace(' ', '_').str.replace('(', '').str.replace(')', '')\n",
      "/var/folders/nv/b5gt_2xs6_b2b50_jwyn74wm0000gn/T/ipykernel_2616/2885908043.py:14: FutureWarning: The default value of regex will change from True to False in a future version. In addition, single character regular expressions will *not* be treated as literal strings when regex=True.\n",
      "  df.columns = df.columns.str.strip().str.lower().str.replace(' ', '_').str.replace('(', '').str.replace(')', '')\n",
      "/var/folders/nv/b5gt_2xs6_b2b50_jwyn74wm0000gn/T/ipykernel_2616/308058508.py:19: FutureWarning: The frame.append method is deprecated and will be removed from pandas in a future version. Use pandas.concat instead.\n",
      "  df = df.append(dftmp)\n"
     ]
    },
    {
     "name": "stdout",
     "output_type": "stream",
     "text": [
      "Zip archive: ../data/original/DWD//hourly/precipitation/historical/stundenwerte_RR_04400_20040801_20201231_hist.zip\n",
      "Extract product file: produkt_rr_stunde_20040801_20201231_04400.txt\n",
      "\n"
     ]
    },
    {
     "name": "stderr",
     "output_type": "stream",
     "text": [
      "/var/folders/nv/b5gt_2xs6_b2b50_jwyn74wm0000gn/T/ipykernel_2616/2885908043.py:14: FutureWarning: The default value of regex will change from True to False in a future version. In addition, single character regular expressions will *not* be treated as literal strings when regex=True.\n",
      "  df.columns = df.columns.str.strip().str.lower().str.replace(' ', '_').str.replace('(', '').str.replace(')', '')\n",
      "/var/folders/nv/b5gt_2xs6_b2b50_jwyn74wm0000gn/T/ipykernel_2616/2885908043.py:14: FutureWarning: The default value of regex will change from True to False in a future version. In addition, single character regular expressions will *not* be treated as literal strings when regex=True.\n",
      "  df.columns = df.columns.str.strip().str.lower().str.replace(' ', '_').str.replace('(', '').str.replace(')', '')\n",
      "/var/folders/nv/b5gt_2xs6_b2b50_jwyn74wm0000gn/T/ipykernel_2616/308058508.py:19: FutureWarning: The frame.append method is deprecated and will be removed from pandas in a future version. Use pandas.concat instead.\n",
      "  df = df.append(dftmp)\n"
     ]
    },
    {
     "name": "stdout",
     "output_type": "stream",
     "text": [
      "Zip archive: ../data/original/DWD//hourly/precipitation/historical/stundenwerte_RR_04488_20060801_20201231_hist.zip\n",
      "Extract product file: produkt_rr_stunde_20060801_20201231_04488.txt\n",
      "\n"
     ]
    },
    {
     "name": "stderr",
     "output_type": "stream",
     "text": [
      "/var/folders/nv/b5gt_2xs6_b2b50_jwyn74wm0000gn/T/ipykernel_2616/2885908043.py:14: FutureWarning: The default value of regex will change from True to False in a future version. In addition, single character regular expressions will *not* be treated as literal strings when regex=True.\n",
      "  df.columns = df.columns.str.strip().str.lower().str.replace(' ', '_').str.replace('(', '').str.replace(')', '')\n",
      "/var/folders/nv/b5gt_2xs6_b2b50_jwyn74wm0000gn/T/ipykernel_2616/2885908043.py:14: FutureWarning: The default value of regex will change from True to False in a future version. In addition, single character regular expressions will *not* be treated as literal strings when regex=True.\n",
      "  df.columns = df.columns.str.strip().str.lower().str.replace(' ', '_').str.replace('(', '').str.replace(')', '')\n",
      "/var/folders/nv/b5gt_2xs6_b2b50_jwyn74wm0000gn/T/ipykernel_2616/308058508.py:19: FutureWarning: The frame.append method is deprecated and will be removed from pandas in a future version. Use pandas.concat instead.\n",
      "  df = df.append(dftmp)\n"
     ]
    },
    {
     "name": "stdout",
     "output_type": "stream",
     "text": [
      "Zip archive: ../data/original/DWD//hourly/precipitation/historical/stundenwerte_RR_04692_20080301_20181201_hist.zip\n",
      "Extract product file: produkt_rr_stunde_20080301_20181201_04692.txt\n",
      "\n"
     ]
    },
    {
     "name": "stderr",
     "output_type": "stream",
     "text": [
      "/var/folders/nv/b5gt_2xs6_b2b50_jwyn74wm0000gn/T/ipykernel_2616/2885908043.py:14: FutureWarning: The default value of regex will change from True to False in a future version. In addition, single character regular expressions will *not* be treated as literal strings when regex=True.\n",
      "  df.columns = df.columns.str.strip().str.lower().str.replace(' ', '_').str.replace('(', '').str.replace(')', '')\n",
      "/var/folders/nv/b5gt_2xs6_b2b50_jwyn74wm0000gn/T/ipykernel_2616/2885908043.py:14: FutureWarning: The default value of regex will change from True to False in a future version. In addition, single character regular expressions will *not* be treated as literal strings when regex=True.\n",
      "  df.columns = df.columns.str.strip().str.lower().str.replace(' ', '_').str.replace('(', '').str.replace(')', '')\n",
      "/var/folders/nv/b5gt_2xs6_b2b50_jwyn74wm0000gn/T/ipykernel_2616/308058508.py:19: FutureWarning: The frame.append method is deprecated and will be removed from pandas in a future version. Use pandas.concat instead.\n",
      "  df = df.append(dftmp)\n"
     ]
    },
    {
     "name": "stdout",
     "output_type": "stream",
     "text": [
      "Zip archive: ../data/original/DWD//hourly/precipitation/historical/stundenwerte_RR_04741_20041201_20201231_hist.zip\n",
      "Extract product file: produkt_rr_stunde_20041201_20201231_04741.txt\n",
      "\n"
     ]
    },
    {
     "name": "stderr",
     "output_type": "stream",
     "text": [
      "/var/folders/nv/b5gt_2xs6_b2b50_jwyn74wm0000gn/T/ipykernel_2616/2885908043.py:14: FutureWarning: The default value of regex will change from True to False in a future version. In addition, single character regular expressions will *not* be treated as literal strings when regex=True.\n",
      "  df.columns = df.columns.str.strip().str.lower().str.replace(' ', '_').str.replace('(', '').str.replace(')', '')\n",
      "/var/folders/nv/b5gt_2xs6_b2b50_jwyn74wm0000gn/T/ipykernel_2616/2885908043.py:14: FutureWarning: The default value of regex will change from True to False in a future version. In addition, single character regular expressions will *not* be treated as literal strings when regex=True.\n",
      "  df.columns = df.columns.str.strip().str.lower().str.replace(' ', '_').str.replace('(', '').str.replace(')', '')\n",
      "/var/folders/nv/b5gt_2xs6_b2b50_jwyn74wm0000gn/T/ipykernel_2616/308058508.py:19: FutureWarning: The frame.append method is deprecated and will be removed from pandas in a future version. Use pandas.concat instead.\n",
      "  df = df.append(dftmp)\n"
     ]
    },
    {
     "name": "stdout",
     "output_type": "stream",
     "text": [
      "Zip archive: ../data/original/DWD//hourly/precipitation/historical/stundenwerte_RR_04849_20050601_20201231_hist.zip\n",
      "Extract product file: produkt_rr_stunde_20050601_20201231_04849.txt\n",
      "\n"
     ]
    },
    {
     "name": "stderr",
     "output_type": "stream",
     "text": [
      "/var/folders/nv/b5gt_2xs6_b2b50_jwyn74wm0000gn/T/ipykernel_2616/2885908043.py:14: FutureWarning: The default value of regex will change from True to False in a future version. In addition, single character regular expressions will *not* be treated as literal strings when regex=True.\n",
      "  df.columns = df.columns.str.strip().str.lower().str.replace(' ', '_').str.replace('(', '').str.replace(')', '')\n",
      "/var/folders/nv/b5gt_2xs6_b2b50_jwyn74wm0000gn/T/ipykernel_2616/2885908043.py:14: FutureWarning: The default value of regex will change from True to False in a future version. In addition, single character regular expressions will *not* be treated as literal strings when regex=True.\n",
      "  df.columns = df.columns.str.strip().str.lower().str.replace(' ', '_').str.replace('(', '').str.replace(')', '')\n",
      "/var/folders/nv/b5gt_2xs6_b2b50_jwyn74wm0000gn/T/ipykernel_2616/308058508.py:19: FutureWarning: The frame.append method is deprecated and will be removed from pandas in a future version. Use pandas.concat instead.\n",
      "  df = df.append(dftmp)\n"
     ]
    },
    {
     "name": "stdout",
     "output_type": "stream",
     "text": [
      "Zip archive: ../data/original/DWD//hourly/precipitation/historical/stundenwerte_RR_05064_20041201_20201231_hist.zip\n",
      "Extract product file: produkt_rr_stunde_20041201_20201231_05064.txt\n",
      "\n"
     ]
    },
    {
     "name": "stderr",
     "output_type": "stream",
     "text": [
      "/var/folders/nv/b5gt_2xs6_b2b50_jwyn74wm0000gn/T/ipykernel_2616/2885908043.py:14: FutureWarning: The default value of regex will change from True to False in a future version. In addition, single character regular expressions will *not* be treated as literal strings when regex=True.\n",
      "  df.columns = df.columns.str.strip().str.lower().str.replace(' ', '_').str.replace('(', '').str.replace(')', '')\n",
      "/var/folders/nv/b5gt_2xs6_b2b50_jwyn74wm0000gn/T/ipykernel_2616/2885908043.py:14: FutureWarning: The default value of regex will change from True to False in a future version. In addition, single character regular expressions will *not* be treated as literal strings when regex=True.\n",
      "  df.columns = df.columns.str.strip().str.lower().str.replace(' ', '_').str.replace('(', '').str.replace(')', '')\n",
      "/var/folders/nv/b5gt_2xs6_b2b50_jwyn74wm0000gn/T/ipykernel_2616/308058508.py:19: FutureWarning: The frame.append method is deprecated and will be removed from pandas in a future version. Use pandas.concat instead.\n",
      "  df = df.append(dftmp)\n"
     ]
    },
    {
     "name": "stdout",
     "output_type": "stream",
     "text": [
      "Zip archive: ../data/original/DWD//hourly/precipitation/historical/stundenwerte_RR_05347_19950901_20201231_hist.zip\n",
      "Extract product file: produkt_rr_stunde_19950901_20201231_05347.txt\n",
      "\n"
     ]
    },
    {
     "name": "stderr",
     "output_type": "stream",
     "text": [
      "/var/folders/nv/b5gt_2xs6_b2b50_jwyn74wm0000gn/T/ipykernel_2616/2885908043.py:14: FutureWarning: The default value of regex will change from True to False in a future version. In addition, single character regular expressions will *not* be treated as literal strings when regex=True.\n",
      "  df.columns = df.columns.str.strip().str.lower().str.replace(' ', '_').str.replace('(', '').str.replace(')', '')\n",
      "/var/folders/nv/b5gt_2xs6_b2b50_jwyn74wm0000gn/T/ipykernel_2616/2885908043.py:14: FutureWarning: The default value of regex will change from True to False in a future version. In addition, single character regular expressions will *not* be treated as literal strings when regex=True.\n",
      "  df.columns = df.columns.str.strip().str.lower().str.replace(' ', '_').str.replace('(', '').str.replace(')', '')\n",
      "/var/folders/nv/b5gt_2xs6_b2b50_jwyn74wm0000gn/T/ipykernel_2616/308058508.py:19: FutureWarning: The frame.append method is deprecated and will be removed from pandas in a future version. Use pandas.concat instead.\n",
      "  df = df.append(dftmp)\n"
     ]
    },
    {
     "name": "stdout",
     "output_type": "stream",
     "text": [
      "Zip archive: ../data/original/DWD//hourly/precipitation/historical/stundenwerte_RR_05360_20070701_20201231_hist.zip\n",
      "Extract product file: produkt_rr_stunde_20070701_20201231_05360.txt\n",
      "\n"
     ]
    },
    {
     "name": "stderr",
     "output_type": "stream",
     "text": [
      "/var/folders/nv/b5gt_2xs6_b2b50_jwyn74wm0000gn/T/ipykernel_2616/2885908043.py:14: FutureWarning: The default value of regex will change from True to False in a future version. In addition, single character regular expressions will *not* be treated as literal strings when regex=True.\n",
      "  df.columns = df.columns.str.strip().str.lower().str.replace(' ', '_').str.replace('(', '').str.replace(')', '')\n",
      "/var/folders/nv/b5gt_2xs6_b2b50_jwyn74wm0000gn/T/ipykernel_2616/2885908043.py:14: FutureWarning: The default value of regex will change from True to False in a future version. In addition, single character regular expressions will *not* be treated as literal strings when regex=True.\n",
      "  df.columns = df.columns.str.strip().str.lower().str.replace(' ', '_').str.replace('(', '').str.replace(')', '')\n",
      "/var/folders/nv/b5gt_2xs6_b2b50_jwyn74wm0000gn/T/ipykernel_2616/308058508.py:19: FutureWarning: The frame.append method is deprecated and will be removed from pandas in a future version. Use pandas.concat instead.\n",
      "  df = df.append(dftmp)\n"
     ]
    },
    {
     "name": "stdout",
     "output_type": "stream",
     "text": [
      "Zip archive: ../data/original/DWD//hourly/precipitation/historical/stundenwerte_RR_05468_20060701_20201001_hist.zip\n",
      "Extract product file: produkt_rr_stunde_20060701_20201001_05468.txt\n",
      "\n"
     ]
    },
    {
     "name": "stderr",
     "output_type": "stream",
     "text": [
      "/var/folders/nv/b5gt_2xs6_b2b50_jwyn74wm0000gn/T/ipykernel_2616/2885908043.py:14: FutureWarning: The default value of regex will change from True to False in a future version. In addition, single character regular expressions will *not* be treated as literal strings when regex=True.\n",
      "  df.columns = df.columns.str.strip().str.lower().str.replace(' ', '_').str.replace('(', '').str.replace(')', '')\n",
      "/var/folders/nv/b5gt_2xs6_b2b50_jwyn74wm0000gn/T/ipykernel_2616/2885908043.py:14: FutureWarning: The default value of regex will change from True to False in a future version. In addition, single character regular expressions will *not* be treated as literal strings when regex=True.\n",
      "  df.columns = df.columns.str.strip().str.lower().str.replace(' ', '_').str.replace('(', '').str.replace(')', '')\n",
      "/var/folders/nv/b5gt_2xs6_b2b50_jwyn74wm0000gn/T/ipykernel_2616/308058508.py:19: FutureWarning: The frame.append method is deprecated and will be removed from pandas in a future version. Use pandas.concat instead.\n",
      "  df = df.append(dftmp)\n"
     ]
    },
    {
     "name": "stdout",
     "output_type": "stream",
     "text": [
      "Zip archive: ../data/original/DWD//hourly/precipitation/historical/stundenwerte_RR_05480_20030910_20201231_hist.zip\n",
      "Extract product file: produkt_rr_stunde_20030910_20201231_05480.txt\n",
      "\n"
     ]
    },
    {
     "name": "stderr",
     "output_type": "stream",
     "text": [
      "/var/folders/nv/b5gt_2xs6_b2b50_jwyn74wm0000gn/T/ipykernel_2616/2885908043.py:14: FutureWarning: The default value of regex will change from True to False in a future version. In addition, single character regular expressions will *not* be treated as literal strings when regex=True.\n",
      "  df.columns = df.columns.str.strip().str.lower().str.replace(' ', '_').str.replace('(', '').str.replace(')', '')\n",
      "/var/folders/nv/b5gt_2xs6_b2b50_jwyn74wm0000gn/T/ipykernel_2616/2885908043.py:14: FutureWarning: The default value of regex will change from True to False in a future version. In addition, single character regular expressions will *not* be treated as literal strings when regex=True.\n",
      "  df.columns = df.columns.str.strip().str.lower().str.replace(' ', '_').str.replace('(', '').str.replace(')', '')\n",
      "/var/folders/nv/b5gt_2xs6_b2b50_jwyn74wm0000gn/T/ipykernel_2616/308058508.py:19: FutureWarning: The frame.append method is deprecated and will be removed from pandas in a future version. Use pandas.concat instead.\n",
      "  df = df.append(dftmp)\n"
     ]
    },
    {
     "name": "stdout",
     "output_type": "stream",
     "text": [
      "Zip archive: ../data/original/DWD//hourly/precipitation/historical/stundenwerte_RR_05513_20050901_20201231_hist.zip\n",
      "Extract product file: produkt_rr_stunde_20050901_20201231_05513.txt\n",
      "\n"
     ]
    },
    {
     "name": "stderr",
     "output_type": "stream",
     "text": [
      "/var/folders/nv/b5gt_2xs6_b2b50_jwyn74wm0000gn/T/ipykernel_2616/2885908043.py:14: FutureWarning: The default value of regex will change from True to False in a future version. In addition, single character regular expressions will *not* be treated as literal strings when regex=True.\n",
      "  df.columns = df.columns.str.strip().str.lower().str.replace(' ', '_').str.replace('(', '').str.replace(')', '')\n",
      "/var/folders/nv/b5gt_2xs6_b2b50_jwyn74wm0000gn/T/ipykernel_2616/2885908043.py:14: FutureWarning: The default value of regex will change from True to False in a future version. In addition, single character regular expressions will *not* be treated as literal strings when regex=True.\n",
      "  df.columns = df.columns.str.strip().str.lower().str.replace(' ', '_').str.replace('(', '').str.replace(')', '')\n",
      "/var/folders/nv/b5gt_2xs6_b2b50_jwyn74wm0000gn/T/ipykernel_2616/308058508.py:19: FutureWarning: The frame.append method is deprecated and will be removed from pandas in a future version. Use pandas.concat instead.\n",
      "  df = df.append(dftmp)\n"
     ]
    },
    {
     "name": "stdout",
     "output_type": "stream",
     "text": [
      "Zip archive: ../data/original/DWD//hourly/precipitation/historical/stundenwerte_RR_05619_20041201_20201231_hist.zip\n",
      "Extract product file: produkt_rr_stunde_20041201_20201231_05619.txt\n",
      "\n"
     ]
    },
    {
     "name": "stderr",
     "output_type": "stream",
     "text": [
      "/var/folders/nv/b5gt_2xs6_b2b50_jwyn74wm0000gn/T/ipykernel_2616/2885908043.py:14: FutureWarning: The default value of regex will change from True to False in a future version. In addition, single character regular expressions will *not* be treated as literal strings when regex=True.\n",
      "  df.columns = df.columns.str.strip().str.lower().str.replace(' ', '_').str.replace('(', '').str.replace(')', '')\n",
      "/var/folders/nv/b5gt_2xs6_b2b50_jwyn74wm0000gn/T/ipykernel_2616/2885908043.py:14: FutureWarning: The default value of regex will change from True to False in a future version. In addition, single character regular expressions will *not* be treated as literal strings when regex=True.\n",
      "  df.columns = df.columns.str.strip().str.lower().str.replace(' ', '_').str.replace('(', '').str.replace(')', '')\n",
      "/var/folders/nv/b5gt_2xs6_b2b50_jwyn74wm0000gn/T/ipykernel_2616/308058508.py:19: FutureWarning: The frame.append method is deprecated and will be removed from pandas in a future version. Use pandas.concat instead.\n",
      "  df = df.append(dftmp)\n"
     ]
    },
    {
     "name": "stdout",
     "output_type": "stream",
     "text": [
      "Zip archive: ../data/original/DWD//hourly/precipitation/historical/stundenwerte_RR_05699_20041101_20201231_hist.zip\n",
      "Extract product file: produkt_rr_stunde_20041101_20201231_05699.txt\n",
      "\n"
     ]
    },
    {
     "name": "stderr",
     "output_type": "stream",
     "text": [
      "/var/folders/nv/b5gt_2xs6_b2b50_jwyn74wm0000gn/T/ipykernel_2616/2885908043.py:14: FutureWarning: The default value of regex will change from True to False in a future version. In addition, single character regular expressions will *not* be treated as literal strings when regex=True.\n",
      "  df.columns = df.columns.str.strip().str.lower().str.replace(' ', '_').str.replace('(', '').str.replace(')', '')\n",
      "/var/folders/nv/b5gt_2xs6_b2b50_jwyn74wm0000gn/T/ipykernel_2616/2885908043.py:14: FutureWarning: The default value of regex will change from True to False in a future version. In addition, single character regular expressions will *not* be treated as literal strings when regex=True.\n",
      "  df.columns = df.columns.str.strip().str.lower().str.replace(' ', '_').str.replace('(', '').str.replace(')', '')\n",
      "/var/folders/nv/b5gt_2xs6_b2b50_jwyn74wm0000gn/T/ipykernel_2616/308058508.py:19: FutureWarning: The frame.append method is deprecated and will be removed from pandas in a future version. Use pandas.concat instead.\n",
      "  df = df.append(dftmp)\n"
     ]
    },
    {
     "name": "stdout",
     "output_type": "stream",
     "text": [
      "Zip archive: ../data/original/DWD//hourly/precipitation/historical/stundenwerte_RR_05717_20060901_20201231_hist.zip\n",
      "Extract product file: produkt_rr_stunde_20060901_20201231_05717.txt\n",
      "\n"
     ]
    },
    {
     "name": "stderr",
     "output_type": "stream",
     "text": [
      "/var/folders/nv/b5gt_2xs6_b2b50_jwyn74wm0000gn/T/ipykernel_2616/2885908043.py:14: FutureWarning: The default value of regex will change from True to False in a future version. In addition, single character regular expressions will *not* be treated as literal strings when regex=True.\n",
      "  df.columns = df.columns.str.strip().str.lower().str.replace(' ', '_').str.replace('(', '').str.replace(')', '')\n",
      "/var/folders/nv/b5gt_2xs6_b2b50_jwyn74wm0000gn/T/ipykernel_2616/2885908043.py:14: FutureWarning: The default value of regex will change from True to False in a future version. In addition, single character regular expressions will *not* be treated as literal strings when regex=True.\n",
      "  df.columns = df.columns.str.strip().str.lower().str.replace(' ', '_').str.replace('(', '').str.replace(')', '')\n",
      "/var/folders/nv/b5gt_2xs6_b2b50_jwyn74wm0000gn/T/ipykernel_2616/308058508.py:19: FutureWarning: The frame.append method is deprecated and will be removed from pandas in a future version. Use pandas.concat instead.\n",
      "  df = df.append(dftmp)\n"
     ]
    },
    {
     "name": "stdout",
     "output_type": "stream",
     "text": [
      "Zip archive: ../data/original/DWD//hourly/precipitation/historical/stundenwerte_RR_05719_20041001_20091210_hist.zip\n",
      "Extract product file: produkt_rr_stunde_20041001_20091210_05719.txt\n",
      "\n"
     ]
    },
    {
     "name": "stderr",
     "output_type": "stream",
     "text": [
      "/var/folders/nv/b5gt_2xs6_b2b50_jwyn74wm0000gn/T/ipykernel_2616/2885908043.py:14: FutureWarning: The default value of regex will change from True to False in a future version. In addition, single character regular expressions will *not* be treated as literal strings when regex=True.\n",
      "  df.columns = df.columns.str.strip().str.lower().str.replace(' ', '_').str.replace('(', '').str.replace(')', '')\n",
      "/var/folders/nv/b5gt_2xs6_b2b50_jwyn74wm0000gn/T/ipykernel_2616/2885908043.py:14: FutureWarning: The default value of regex will change from True to False in a future version. In addition, single character regular expressions will *not* be treated as literal strings when regex=True.\n",
      "  df.columns = df.columns.str.strip().str.lower().str.replace(' ', '_').str.replace('(', '').str.replace(')', '')\n",
      "/var/folders/nv/b5gt_2xs6_b2b50_jwyn74wm0000gn/T/ipykernel_2616/308058508.py:19: FutureWarning: The frame.append method is deprecated and will be removed from pandas in a future version. Use pandas.concat instead.\n",
      "  df = df.append(dftmp)\n"
     ]
    },
    {
     "name": "stdout",
     "output_type": "stream",
     "text": [
      "Zip archive: ../data/original/DWD//hourly/precipitation/historical/stundenwerte_RR_05733_20050501_20201231_hist.zip\n",
      "Extract product file: produkt_rr_stunde_20050501_20201231_05733.txt\n",
      "\n"
     ]
    },
    {
     "name": "stderr",
     "output_type": "stream",
     "text": [
      "/var/folders/nv/b5gt_2xs6_b2b50_jwyn74wm0000gn/T/ipykernel_2616/2885908043.py:14: FutureWarning: The default value of regex will change from True to False in a future version. In addition, single character regular expressions will *not* be treated as literal strings when regex=True.\n",
      "  df.columns = df.columns.str.strip().str.lower().str.replace(' ', '_').str.replace('(', '').str.replace(')', '')\n",
      "/var/folders/nv/b5gt_2xs6_b2b50_jwyn74wm0000gn/T/ipykernel_2616/2885908043.py:14: FutureWarning: The default value of regex will change from True to False in a future version. In addition, single character regular expressions will *not* be treated as literal strings when regex=True.\n",
      "  df.columns = df.columns.str.strip().str.lower().str.replace(' ', '_').str.replace('(', '').str.replace(')', '')\n",
      "/var/folders/nv/b5gt_2xs6_b2b50_jwyn74wm0000gn/T/ipykernel_2616/308058508.py:19: FutureWarning: The frame.append method is deprecated and will be removed from pandas in a future version. Use pandas.concat instead.\n",
      "  df = df.append(dftmp)\n"
     ]
    },
    {
     "name": "stdout",
     "output_type": "stream",
     "text": [
      "Zip archive: ../data/original/DWD//hourly/precipitation/historical/stundenwerte_RR_06197_20001013_20201231_hist.zip\n",
      "Extract product file: produkt_rr_stunde_20001013_20201231_06197.txt\n",
      "\n"
     ]
    },
    {
     "name": "stderr",
     "output_type": "stream",
     "text": [
      "/var/folders/nv/b5gt_2xs6_b2b50_jwyn74wm0000gn/T/ipykernel_2616/2885908043.py:14: FutureWarning: The default value of regex will change from True to False in a future version. In addition, single character regular expressions will *not* be treated as literal strings when regex=True.\n",
      "  df.columns = df.columns.str.strip().str.lower().str.replace(' ', '_').str.replace('(', '').str.replace(')', '')\n",
      "/var/folders/nv/b5gt_2xs6_b2b50_jwyn74wm0000gn/T/ipykernel_2616/2885908043.py:14: FutureWarning: The default value of regex will change from True to False in a future version. In addition, single character regular expressions will *not* be treated as literal strings when regex=True.\n",
      "  df.columns = df.columns.str.strip().str.lower().str.replace(' ', '_').str.replace('(', '').str.replace(')', '')\n",
      "/var/folders/nv/b5gt_2xs6_b2b50_jwyn74wm0000gn/T/ipykernel_2616/308058508.py:19: FutureWarning: The frame.append method is deprecated and will be removed from pandas in a future version. Use pandas.concat instead.\n",
      "  df = df.append(dftmp)\n"
     ]
    },
    {
     "name": "stdout",
     "output_type": "stream",
     "text": [
      "Zip archive: ../data/original/DWD//hourly/precipitation/historical/stundenwerte_RR_06264_20040601_20201231_hist.zip\n",
      "Extract product file: produkt_rr_stunde_20040601_20201231_06264.txt\n",
      "\n"
     ]
    },
    {
     "name": "stderr",
     "output_type": "stream",
     "text": [
      "/var/folders/nv/b5gt_2xs6_b2b50_jwyn74wm0000gn/T/ipykernel_2616/2885908043.py:14: FutureWarning: The default value of regex will change from True to False in a future version. In addition, single character regular expressions will *not* be treated as literal strings when regex=True.\n",
      "  df.columns = df.columns.str.strip().str.lower().str.replace(' ', '_').str.replace('(', '').str.replace(')', '')\n",
      "/var/folders/nv/b5gt_2xs6_b2b50_jwyn74wm0000gn/T/ipykernel_2616/2885908043.py:14: FutureWarning: The default value of regex will change from True to False in a future version. In addition, single character regular expressions will *not* be treated as literal strings when regex=True.\n",
      "  df.columns = df.columns.str.strip().str.lower().str.replace(' ', '_').str.replace('(', '').str.replace(')', '')\n",
      "/var/folders/nv/b5gt_2xs6_b2b50_jwyn74wm0000gn/T/ipykernel_2616/308058508.py:19: FutureWarning: The frame.append method is deprecated and will be removed from pandas in a future version. Use pandas.concat instead.\n",
      "  df = df.append(dftmp)\n"
     ]
    },
    {
     "name": "stdout",
     "output_type": "stream",
     "text": [
      "Zip archive: ../data/original/DWD//hourly/precipitation/historical/stundenwerte_RR_06276_20041101_20191102_hist.zip\n",
      "Extract product file: produkt_rr_stunde_20041101_20191102_06276.txt\n",
      "\n"
     ]
    },
    {
     "name": "stderr",
     "output_type": "stream",
     "text": [
      "/var/folders/nv/b5gt_2xs6_b2b50_jwyn74wm0000gn/T/ipykernel_2616/2885908043.py:14: FutureWarning: The default value of regex will change from True to False in a future version. In addition, single character regular expressions will *not* be treated as literal strings when regex=True.\n",
      "  df.columns = df.columns.str.strip().str.lower().str.replace(' ', '_').str.replace('(', '').str.replace(')', '')\n",
      "/var/folders/nv/b5gt_2xs6_b2b50_jwyn74wm0000gn/T/ipykernel_2616/2885908043.py:14: FutureWarning: The default value of regex will change from True to False in a future version. In addition, single character regular expressions will *not* be treated as literal strings when regex=True.\n",
      "  df.columns = df.columns.str.strip().str.lower().str.replace(' ', '_').str.replace('(', '').str.replace(')', '')\n",
      "/var/folders/nv/b5gt_2xs6_b2b50_jwyn74wm0000gn/T/ipykernel_2616/308058508.py:19: FutureWarning: The frame.append method is deprecated and will be removed from pandas in a future version. Use pandas.concat instead.\n",
      "  df = df.append(dftmp)\n"
     ]
    },
    {
     "name": "stdout",
     "output_type": "stream",
     "text": [
      "Zip archive: ../data/original/DWD//hourly/precipitation/historical/stundenwerte_RR_06313_20041201_20201231_hist.zip\n",
      "Extract product file: produkt_rr_stunde_20041201_20201231_06313.txt\n",
      "\n"
     ]
    },
    {
     "name": "stderr",
     "output_type": "stream",
     "text": [
      "/var/folders/nv/b5gt_2xs6_b2b50_jwyn74wm0000gn/T/ipykernel_2616/2885908043.py:14: FutureWarning: The default value of regex will change from True to False in a future version. In addition, single character regular expressions will *not* be treated as literal strings when regex=True.\n",
      "  df.columns = df.columns.str.strip().str.lower().str.replace(' ', '_').str.replace('(', '').str.replace(')', '')\n",
      "/var/folders/nv/b5gt_2xs6_b2b50_jwyn74wm0000gn/T/ipykernel_2616/2885908043.py:14: FutureWarning: The default value of regex will change from True to False in a future version. In addition, single character regular expressions will *not* be treated as literal strings when regex=True.\n",
      "  df.columns = df.columns.str.strip().str.lower().str.replace(' ', '_').str.replace('(', '').str.replace(')', '')\n",
      "/var/folders/nv/b5gt_2xs6_b2b50_jwyn74wm0000gn/T/ipykernel_2616/308058508.py:19: FutureWarning: The frame.append method is deprecated and will be removed from pandas in a future version. Use pandas.concat instead.\n",
      "  df = df.append(dftmp)\n"
     ]
    },
    {
     "name": "stdout",
     "output_type": "stream",
     "text": [
      "Zip archive: ../data/original/DWD//hourly/precipitation/historical/stundenwerte_RR_06337_20040801_20201231_hist.zip\n",
      "Extract product file: produkt_rr_stunde_20040801_20201231_06337.txt\n",
      "\n"
     ]
    },
    {
     "name": "stderr",
     "output_type": "stream",
     "text": [
      "/var/folders/nv/b5gt_2xs6_b2b50_jwyn74wm0000gn/T/ipykernel_2616/2885908043.py:14: FutureWarning: The default value of regex will change from True to False in a future version. In addition, single character regular expressions will *not* be treated as literal strings when regex=True.\n",
      "  df.columns = df.columns.str.strip().str.lower().str.replace(' ', '_').str.replace('(', '').str.replace(')', '')\n",
      "/var/folders/nv/b5gt_2xs6_b2b50_jwyn74wm0000gn/T/ipykernel_2616/2885908043.py:14: FutureWarning: The default value of regex will change from True to False in a future version. In addition, single character regular expressions will *not* be treated as literal strings when regex=True.\n",
      "  df.columns = df.columns.str.strip().str.lower().str.replace(' ', '_').str.replace('(', '').str.replace(')', '')\n",
      "/var/folders/nv/b5gt_2xs6_b2b50_jwyn74wm0000gn/T/ipykernel_2616/308058508.py:19: FutureWarning: The frame.append method is deprecated and will be removed from pandas in a future version. Use pandas.concat instead.\n",
      "  df = df.append(dftmp)\n"
     ]
    },
    {
     "name": "stdout",
     "output_type": "stream",
     "text": [
      "Zip archive: ../data/original/DWD//hourly/precipitation/historical/stundenwerte_RR_07106_20060901_20201231_hist.zip\n",
      "Extract product file: produkt_rr_stunde_20060901_20201231_07106.txt\n",
      "\n"
     ]
    },
    {
     "name": "stderr",
     "output_type": "stream",
     "text": [
      "/var/folders/nv/b5gt_2xs6_b2b50_jwyn74wm0000gn/T/ipykernel_2616/2885908043.py:14: FutureWarning: The default value of regex will change from True to False in a future version. In addition, single character regular expressions will *not* be treated as literal strings when regex=True.\n",
      "  df.columns = df.columns.str.strip().str.lower().str.replace(' ', '_').str.replace('(', '').str.replace(')', '')\n",
      "/var/folders/nv/b5gt_2xs6_b2b50_jwyn74wm0000gn/T/ipykernel_2616/2885908043.py:14: FutureWarning: The default value of regex will change from True to False in a future version. In addition, single character regular expressions will *not* be treated as literal strings when regex=True.\n",
      "  df.columns = df.columns.str.strip().str.lower().str.replace(' ', '_').str.replace('(', '').str.replace(')', '')\n",
      "/var/folders/nv/b5gt_2xs6_b2b50_jwyn74wm0000gn/T/ipykernel_2616/308058508.py:19: FutureWarning: The frame.append method is deprecated and will be removed from pandas in a future version. Use pandas.concat instead.\n",
      "  df = df.append(dftmp)\n"
     ]
    },
    {
     "name": "stdout",
     "output_type": "stream",
     "text": [
      "Zip archive: ../data/original/DWD//hourly/precipitation/historical/stundenwerte_RR_07330_20051001_20201231_hist.zip\n",
      "Extract product file: produkt_rr_stunde_20051001_20201231_07330.txt\n",
      "\n"
     ]
    },
    {
     "name": "stderr",
     "output_type": "stream",
     "text": [
      "/var/folders/nv/b5gt_2xs6_b2b50_jwyn74wm0000gn/T/ipykernel_2616/2885908043.py:14: FutureWarning: The default value of regex will change from True to False in a future version. In addition, single character regular expressions will *not* be treated as literal strings when regex=True.\n",
      "  df.columns = df.columns.str.strip().str.lower().str.replace(' ', '_').str.replace('(', '').str.replace(')', '')\n",
      "/var/folders/nv/b5gt_2xs6_b2b50_jwyn74wm0000gn/T/ipykernel_2616/2885908043.py:14: FutureWarning: The default value of regex will change from True to False in a future version. In addition, single character regular expressions will *not* be treated as literal strings when regex=True.\n",
      "  df.columns = df.columns.str.strip().str.lower().str.replace(' ', '_').str.replace('(', '').str.replace(')', '')\n",
      "/var/folders/nv/b5gt_2xs6_b2b50_jwyn74wm0000gn/T/ipykernel_2616/308058508.py:19: FutureWarning: The frame.append method is deprecated and will be removed from pandas in a future version. Use pandas.concat instead.\n",
      "  df = df.append(dftmp)\n"
     ]
    },
    {
     "name": "stdout",
     "output_type": "stream",
     "text": [
      "Zip archive: ../data/original/DWD//hourly/precipitation/historical/stundenwerte_RR_07344_20060601_20201231_hist.zip\n",
      "Extract product file: produkt_rr_stunde_20060601_20201231_07344.txt\n",
      "\n"
     ]
    },
    {
     "name": "stderr",
     "output_type": "stream",
     "text": [
      "/var/folders/nv/b5gt_2xs6_b2b50_jwyn74wm0000gn/T/ipykernel_2616/2885908043.py:14: FutureWarning: The default value of regex will change from True to False in a future version. In addition, single character regular expressions will *not* be treated as literal strings when regex=True.\n",
      "  df.columns = df.columns.str.strip().str.lower().str.replace(' ', '_').str.replace('(', '').str.replace(')', '')\n",
      "/var/folders/nv/b5gt_2xs6_b2b50_jwyn74wm0000gn/T/ipykernel_2616/2885908043.py:14: FutureWarning: The default value of regex will change from True to False in a future version. In addition, single character regular expressions will *not* be treated as literal strings when regex=True.\n",
      "  df.columns = df.columns.str.strip().str.lower().str.replace(' ', '_').str.replace('(', '').str.replace(')', '')\n",
      "/var/folders/nv/b5gt_2xs6_b2b50_jwyn74wm0000gn/T/ipykernel_2616/308058508.py:19: FutureWarning: The frame.append method is deprecated and will be removed from pandas in a future version. Use pandas.concat instead.\n",
      "  df = df.append(dftmp)\n"
     ]
    },
    {
     "name": "stdout",
     "output_type": "stream",
     "text": [
      "Zip archive: ../data/original/DWD//hourly/precipitation/historical/stundenwerte_RR_07374_20060301_20201231_hist.zip\n",
      "Extract product file: produkt_rr_stunde_20060301_20201231_07374.txt\n",
      "\n"
     ]
    },
    {
     "name": "stderr",
     "output_type": "stream",
     "text": [
      "/var/folders/nv/b5gt_2xs6_b2b50_jwyn74wm0000gn/T/ipykernel_2616/2885908043.py:14: FutureWarning: The default value of regex will change from True to False in a future version. In addition, single character regular expressions will *not* be treated as literal strings when regex=True.\n",
      "  df.columns = df.columns.str.strip().str.lower().str.replace(' ', '_').str.replace('(', '').str.replace(')', '')\n",
      "/var/folders/nv/b5gt_2xs6_b2b50_jwyn74wm0000gn/T/ipykernel_2616/2885908043.py:14: FutureWarning: The default value of regex will change from True to False in a future version. In addition, single character regular expressions will *not* be treated as literal strings when regex=True.\n",
      "  df.columns = df.columns.str.strip().str.lower().str.replace(' ', '_').str.replace('(', '').str.replace(')', '')\n",
      "/var/folders/nv/b5gt_2xs6_b2b50_jwyn74wm0000gn/T/ipykernel_2616/308058508.py:19: FutureWarning: The frame.append method is deprecated and will be removed from pandas in a future version. Use pandas.concat instead.\n",
      "  df = df.append(dftmp)\n"
     ]
    },
    {
     "name": "stdout",
     "output_type": "stream",
     "text": [
      "Zip archive: ../data/original/DWD//hourly/precipitation/historical/stundenwerte_RR_07378_20060701_20201231_hist.zip\n",
      "Extract product file: produkt_rr_stunde_20060701_20201231_07378.txt\n",
      "\n"
     ]
    },
    {
     "name": "stderr",
     "output_type": "stream",
     "text": [
      "/var/folders/nv/b5gt_2xs6_b2b50_jwyn74wm0000gn/T/ipykernel_2616/2885908043.py:14: FutureWarning: The default value of regex will change from True to False in a future version. In addition, single character regular expressions will *not* be treated as literal strings when regex=True.\n",
      "  df.columns = df.columns.str.strip().str.lower().str.replace(' ', '_').str.replace('(', '').str.replace(')', '')\n",
      "/var/folders/nv/b5gt_2xs6_b2b50_jwyn74wm0000gn/T/ipykernel_2616/2885908043.py:14: FutureWarning: The default value of regex will change from True to False in a future version. In addition, single character regular expressions will *not* be treated as literal strings when regex=True.\n",
      "  df.columns = df.columns.str.strip().str.lower().str.replace(' ', '_').str.replace('(', '').str.replace(')', '')\n",
      "/var/folders/nv/b5gt_2xs6_b2b50_jwyn74wm0000gn/T/ipykernel_2616/308058508.py:19: FutureWarning: The frame.append method is deprecated and will be removed from pandas in a future version. Use pandas.concat instead.\n",
      "  df = df.append(dftmp)\n"
     ]
    },
    {
     "name": "stdout",
     "output_type": "stream",
     "text": [
      "Zip archive: ../data/original/DWD//hourly/precipitation/historical/stundenwerte_RR_13669_20070901_20201231_hist.zip\n",
      "Extract product file: produkt_rr_stunde_20070901_20201231_13669.txt\n",
      "\n"
     ]
    },
    {
     "name": "stderr",
     "output_type": "stream",
     "text": [
      "/var/folders/nv/b5gt_2xs6_b2b50_jwyn74wm0000gn/T/ipykernel_2616/2885908043.py:14: FutureWarning: The default value of regex will change from True to False in a future version. In addition, single character regular expressions will *not* be treated as literal strings when regex=True.\n",
      "  df.columns = df.columns.str.strip().str.lower().str.replace(' ', '_').str.replace('(', '').str.replace(')', '')\n",
      "/var/folders/nv/b5gt_2xs6_b2b50_jwyn74wm0000gn/T/ipykernel_2616/2885908043.py:14: FutureWarning: The default value of regex will change from True to False in a future version. In addition, single character regular expressions will *not* be treated as literal strings when regex=True.\n",
      "  df.columns = df.columns.str.strip().str.lower().str.replace(' ', '_').str.replace('(', '').str.replace(')', '')\n",
      "/var/folders/nv/b5gt_2xs6_b2b50_jwyn74wm0000gn/T/ipykernel_2616/308058508.py:19: FutureWarning: The frame.append method is deprecated and will be removed from pandas in a future version. Use pandas.concat instead.\n",
      "  df = df.append(dftmp)\n"
     ]
    },
    {
     "name": "stdout",
     "output_type": "stream",
     "text": [
      "Zip archive: ../data/original/DWD//hourly/precipitation/historical/stundenwerte_RR_13670_20070601_20201231_hist.zip\n",
      "Extract product file: produkt_rr_stunde_20070601_20201231_13670.txt\n",
      "\n"
     ]
    },
    {
     "name": "stderr",
     "output_type": "stream",
     "text": [
      "/var/folders/nv/b5gt_2xs6_b2b50_jwyn74wm0000gn/T/ipykernel_2616/2885908043.py:14: FutureWarning: The default value of regex will change from True to False in a future version. In addition, single character regular expressions will *not* be treated as literal strings when regex=True.\n",
      "  df.columns = df.columns.str.strip().str.lower().str.replace(' ', '_').str.replace('(', '').str.replace(')', '')\n",
      "/var/folders/nv/b5gt_2xs6_b2b50_jwyn74wm0000gn/T/ipykernel_2616/2885908043.py:14: FutureWarning: The default value of regex will change from True to False in a future version. In addition, single character regular expressions will *not* be treated as literal strings when regex=True.\n",
      "  df.columns = df.columns.str.strip().str.lower().str.replace(' ', '_').str.replace('(', '').str.replace(')', '')\n",
      "/var/folders/nv/b5gt_2xs6_b2b50_jwyn74wm0000gn/T/ipykernel_2616/308058508.py:19: FutureWarning: The frame.append method is deprecated and will be removed from pandas in a future version. Use pandas.concat instead.\n",
      "  df = df.append(dftmp)\n"
     ]
    },
    {
     "name": "stdout",
     "output_type": "stream",
     "text": [
      "Zip archive: ../data/original/DWD//hourly/precipitation/historical/stundenwerte_RR_13671_20071201_20201231_hist.zip\n",
      "Extract product file: produkt_rr_stunde_20071201_20201231_13671.txt\n",
      "\n"
     ]
    },
    {
     "name": "stderr",
     "output_type": "stream",
     "text": [
      "/var/folders/nv/b5gt_2xs6_b2b50_jwyn74wm0000gn/T/ipykernel_2616/2885908043.py:14: FutureWarning: The default value of regex will change from True to False in a future version. In addition, single character regular expressions will *not* be treated as literal strings when regex=True.\n",
      "  df.columns = df.columns.str.strip().str.lower().str.replace(' ', '_').str.replace('(', '').str.replace(')', '')\n",
      "/var/folders/nv/b5gt_2xs6_b2b50_jwyn74wm0000gn/T/ipykernel_2616/2885908043.py:14: FutureWarning: The default value of regex will change from True to False in a future version. In addition, single character regular expressions will *not* be treated as literal strings when regex=True.\n",
      "  df.columns = df.columns.str.strip().str.lower().str.replace(' ', '_').str.replace('(', '').str.replace(')', '')\n",
      "/var/folders/nv/b5gt_2xs6_b2b50_jwyn74wm0000gn/T/ipykernel_2616/308058508.py:19: FutureWarning: The frame.append method is deprecated and will be removed from pandas in a future version. Use pandas.concat instead.\n",
      "  df = df.append(dftmp)\n"
     ]
    },
    {
     "name": "stdout",
     "output_type": "stream",
     "text": [
      "Zip archive: ../data/original/DWD//hourly/precipitation/historical/stundenwerte_RR_13696_20071201_20201231_hist.zip\n",
      "Extract product file: produkt_rr_stunde_20071201_20201231_13696.txt\n",
      "\n"
     ]
    },
    {
     "name": "stderr",
     "output_type": "stream",
     "text": [
      "/var/folders/nv/b5gt_2xs6_b2b50_jwyn74wm0000gn/T/ipykernel_2616/2885908043.py:14: FutureWarning: The default value of regex will change from True to False in a future version. In addition, single character regular expressions will *not* be treated as literal strings when regex=True.\n",
      "  df.columns = df.columns.str.strip().str.lower().str.replace(' ', '_').str.replace('(', '').str.replace(')', '')\n",
      "/var/folders/nv/b5gt_2xs6_b2b50_jwyn74wm0000gn/T/ipykernel_2616/2885908043.py:14: FutureWarning: The default value of regex will change from True to False in a future version. In addition, single character regular expressions will *not* be treated as literal strings when regex=True.\n",
      "  df.columns = df.columns.str.strip().str.lower().str.replace(' ', '_').str.replace('(', '').str.replace(')', '')\n",
      "/var/folders/nv/b5gt_2xs6_b2b50_jwyn74wm0000gn/T/ipykernel_2616/308058508.py:19: FutureWarning: The frame.append method is deprecated and will be removed from pandas in a future version. Use pandas.concat instead.\n",
      "  df = df.append(dftmp)\n"
     ]
    },
    {
     "name": "stdout",
     "output_type": "stream",
     "text": [
      "Zip archive: ../data/original/DWD//hourly/precipitation/historical/stundenwerte_RR_13700_20080501_20201231_hist.zip\n",
      "Extract product file: produkt_rr_stunde_20080501_20201231_13700.txt\n",
      "\n"
     ]
    },
    {
     "name": "stderr",
     "output_type": "stream",
     "text": [
      "/var/folders/nv/b5gt_2xs6_b2b50_jwyn74wm0000gn/T/ipykernel_2616/2885908043.py:14: FutureWarning: The default value of regex will change from True to False in a future version. In addition, single character regular expressions will *not* be treated as literal strings when regex=True.\n",
      "  df.columns = df.columns.str.strip().str.lower().str.replace(' ', '_').str.replace('(', '').str.replace(')', '')\n",
      "/var/folders/nv/b5gt_2xs6_b2b50_jwyn74wm0000gn/T/ipykernel_2616/2885908043.py:14: FutureWarning: The default value of regex will change from True to False in a future version. In addition, single character regular expressions will *not* be treated as literal strings when regex=True.\n",
      "  df.columns = df.columns.str.strip().str.lower().str.replace(' ', '_').str.replace('(', '').str.replace(')', '')\n",
      "/var/folders/nv/b5gt_2xs6_b2b50_jwyn74wm0000gn/T/ipykernel_2616/308058508.py:19: FutureWarning: The frame.append method is deprecated and will be removed from pandas in a future version. Use pandas.concat instead.\n",
      "  df = df.append(dftmp)\n"
     ]
    },
    {
     "name": "stdout",
     "output_type": "stream",
     "text": [
      "Zip archive: ../data/original/DWD//hourly/precipitation/historical/stundenwerte_RR_13713_20071101_20201231_hist.zip\n",
      "Extract product file: produkt_rr_stunde_20071101_20201231_13713.txt\n",
      "\n"
     ]
    },
    {
     "name": "stderr",
     "output_type": "stream",
     "text": [
      "/var/folders/nv/b5gt_2xs6_b2b50_jwyn74wm0000gn/T/ipykernel_2616/2885908043.py:14: FutureWarning: The default value of regex will change from True to False in a future version. In addition, single character regular expressions will *not* be treated as literal strings when regex=True.\n",
      "  df.columns = df.columns.str.strip().str.lower().str.replace(' ', '_').str.replace('(', '').str.replace(')', '')\n",
      "/var/folders/nv/b5gt_2xs6_b2b50_jwyn74wm0000gn/T/ipykernel_2616/2885908043.py:14: FutureWarning: The default value of regex will change from True to False in a future version. In addition, single character regular expressions will *not* be treated as literal strings when regex=True.\n",
      "  df.columns = df.columns.str.strip().str.lower().str.replace(' ', '_').str.replace('(', '').str.replace(')', '')\n",
      "/var/folders/nv/b5gt_2xs6_b2b50_jwyn74wm0000gn/T/ipykernel_2616/308058508.py:19: FutureWarning: The frame.append method is deprecated and will be removed from pandas in a future version. Use pandas.concat instead.\n",
      "  df = df.append(dftmp)\n"
     ]
    },
    {
     "name": "stdout",
     "output_type": "stream",
     "text": [
      "Zip archive: ../data/original/DWD//hourly/precipitation/historical/stundenwerte_RR_15000_20110401_20201231_hist.zip\n",
      "Extract product file: produkt_rr_stunde_20110401_20201231_15000.txt\n",
      "\n"
     ]
    },
    {
     "name": "stderr",
     "output_type": "stream",
     "text": [
      "/var/folders/nv/b5gt_2xs6_b2b50_jwyn74wm0000gn/T/ipykernel_2616/2885908043.py:14: FutureWarning: The default value of regex will change from True to False in a future version. In addition, single character regular expressions will *not* be treated as literal strings when regex=True.\n",
      "  df.columns = df.columns.str.strip().str.lower().str.replace(' ', '_').str.replace('(', '').str.replace(')', '')\n",
      "/var/folders/nv/b5gt_2xs6_b2b50_jwyn74wm0000gn/T/ipykernel_2616/2885908043.py:14: FutureWarning: The default value of regex will change from True to False in a future version. In addition, single character regular expressions will *not* be treated as literal strings when regex=True.\n",
      "  df.columns = df.columns.str.strip().str.lower().str.replace(' ', '_').str.replace('(', '').str.replace(')', '')\n",
      "/var/folders/nv/b5gt_2xs6_b2b50_jwyn74wm0000gn/T/ipykernel_2616/308058508.py:19: FutureWarning: The frame.append method is deprecated and will be removed from pandas in a future version. Use pandas.concat instead.\n",
      "  df = df.append(dftmp)\n"
     ]
    }
   ],
   "source": [
    "#join the precipitation station description data with the time series data\n",
    "def ts_append():\n",
    "    # Very compact code.\n",
    "    df = pd.DataFrame()\n",
    "    for elt in local_zip_list:\n",
    "        ffname = local_ftp_ts_dir + elt\n",
    "        print(\"Zip archive: \" + ffname)\n",
    "        with ZipFile(ffname) as myzip:\n",
    "            # read the time series data from the file starting with \"produkt\"\n",
    "            prodfilename = [elt for elt in myzip.namelist() if elt.split(\"_\")[0]==\"produkt\"][0] \n",
    "            print(\"Extract product file: %s\" % prodfilename)\n",
    "            print()\n",
    "            with myzip.open(prodfilename) as myfile:\n",
    "# TEMPERATURE                dftmp = temp_ts_to_df(myfile)\n",
    "# PRECIPIATION\n",
    "                dftmp = prec_ts_to_df(myfile)\n",
    "                dftmp = dftmp.merge(df_stations,how=\"inner\",left_on=\"stations_id\",right_on=\"station_id\",right_index=True)\n",
    "#                print(dftmp.head(5))\n",
    "                df = df.append(dftmp)\n",
    "\n",
    "    #df.index.names = [\"year\"]\n",
    "    #df.index.rename(name = \"time\", inplace = True)\n",
    "    return(df)\n",
    "\n",
    "df_appended_ts = ts_append()"
   ]
  },
  {
   "cell_type": "code",
   "execution_count": 19,
   "id": "3f85de73-a6d6-4daa-80df-0c1e437c3c9c",
   "metadata": {},
   "outputs": [
    {
     "data": {
      "text/html": [
       "<div>\n",
       "<style scoped>\n",
       "    .dataframe tbody tr th:only-of-type {\n",
       "        vertical-align: middle;\n",
       "    }\n",
       "\n",
       "    .dataframe tbody tr th {\n",
       "        vertical-align: top;\n",
       "    }\n",
       "\n",
       "    .dataframe thead th {\n",
       "        text-align: right;\n",
       "    }\n",
       "</style>\n",
       "<table border=\"1\" class=\"dataframe\">\n",
       "  <thead>\n",
       "    <tr style=\"text-align: right;\">\n",
       "      <th></th>\n",
       "      <th>stations_id</th>\n",
       "      <th>qn_8</th>\n",
       "      <th>r1</th>\n",
       "      <th>rs_ind</th>\n",
       "      <th>wrtr</th>\n",
       "      <th>eor</th>\n",
       "      <th>date_from</th>\n",
       "      <th>date_to</th>\n",
       "      <th>altitude</th>\n",
       "      <th>latitude</th>\n",
       "      <th>longitude</th>\n",
       "      <th>name</th>\n",
       "      <th>state</th>\n",
       "    </tr>\n",
       "    <tr>\n",
       "      <th>mess_datum</th>\n",
       "      <th></th>\n",
       "      <th></th>\n",
       "      <th></th>\n",
       "      <th></th>\n",
       "      <th></th>\n",
       "      <th></th>\n",
       "      <th></th>\n",
       "      <th></th>\n",
       "      <th></th>\n",
       "      <th></th>\n",
       "      <th></th>\n",
       "      <th></th>\n",
       "      <th></th>\n",
       "    </tr>\n",
       "  </thead>\n",
       "  <tbody>\n",
       "    <tr>\n",
       "      <th>1995-09-01 00:00:00</th>\n",
       "      <td>3</td>\n",
       "      <td>1</td>\n",
       "      <td>0.0</td>\n",
       "      <td>0.0</td>\n",
       "      <td>NaN</td>\n",
       "      <td>eor</td>\n",
       "      <td>1995-09-01</td>\n",
       "      <td>2011-04-01</td>\n",
       "      <td>202</td>\n",
       "      <td>50.7827</td>\n",
       "      <td>6.0941</td>\n",
       "      <td>Aachen</td>\n",
       "      <td>Nordrhein-Westfalen</td>\n",
       "    </tr>\n",
       "    <tr>\n",
       "      <th>1995-09-01 01:00:00</th>\n",
       "      <td>3</td>\n",
       "      <td>1</td>\n",
       "      <td>0.0</td>\n",
       "      <td>0.0</td>\n",
       "      <td>NaN</td>\n",
       "      <td>eor</td>\n",
       "      <td>1995-09-01</td>\n",
       "      <td>2011-04-01</td>\n",
       "      <td>202</td>\n",
       "      <td>50.7827</td>\n",
       "      <td>6.0941</td>\n",
       "      <td>Aachen</td>\n",
       "      <td>Nordrhein-Westfalen</td>\n",
       "    </tr>\n",
       "    <tr>\n",
       "      <th>1995-09-01 02:00:00</th>\n",
       "      <td>3</td>\n",
       "      <td>1</td>\n",
       "      <td>0.0</td>\n",
       "      <td>0.0</td>\n",
       "      <td>NaN</td>\n",
       "      <td>eor</td>\n",
       "      <td>1995-09-01</td>\n",
       "      <td>2011-04-01</td>\n",
       "      <td>202</td>\n",
       "      <td>50.7827</td>\n",
       "      <td>6.0941</td>\n",
       "      <td>Aachen</td>\n",
       "      <td>Nordrhein-Westfalen</td>\n",
       "    </tr>\n",
       "    <tr>\n",
       "      <th>1995-09-01 03:00:00</th>\n",
       "      <td>3</td>\n",
       "      <td>1</td>\n",
       "      <td>0.0</td>\n",
       "      <td>0.0</td>\n",
       "      <td>NaN</td>\n",
       "      <td>eor</td>\n",
       "      <td>1995-09-01</td>\n",
       "      <td>2011-04-01</td>\n",
       "      <td>202</td>\n",
       "      <td>50.7827</td>\n",
       "      <td>6.0941</td>\n",
       "      <td>Aachen</td>\n",
       "      <td>Nordrhein-Westfalen</td>\n",
       "    </tr>\n",
       "    <tr>\n",
       "      <th>1995-09-01 04:00:00</th>\n",
       "      <td>3</td>\n",
       "      <td>1</td>\n",
       "      <td>0.0</td>\n",
       "      <td>0.0</td>\n",
       "      <td>NaN</td>\n",
       "      <td>eor</td>\n",
       "      <td>1995-09-01</td>\n",
       "      <td>2011-04-01</td>\n",
       "      <td>202</td>\n",
       "      <td>50.7827</td>\n",
       "      <td>6.0941</td>\n",
       "      <td>Aachen</td>\n",
       "      <td>Nordrhein-Westfalen</td>\n",
       "    </tr>\n",
       "  </tbody>\n",
       "</table>\n",
       "</div>"
      ],
      "text/plain": [
       "                     stations_id  qn_8   r1  rs_ind  wrtr  eor  date_from  \\\n",
       "mess_datum                                                                  \n",
       "1995-09-01 00:00:00            3     1  0.0     0.0   NaN  eor 1995-09-01   \n",
       "1995-09-01 01:00:00            3     1  0.0     0.0   NaN  eor 1995-09-01   \n",
       "1995-09-01 02:00:00            3     1  0.0     0.0   NaN  eor 1995-09-01   \n",
       "1995-09-01 03:00:00            3     1  0.0     0.0   NaN  eor 1995-09-01   \n",
       "1995-09-01 04:00:00            3     1  0.0     0.0   NaN  eor 1995-09-01   \n",
       "\n",
       "                       date_to  altitude  latitude  longitude    name  \\\n",
       "mess_datum                                                              \n",
       "1995-09-01 00:00:00 2011-04-01       202   50.7827     6.0941  Aachen   \n",
       "1995-09-01 01:00:00 2011-04-01       202   50.7827     6.0941  Aachen   \n",
       "1995-09-01 02:00:00 2011-04-01       202   50.7827     6.0941  Aachen   \n",
       "1995-09-01 03:00:00 2011-04-01       202   50.7827     6.0941  Aachen   \n",
       "1995-09-01 04:00:00 2011-04-01       202   50.7827     6.0941  Aachen   \n",
       "\n",
       "                                   state  \n",
       "mess_datum                                \n",
       "1995-09-01 00:00:00  Nordrhein-Westfalen  \n",
       "1995-09-01 01:00:00  Nordrhein-Westfalen  \n",
       "1995-09-01 02:00:00  Nordrhein-Westfalen  \n",
       "1995-09-01 03:00:00  Nordrhein-Westfalen  \n",
       "1995-09-01 04:00:00  Nordrhein-Westfalen  "
      ]
     },
     "execution_count": 19,
     "metadata": {},
     "output_type": "execute_result"
    }
   ],
   "source": [
    "df_appended_ts.head()"
   ]
  },
  {
   "cell_type": "code",
   "execution_count": 20,
   "id": "218285a6-106e-4900-8ea5-12a6ed6d43fb",
   "metadata": {},
   "outputs": [
    {
     "data": {
      "text/html": [
       "<div>\n",
       "<style scoped>\n",
       "    .dataframe tbody tr th:only-of-type {\n",
       "        vertical-align: middle;\n",
       "    }\n",
       "\n",
       "    .dataframe tbody tr th {\n",
       "        vertical-align: top;\n",
       "    }\n",
       "\n",
       "    .dataframe thead th {\n",
       "        text-align: right;\n",
       "    }\n",
       "</style>\n",
       "<table border=\"1\" class=\"dataframe\">\n",
       "  <thead>\n",
       "    <tr style=\"text-align: right;\">\n",
       "      <th></th>\n",
       "      <th>stations_id</th>\n",
       "      <th>qn_8</th>\n",
       "      <th>r1</th>\n",
       "      <th>rs_ind</th>\n",
       "      <th>wrtr</th>\n",
       "      <th>eor</th>\n",
       "      <th>date_from</th>\n",
       "      <th>date_to</th>\n",
       "      <th>altitude</th>\n",
       "      <th>latitude</th>\n",
       "      <th>longitude</th>\n",
       "      <th>name</th>\n",
       "      <th>state</th>\n",
       "    </tr>\n",
       "    <tr>\n",
       "      <th>mess_datum</th>\n",
       "      <th></th>\n",
       "      <th></th>\n",
       "      <th></th>\n",
       "      <th></th>\n",
       "      <th></th>\n",
       "      <th></th>\n",
       "      <th></th>\n",
       "      <th></th>\n",
       "      <th></th>\n",
       "      <th></th>\n",
       "      <th></th>\n",
       "      <th></th>\n",
       "      <th></th>\n",
       "    </tr>\n",
       "  </thead>\n",
       "  <tbody>\n",
       "    <tr>\n",
       "      <th>2004-10-01 00:00:00</th>\n",
       "      <td>216</td>\n",
       "      <td>1</td>\n",
       "      <td>0.0</td>\n",
       "      <td>0.0</td>\n",
       "      <td>NaN</td>\n",
       "      <td>eor</td>\n",
       "      <td>2004-10-01</td>\n",
       "      <td>2022-02-25</td>\n",
       "      <td>298</td>\n",
       "      <td>51.1143</td>\n",
       "      <td>7.8807</td>\n",
       "      <td>Attendorn-Neulisternohl</td>\n",
       "      <td>Nordrhein-Westfalen</td>\n",
       "    </tr>\n",
       "    <tr>\n",
       "      <th>2004-10-01 01:00:00</th>\n",
       "      <td>216</td>\n",
       "      <td>1</td>\n",
       "      <td>0.0</td>\n",
       "      <td>0.0</td>\n",
       "      <td>0.0</td>\n",
       "      <td>eor</td>\n",
       "      <td>2004-10-01</td>\n",
       "      <td>2022-02-25</td>\n",
       "      <td>298</td>\n",
       "      <td>51.1143</td>\n",
       "      <td>7.8807</td>\n",
       "      <td>Attendorn-Neulisternohl</td>\n",
       "      <td>Nordrhein-Westfalen</td>\n",
       "    </tr>\n",
       "    <tr>\n",
       "      <th>2004-10-01 02:00:00</th>\n",
       "      <td>216</td>\n",
       "      <td>1</td>\n",
       "      <td>0.0</td>\n",
       "      <td>0.0</td>\n",
       "      <td>0.0</td>\n",
       "      <td>eor</td>\n",
       "      <td>2004-10-01</td>\n",
       "      <td>2022-02-25</td>\n",
       "      <td>298</td>\n",
       "      <td>51.1143</td>\n",
       "      <td>7.8807</td>\n",
       "      <td>Attendorn-Neulisternohl</td>\n",
       "      <td>Nordrhein-Westfalen</td>\n",
       "    </tr>\n",
       "    <tr>\n",
       "      <th>2004-10-01 03:00:00</th>\n",
       "      <td>216</td>\n",
       "      <td>1</td>\n",
       "      <td>0.0</td>\n",
       "      <td>0.0</td>\n",
       "      <td>NaN</td>\n",
       "      <td>eor</td>\n",
       "      <td>2004-10-01</td>\n",
       "      <td>2022-02-25</td>\n",
       "      <td>298</td>\n",
       "      <td>51.1143</td>\n",
       "      <td>7.8807</td>\n",
       "      <td>Attendorn-Neulisternohl</td>\n",
       "      <td>Nordrhein-Westfalen</td>\n",
       "    </tr>\n",
       "    <tr>\n",
       "      <th>2004-10-01 04:00:00</th>\n",
       "      <td>216</td>\n",
       "      <td>1</td>\n",
       "      <td>0.0</td>\n",
       "      <td>0.0</td>\n",
       "      <td>0.0</td>\n",
       "      <td>eor</td>\n",
       "      <td>2004-10-01</td>\n",
       "      <td>2022-02-25</td>\n",
       "      <td>298</td>\n",
       "      <td>51.1143</td>\n",
       "      <td>7.8807</td>\n",
       "      <td>Attendorn-Neulisternohl</td>\n",
       "      <td>Nordrhein-Westfalen</td>\n",
       "    </tr>\n",
       "    <tr>\n",
       "      <th>...</th>\n",
       "      <td>...</td>\n",
       "      <td>...</td>\n",
       "      <td>...</td>\n",
       "      <td>...</td>\n",
       "      <td>...</td>\n",
       "      <td>...</td>\n",
       "      <td>...</td>\n",
       "      <td>...</td>\n",
       "      <td>...</td>\n",
       "      <td>...</td>\n",
       "      <td>...</td>\n",
       "      <td>...</td>\n",
       "      <td>...</td>\n",
       "    </tr>\n",
       "    <tr>\n",
       "      <th>2020-12-31 19:00:00</th>\n",
       "      <td>7330</td>\n",
       "      <td>3</td>\n",
       "      <td>0.0</td>\n",
       "      <td>0.0</td>\n",
       "      <td>NaN</td>\n",
       "      <td>eor</td>\n",
       "      <td>2005-10-01</td>\n",
       "      <td>2022-03-01</td>\n",
       "      <td>159</td>\n",
       "      <td>51.4633</td>\n",
       "      <td>7.9780</td>\n",
       "      <td>Arnsberg-Neheim</td>\n",
       "      <td>Nordrhein-Westfalen</td>\n",
       "    </tr>\n",
       "    <tr>\n",
       "      <th>2020-12-31 20:00:00</th>\n",
       "      <td>7330</td>\n",
       "      <td>3</td>\n",
       "      <td>0.0</td>\n",
       "      <td>0.0</td>\n",
       "      <td>NaN</td>\n",
       "      <td>eor</td>\n",
       "      <td>2005-10-01</td>\n",
       "      <td>2022-03-01</td>\n",
       "      <td>159</td>\n",
       "      <td>51.4633</td>\n",
       "      <td>7.9780</td>\n",
       "      <td>Arnsberg-Neheim</td>\n",
       "      <td>Nordrhein-Westfalen</td>\n",
       "    </tr>\n",
       "    <tr>\n",
       "      <th>2020-12-31 21:00:00</th>\n",
       "      <td>7330</td>\n",
       "      <td>3</td>\n",
       "      <td>0.0</td>\n",
       "      <td>0.0</td>\n",
       "      <td>NaN</td>\n",
       "      <td>eor</td>\n",
       "      <td>2005-10-01</td>\n",
       "      <td>2022-03-01</td>\n",
       "      <td>159</td>\n",
       "      <td>51.4633</td>\n",
       "      <td>7.9780</td>\n",
       "      <td>Arnsberg-Neheim</td>\n",
       "      <td>Nordrhein-Westfalen</td>\n",
       "    </tr>\n",
       "    <tr>\n",
       "      <th>2020-12-31 22:00:00</th>\n",
       "      <td>7330</td>\n",
       "      <td>3</td>\n",
       "      <td>0.0</td>\n",
       "      <td>0.0</td>\n",
       "      <td>NaN</td>\n",
       "      <td>eor</td>\n",
       "      <td>2005-10-01</td>\n",
       "      <td>2022-03-01</td>\n",
       "      <td>159</td>\n",
       "      <td>51.4633</td>\n",
       "      <td>7.9780</td>\n",
       "      <td>Arnsberg-Neheim</td>\n",
       "      <td>Nordrhein-Westfalen</td>\n",
       "    </tr>\n",
       "    <tr>\n",
       "      <th>2020-12-31 23:00:00</th>\n",
       "      <td>7330</td>\n",
       "      <td>3</td>\n",
       "      <td>0.0</td>\n",
       "      <td>0.0</td>\n",
       "      <td>NaN</td>\n",
       "      <td>eor</td>\n",
       "      <td>2005-10-01</td>\n",
       "      <td>2022-03-01</td>\n",
       "      <td>159</td>\n",
       "      <td>51.4633</td>\n",
       "      <td>7.9780</td>\n",
       "      <td>Arnsberg-Neheim</td>\n",
       "      <td>Nordrhein-Westfalen</td>\n",
       "    </tr>\n",
       "  </tbody>\n",
       "</table>\n",
       "<p>1275883 rows × 13 columns</p>\n",
       "</div>"
      ],
      "text/plain": [
       "                     stations_id  qn_8   r1  rs_ind  wrtr  eor  date_from  \\\n",
       "mess_datum                                                                  \n",
       "2004-10-01 00:00:00          216     1  0.0     0.0   NaN  eor 2004-10-01   \n",
       "2004-10-01 01:00:00          216     1  0.0     0.0   0.0  eor 2004-10-01   \n",
       "2004-10-01 02:00:00          216     1  0.0     0.0   0.0  eor 2004-10-01   \n",
       "2004-10-01 03:00:00          216     1  0.0     0.0   NaN  eor 2004-10-01   \n",
       "2004-10-01 04:00:00          216     1  0.0     0.0   0.0  eor 2004-10-01   \n",
       "...                          ...   ...  ...     ...   ...  ...        ...   \n",
       "2020-12-31 19:00:00         7330     3  0.0     0.0   NaN  eor 2005-10-01   \n",
       "2020-12-31 20:00:00         7330     3  0.0     0.0   NaN  eor 2005-10-01   \n",
       "2020-12-31 21:00:00         7330     3  0.0     0.0   NaN  eor 2005-10-01   \n",
       "2020-12-31 22:00:00         7330     3  0.0     0.0   NaN  eor 2005-10-01   \n",
       "2020-12-31 23:00:00         7330     3  0.0     0.0   NaN  eor 2005-10-01   \n",
       "\n",
       "                       date_to  altitude  latitude  longitude  \\\n",
       "mess_datum                                                      \n",
       "2004-10-01 00:00:00 2022-02-25       298   51.1143     7.8807   \n",
       "2004-10-01 01:00:00 2022-02-25       298   51.1143     7.8807   \n",
       "2004-10-01 02:00:00 2022-02-25       298   51.1143     7.8807   \n",
       "2004-10-01 03:00:00 2022-02-25       298   51.1143     7.8807   \n",
       "2004-10-01 04:00:00 2022-02-25       298   51.1143     7.8807   \n",
       "...                        ...       ...       ...        ...   \n",
       "2020-12-31 19:00:00 2022-03-01       159   51.4633     7.9780   \n",
       "2020-12-31 20:00:00 2022-03-01       159   51.4633     7.9780   \n",
       "2020-12-31 21:00:00 2022-03-01       159   51.4633     7.9780   \n",
       "2020-12-31 22:00:00 2022-03-01       159   51.4633     7.9780   \n",
       "2020-12-31 23:00:00 2022-03-01       159   51.4633     7.9780   \n",
       "\n",
       "                                        name                state  \n",
       "mess_datum                                                         \n",
       "2004-10-01 00:00:00  Attendorn-Neulisternohl  Nordrhein-Westfalen  \n",
       "2004-10-01 01:00:00  Attendorn-Neulisternohl  Nordrhein-Westfalen  \n",
       "2004-10-01 02:00:00  Attendorn-Neulisternohl  Nordrhein-Westfalen  \n",
       "2004-10-01 03:00:00  Attendorn-Neulisternohl  Nordrhein-Westfalen  \n",
       "2004-10-01 04:00:00  Attendorn-Neulisternohl  Nordrhein-Westfalen  \n",
       "...                                      ...                  ...  \n",
       "2020-12-31 19:00:00          Arnsberg-Neheim  Nordrhein-Westfalen  \n",
       "2020-12-31 20:00:00          Arnsberg-Neheim  Nordrhein-Westfalen  \n",
       "2020-12-31 21:00:00          Arnsberg-Neheim  Nordrhein-Westfalen  \n",
       "2020-12-31 22:00:00          Arnsberg-Neheim  Nordrhein-Westfalen  \n",
       "2020-12-31 23:00:00          Arnsberg-Neheim  Nordrhein-Westfalen  \n",
       "\n",
       "[1275883 rows x 13 columns]"
      ]
     },
     "execution_count": 20,
     "metadata": {},
     "output_type": "execute_result"
    }
   ],
   "source": [
    "#only stations in OLPE and Hochsquerlandkrei are selected for the study\n",
    "df_appended_ts_roi=df_appended_ts[(df_appended_ts['stations_id']==216) |\n",
    "               (df_appended_ts['stations_id']==1300) |\n",
    "               (df_appended_ts['stations_id']==2483) |\n",
    "               (df_appended_ts['stations_id']==2947) |\n",
    "               (df_appended_ts['stations_id']==3215) |\n",
    "               (df_appended_ts['stations_id']==4488) |\n",
    "               (df_appended_ts['stations_id']==5468) |\n",
    "               (df_appended_ts['stations_id']==6264) |\n",
    "               (df_appended_ts['stations_id']==7330)]\n",
    "df_appended_ts_roi"
   ]
  },
  {
   "cell_type": "code",
   "execution_count": 21,
   "id": "3997c0a6-e604-4307-8944-8ddfcd1b551d",
   "metadata": {},
   "outputs": [],
   "source": [
    "#the date of interest is selected 2018-04-16 to 2018-08-16\n",
    "idx=(df_appended_ts_roi.index >= '2018-04-16 00:00:00') & (df_appended_ts_roi.index<'2018-08-16 00:00:00')"
   ]
  },
  {
   "cell_type": "code",
   "execution_count": 22,
   "id": "828f51d6-2f76-441b-94cf-6a640bab30dd",
   "metadata": {},
   "outputs": [
    {
     "data": {
      "text/html": [
       "<div>\n",
       "<style scoped>\n",
       "    .dataframe tbody tr th:only-of-type {\n",
       "        vertical-align: middle;\n",
       "    }\n",
       "\n",
       "    .dataframe tbody tr th {\n",
       "        vertical-align: top;\n",
       "    }\n",
       "\n",
       "    .dataframe thead th {\n",
       "        text-align: right;\n",
       "    }\n",
       "</style>\n",
       "<table border=\"1\" class=\"dataframe\">\n",
       "  <thead>\n",
       "    <tr style=\"text-align: right;\">\n",
       "      <th></th>\n",
       "      <th>stations_id</th>\n",
       "      <th>qn_8</th>\n",
       "      <th>r1</th>\n",
       "      <th>rs_ind</th>\n",
       "      <th>wrtr</th>\n",
       "      <th>eor</th>\n",
       "      <th>date_from</th>\n",
       "      <th>date_to</th>\n",
       "      <th>altitude</th>\n",
       "      <th>latitude</th>\n",
       "      <th>longitude</th>\n",
       "      <th>name</th>\n",
       "      <th>state</th>\n",
       "    </tr>\n",
       "    <tr>\n",
       "      <th>mess_datum</th>\n",
       "      <th></th>\n",
       "      <th></th>\n",
       "      <th></th>\n",
       "      <th></th>\n",
       "      <th></th>\n",
       "      <th></th>\n",
       "      <th></th>\n",
       "      <th></th>\n",
       "      <th></th>\n",
       "      <th></th>\n",
       "      <th></th>\n",
       "      <th></th>\n",
       "      <th></th>\n",
       "    </tr>\n",
       "  </thead>\n",
       "  <tbody>\n",
       "    <tr>\n",
       "      <th>2018-08-15 19:00:00</th>\n",
       "      <td>7330</td>\n",
       "      <td>3</td>\n",
       "      <td>0.0</td>\n",
       "      <td>0.0</td>\n",
       "      <td>NaN</td>\n",
       "      <td>eor</td>\n",
       "      <td>2005-10-01</td>\n",
       "      <td>2022-03-01</td>\n",
       "      <td>159</td>\n",
       "      <td>51.4633</td>\n",
       "      <td>7.978</td>\n",
       "      <td>Arnsberg-Neheim</td>\n",
       "      <td>Nordrhein-Westfalen</td>\n",
       "    </tr>\n",
       "    <tr>\n",
       "      <th>2018-08-15 20:00:00</th>\n",
       "      <td>7330</td>\n",
       "      <td>3</td>\n",
       "      <td>0.0</td>\n",
       "      <td>0.0</td>\n",
       "      <td>NaN</td>\n",
       "      <td>eor</td>\n",
       "      <td>2005-10-01</td>\n",
       "      <td>2022-03-01</td>\n",
       "      <td>159</td>\n",
       "      <td>51.4633</td>\n",
       "      <td>7.978</td>\n",
       "      <td>Arnsberg-Neheim</td>\n",
       "      <td>Nordrhein-Westfalen</td>\n",
       "    </tr>\n",
       "    <tr>\n",
       "      <th>2018-08-15 21:00:00</th>\n",
       "      <td>7330</td>\n",
       "      <td>3</td>\n",
       "      <td>0.0</td>\n",
       "      <td>0.0</td>\n",
       "      <td>NaN</td>\n",
       "      <td>eor</td>\n",
       "      <td>2005-10-01</td>\n",
       "      <td>2022-03-01</td>\n",
       "      <td>159</td>\n",
       "      <td>51.4633</td>\n",
       "      <td>7.978</td>\n",
       "      <td>Arnsberg-Neheim</td>\n",
       "      <td>Nordrhein-Westfalen</td>\n",
       "    </tr>\n",
       "    <tr>\n",
       "      <th>2018-08-15 22:00:00</th>\n",
       "      <td>7330</td>\n",
       "      <td>3</td>\n",
       "      <td>0.0</td>\n",
       "      <td>0.0</td>\n",
       "      <td>NaN</td>\n",
       "      <td>eor</td>\n",
       "      <td>2005-10-01</td>\n",
       "      <td>2022-03-01</td>\n",
       "      <td>159</td>\n",
       "      <td>51.4633</td>\n",
       "      <td>7.978</td>\n",
       "      <td>Arnsberg-Neheim</td>\n",
       "      <td>Nordrhein-Westfalen</td>\n",
       "    </tr>\n",
       "    <tr>\n",
       "      <th>2018-08-15 23:00:00</th>\n",
       "      <td>7330</td>\n",
       "      <td>3</td>\n",
       "      <td>0.0</td>\n",
       "      <td>0.0</td>\n",
       "      <td>NaN</td>\n",
       "      <td>eor</td>\n",
       "      <td>2005-10-01</td>\n",
       "      <td>2022-03-01</td>\n",
       "      <td>159</td>\n",
       "      <td>51.4633</td>\n",
       "      <td>7.978</td>\n",
       "      <td>Arnsberg-Neheim</td>\n",
       "      <td>Nordrhein-Westfalen</td>\n",
       "    </tr>\n",
       "  </tbody>\n",
       "</table>\n",
       "</div>"
      ],
      "text/plain": [
       "                     stations_id  qn_8   r1  rs_ind  wrtr  eor  date_from  \\\n",
       "mess_datum                                                                  \n",
       "2018-08-15 19:00:00         7330     3  0.0     0.0   NaN  eor 2005-10-01   \n",
       "2018-08-15 20:00:00         7330     3  0.0     0.0   NaN  eor 2005-10-01   \n",
       "2018-08-15 21:00:00         7330     3  0.0     0.0   NaN  eor 2005-10-01   \n",
       "2018-08-15 22:00:00         7330     3  0.0     0.0   NaN  eor 2005-10-01   \n",
       "2018-08-15 23:00:00         7330     3  0.0     0.0   NaN  eor 2005-10-01   \n",
       "\n",
       "                       date_to  altitude  latitude  longitude  \\\n",
       "mess_datum                                                      \n",
       "2018-08-15 19:00:00 2022-03-01       159   51.4633      7.978   \n",
       "2018-08-15 20:00:00 2022-03-01       159   51.4633      7.978   \n",
       "2018-08-15 21:00:00 2022-03-01       159   51.4633      7.978   \n",
       "2018-08-15 22:00:00 2022-03-01       159   51.4633      7.978   \n",
       "2018-08-15 23:00:00 2022-03-01       159   51.4633      7.978   \n",
       "\n",
       "                                name                state  \n",
       "mess_datum                                                 \n",
       "2018-08-15 19:00:00  Arnsberg-Neheim  Nordrhein-Westfalen  \n",
       "2018-08-15 20:00:00  Arnsberg-Neheim  Nordrhein-Westfalen  \n",
       "2018-08-15 21:00:00  Arnsberg-Neheim  Nordrhein-Westfalen  \n",
       "2018-08-15 22:00:00  Arnsberg-Neheim  Nordrhein-Westfalen  \n",
       "2018-08-15 23:00:00  Arnsberg-Neheim  Nordrhein-Westfalen  "
      ]
     },
     "execution_count": 22,
     "metadata": {},
     "output_type": "execute_result"
    }
   ],
   "source": [
    "df_appended_ts_countiesofinterest=df_appended_ts_roi[idx]\n",
    "df_appended_ts_countiesofinterest.tail()"
   ]
  },
  {
   "cell_type": "code",
   "execution_count": 23,
   "id": "08407b78-f56c-4bbd-baa6-28fcdcc4e2ed",
   "metadata": {},
   "outputs": [
    {
     "data": {
      "text/html": [
       "<div>\n",
       "<style scoped>\n",
       "    .dataframe tbody tr th:only-of-type {\n",
       "        vertical-align: middle;\n",
       "    }\n",
       "\n",
       "    .dataframe tbody tr th {\n",
       "        vertical-align: top;\n",
       "    }\n",
       "\n",
       "    .dataframe thead th {\n",
       "        text-align: right;\n",
       "    }\n",
       "</style>\n",
       "<table border=\"1\" class=\"dataframe\">\n",
       "  <thead>\n",
       "    <tr style=\"text-align: right;\">\n",
       "      <th></th>\n",
       "      <th>stations_id</th>\n",
       "      <th>qn_8</th>\n",
       "      <th>r1</th>\n",
       "      <th>rs_ind</th>\n",
       "      <th>wrtr</th>\n",
       "      <th>eor</th>\n",
       "      <th>date_from</th>\n",
       "      <th>date_to</th>\n",
       "      <th>altitude</th>\n",
       "      <th>latitude</th>\n",
       "      <th>longitude</th>\n",
       "      <th>name</th>\n",
       "      <th>state</th>\n",
       "    </tr>\n",
       "    <tr>\n",
       "      <th>mess_datum</th>\n",
       "      <th></th>\n",
       "      <th></th>\n",
       "      <th></th>\n",
       "      <th></th>\n",
       "      <th></th>\n",
       "      <th></th>\n",
       "      <th></th>\n",
       "      <th></th>\n",
       "      <th></th>\n",
       "      <th></th>\n",
       "      <th></th>\n",
       "      <th></th>\n",
       "      <th></th>\n",
       "    </tr>\n",
       "  </thead>\n",
       "  <tbody>\n",
       "    <tr>\n",
       "      <th>2018-04-16 00:00:00</th>\n",
       "      <td>216</td>\n",
       "      <td>3</td>\n",
       "      <td>0.0</td>\n",
       "      <td>0.0</td>\n",
       "      <td>NaN</td>\n",
       "      <td>eor</td>\n",
       "      <td>2004-10-01</td>\n",
       "      <td>2022-02-25</td>\n",
       "      <td>298</td>\n",
       "      <td>51.1143</td>\n",
       "      <td>7.8807</td>\n",
       "      <td>Attendorn-Neulisternohl</td>\n",
       "      <td>Nordrhein-Westfalen</td>\n",
       "    </tr>\n",
       "    <tr>\n",
       "      <th>2018-04-16 01:00:00</th>\n",
       "      <td>216</td>\n",
       "      <td>3</td>\n",
       "      <td>0.0</td>\n",
       "      <td>0.0</td>\n",
       "      <td>NaN</td>\n",
       "      <td>eor</td>\n",
       "      <td>2004-10-01</td>\n",
       "      <td>2022-02-25</td>\n",
       "      <td>298</td>\n",
       "      <td>51.1143</td>\n",
       "      <td>7.8807</td>\n",
       "      <td>Attendorn-Neulisternohl</td>\n",
       "      <td>Nordrhein-Westfalen</td>\n",
       "    </tr>\n",
       "    <tr>\n",
       "      <th>2018-04-16 02:00:00</th>\n",
       "      <td>216</td>\n",
       "      <td>3</td>\n",
       "      <td>0.0</td>\n",
       "      <td>0.0</td>\n",
       "      <td>NaN</td>\n",
       "      <td>eor</td>\n",
       "      <td>2004-10-01</td>\n",
       "      <td>2022-02-25</td>\n",
       "      <td>298</td>\n",
       "      <td>51.1143</td>\n",
       "      <td>7.8807</td>\n",
       "      <td>Attendorn-Neulisternohl</td>\n",
       "      <td>Nordrhein-Westfalen</td>\n",
       "    </tr>\n",
       "    <tr>\n",
       "      <th>2018-04-16 03:00:00</th>\n",
       "      <td>216</td>\n",
       "      <td>3</td>\n",
       "      <td>0.0</td>\n",
       "      <td>0.0</td>\n",
       "      <td>NaN</td>\n",
       "      <td>eor</td>\n",
       "      <td>2004-10-01</td>\n",
       "      <td>2022-02-25</td>\n",
       "      <td>298</td>\n",
       "      <td>51.1143</td>\n",
       "      <td>7.8807</td>\n",
       "      <td>Attendorn-Neulisternohl</td>\n",
       "      <td>Nordrhein-Westfalen</td>\n",
       "    </tr>\n",
       "    <tr>\n",
       "      <th>2018-04-16 04:00:00</th>\n",
       "      <td>216</td>\n",
       "      <td>3</td>\n",
       "      <td>0.0</td>\n",
       "      <td>0.0</td>\n",
       "      <td>NaN</td>\n",
       "      <td>eor</td>\n",
       "      <td>2004-10-01</td>\n",
       "      <td>2022-02-25</td>\n",
       "      <td>298</td>\n",
       "      <td>51.1143</td>\n",
       "      <td>7.8807</td>\n",
       "      <td>Attendorn-Neulisternohl</td>\n",
       "      <td>Nordrhein-Westfalen</td>\n",
       "    </tr>\n",
       "    <tr>\n",
       "      <th>...</th>\n",
       "      <td>...</td>\n",
       "      <td>...</td>\n",
       "      <td>...</td>\n",
       "      <td>...</td>\n",
       "      <td>...</td>\n",
       "      <td>...</td>\n",
       "      <td>...</td>\n",
       "      <td>...</td>\n",
       "      <td>...</td>\n",
       "      <td>...</td>\n",
       "      <td>...</td>\n",
       "      <td>...</td>\n",
       "      <td>...</td>\n",
       "    </tr>\n",
       "    <tr>\n",
       "      <th>2018-08-15 19:00:00</th>\n",
       "      <td>7330</td>\n",
       "      <td>3</td>\n",
       "      <td>0.0</td>\n",
       "      <td>0.0</td>\n",
       "      <td>NaN</td>\n",
       "      <td>eor</td>\n",
       "      <td>2005-10-01</td>\n",
       "      <td>2022-03-01</td>\n",
       "      <td>159</td>\n",
       "      <td>51.4633</td>\n",
       "      <td>7.9780</td>\n",
       "      <td>Arnsberg-Neheim</td>\n",
       "      <td>Nordrhein-Westfalen</td>\n",
       "    </tr>\n",
       "    <tr>\n",
       "      <th>2018-08-15 20:00:00</th>\n",
       "      <td>7330</td>\n",
       "      <td>3</td>\n",
       "      <td>0.0</td>\n",
       "      <td>0.0</td>\n",
       "      <td>NaN</td>\n",
       "      <td>eor</td>\n",
       "      <td>2005-10-01</td>\n",
       "      <td>2022-03-01</td>\n",
       "      <td>159</td>\n",
       "      <td>51.4633</td>\n",
       "      <td>7.9780</td>\n",
       "      <td>Arnsberg-Neheim</td>\n",
       "      <td>Nordrhein-Westfalen</td>\n",
       "    </tr>\n",
       "    <tr>\n",
       "      <th>2018-08-15 21:00:00</th>\n",
       "      <td>7330</td>\n",
       "      <td>3</td>\n",
       "      <td>0.0</td>\n",
       "      <td>0.0</td>\n",
       "      <td>NaN</td>\n",
       "      <td>eor</td>\n",
       "      <td>2005-10-01</td>\n",
       "      <td>2022-03-01</td>\n",
       "      <td>159</td>\n",
       "      <td>51.4633</td>\n",
       "      <td>7.9780</td>\n",
       "      <td>Arnsberg-Neheim</td>\n",
       "      <td>Nordrhein-Westfalen</td>\n",
       "    </tr>\n",
       "    <tr>\n",
       "      <th>2018-08-15 22:00:00</th>\n",
       "      <td>7330</td>\n",
       "      <td>3</td>\n",
       "      <td>0.0</td>\n",
       "      <td>0.0</td>\n",
       "      <td>NaN</td>\n",
       "      <td>eor</td>\n",
       "      <td>2005-10-01</td>\n",
       "      <td>2022-03-01</td>\n",
       "      <td>159</td>\n",
       "      <td>51.4633</td>\n",
       "      <td>7.9780</td>\n",
       "      <td>Arnsberg-Neheim</td>\n",
       "      <td>Nordrhein-Westfalen</td>\n",
       "    </tr>\n",
       "    <tr>\n",
       "      <th>2018-08-15 23:00:00</th>\n",
       "      <td>7330</td>\n",
       "      <td>3</td>\n",
       "      <td>0.0</td>\n",
       "      <td>0.0</td>\n",
       "      <td>NaN</td>\n",
       "      <td>eor</td>\n",
       "      <td>2005-10-01</td>\n",
       "      <td>2022-03-01</td>\n",
       "      <td>159</td>\n",
       "      <td>51.4633</td>\n",
       "      <td>7.9780</td>\n",
       "      <td>Arnsberg-Neheim</td>\n",
       "      <td>Nordrhein-Westfalen</td>\n",
       "    </tr>\n",
       "  </tbody>\n",
       "</table>\n",
       "<p>26187 rows × 13 columns</p>\n",
       "</div>"
      ],
      "text/plain": [
       "                     stations_id  qn_8   r1  rs_ind  wrtr  eor  date_from  \\\n",
       "mess_datum                                                                  \n",
       "2018-04-16 00:00:00          216     3  0.0     0.0   NaN  eor 2004-10-01   \n",
       "2018-04-16 01:00:00          216     3  0.0     0.0   NaN  eor 2004-10-01   \n",
       "2018-04-16 02:00:00          216     3  0.0     0.0   NaN  eor 2004-10-01   \n",
       "2018-04-16 03:00:00          216     3  0.0     0.0   NaN  eor 2004-10-01   \n",
       "2018-04-16 04:00:00          216     3  0.0     0.0   NaN  eor 2004-10-01   \n",
       "...                          ...   ...  ...     ...   ...  ...        ...   \n",
       "2018-08-15 19:00:00         7330     3  0.0     0.0   NaN  eor 2005-10-01   \n",
       "2018-08-15 20:00:00         7330     3  0.0     0.0   NaN  eor 2005-10-01   \n",
       "2018-08-15 21:00:00         7330     3  0.0     0.0   NaN  eor 2005-10-01   \n",
       "2018-08-15 22:00:00         7330     3  0.0     0.0   NaN  eor 2005-10-01   \n",
       "2018-08-15 23:00:00         7330     3  0.0     0.0   NaN  eor 2005-10-01   \n",
       "\n",
       "                       date_to  altitude  latitude  longitude  \\\n",
       "mess_datum                                                      \n",
       "2018-04-16 00:00:00 2022-02-25       298   51.1143     7.8807   \n",
       "2018-04-16 01:00:00 2022-02-25       298   51.1143     7.8807   \n",
       "2018-04-16 02:00:00 2022-02-25       298   51.1143     7.8807   \n",
       "2018-04-16 03:00:00 2022-02-25       298   51.1143     7.8807   \n",
       "2018-04-16 04:00:00 2022-02-25       298   51.1143     7.8807   \n",
       "...                        ...       ...       ...        ...   \n",
       "2018-08-15 19:00:00 2022-03-01       159   51.4633     7.9780   \n",
       "2018-08-15 20:00:00 2022-03-01       159   51.4633     7.9780   \n",
       "2018-08-15 21:00:00 2022-03-01       159   51.4633     7.9780   \n",
       "2018-08-15 22:00:00 2022-03-01       159   51.4633     7.9780   \n",
       "2018-08-15 23:00:00 2022-03-01       159   51.4633     7.9780   \n",
       "\n",
       "                                        name                state  \n",
       "mess_datum                                                         \n",
       "2018-04-16 00:00:00  Attendorn-Neulisternohl  Nordrhein-Westfalen  \n",
       "2018-04-16 01:00:00  Attendorn-Neulisternohl  Nordrhein-Westfalen  \n",
       "2018-04-16 02:00:00  Attendorn-Neulisternohl  Nordrhein-Westfalen  \n",
       "2018-04-16 03:00:00  Attendorn-Neulisternohl  Nordrhein-Westfalen  \n",
       "2018-04-16 04:00:00  Attendorn-Neulisternohl  Nordrhein-Westfalen  \n",
       "...                                      ...                  ...  \n",
       "2018-08-15 19:00:00          Arnsberg-Neheim  Nordrhein-Westfalen  \n",
       "2018-08-15 20:00:00          Arnsberg-Neheim  Nordrhein-Westfalen  \n",
       "2018-08-15 21:00:00          Arnsberg-Neheim  Nordrhein-Westfalen  \n",
       "2018-08-15 22:00:00          Arnsberg-Neheim  Nordrhein-Westfalen  \n",
       "2018-08-15 23:00:00          Arnsberg-Neheim  Nordrhein-Westfalen  \n",
       "\n",
       "[26187 rows x 13 columns]"
      ]
     },
     "execution_count": 23,
     "metadata": {},
     "output_type": "execute_result"
    }
   ],
   "source": [
    "df_appended_ts_countiesofinterest"
   ]
  },
  {
   "cell_type": "code",
   "execution_count": 24,
   "id": "e052c358-e886-4de9-a90a-d2794c35d8e6",
   "metadata": {},
   "outputs": [
    {
     "data": {
      "text/html": [
       "<div>\n",
       "<style scoped>\n",
       "    .dataframe tbody tr th:only-of-type {\n",
       "        vertical-align: middle;\n",
       "    }\n",
       "\n",
       "    .dataframe tbody tr th {\n",
       "        vertical-align: top;\n",
       "    }\n",
       "\n",
       "    .dataframe thead th {\n",
       "        text-align: right;\n",
       "    }\n",
       "</style>\n",
       "<table border=\"1\" class=\"dataframe\">\n",
       "  <thead>\n",
       "    <tr style=\"text-align: right;\">\n",
       "      <th></th>\n",
       "      <th>stations_id</th>\n",
       "      <th>qn_8</th>\n",
       "      <th>r1</th>\n",
       "      <th>rs_ind</th>\n",
       "      <th>wrtr</th>\n",
       "      <th>eor</th>\n",
       "      <th>date_from</th>\n",
       "      <th>date_to</th>\n",
       "      <th>altitude</th>\n",
       "      <th>latitude</th>\n",
       "      <th>longitude</th>\n",
       "      <th>name</th>\n",
       "      <th>state</th>\n",
       "    </tr>\n",
       "    <tr>\n",
       "      <th>mess_datum</th>\n",
       "      <th></th>\n",
       "      <th></th>\n",
       "      <th></th>\n",
       "      <th></th>\n",
       "      <th></th>\n",
       "      <th></th>\n",
       "      <th></th>\n",
       "      <th></th>\n",
       "      <th></th>\n",
       "      <th></th>\n",
       "      <th></th>\n",
       "      <th></th>\n",
       "      <th></th>\n",
       "    </tr>\n",
       "  </thead>\n",
       "  <tbody>\n",
       "    <tr>\n",
       "      <th>2018-04-16 00:00:00</th>\n",
       "      <td>216</td>\n",
       "      <td>3</td>\n",
       "      <td>0.0</td>\n",
       "      <td>0.0</td>\n",
       "      <td>NaN</td>\n",
       "      <td>eor</td>\n",
       "      <td>2004-10-01</td>\n",
       "      <td>2022-02-25</td>\n",
       "      <td>298</td>\n",
       "      <td>51.1143</td>\n",
       "      <td>7.8807</td>\n",
       "      <td>Attendorn-Neulisternohl</td>\n",
       "      <td>Nordrhein-Westfalen</td>\n",
       "    </tr>\n",
       "    <tr>\n",
       "      <th>2018-04-16 01:00:00</th>\n",
       "      <td>216</td>\n",
       "      <td>3</td>\n",
       "      <td>0.0</td>\n",
       "      <td>0.0</td>\n",
       "      <td>NaN</td>\n",
       "      <td>eor</td>\n",
       "      <td>2004-10-01</td>\n",
       "      <td>2022-02-25</td>\n",
       "      <td>298</td>\n",
       "      <td>51.1143</td>\n",
       "      <td>7.8807</td>\n",
       "      <td>Attendorn-Neulisternohl</td>\n",
       "      <td>Nordrhein-Westfalen</td>\n",
       "    </tr>\n",
       "    <tr>\n",
       "      <th>2018-04-16 02:00:00</th>\n",
       "      <td>216</td>\n",
       "      <td>3</td>\n",
       "      <td>0.0</td>\n",
       "      <td>0.0</td>\n",
       "      <td>NaN</td>\n",
       "      <td>eor</td>\n",
       "      <td>2004-10-01</td>\n",
       "      <td>2022-02-25</td>\n",
       "      <td>298</td>\n",
       "      <td>51.1143</td>\n",
       "      <td>7.8807</td>\n",
       "      <td>Attendorn-Neulisternohl</td>\n",
       "      <td>Nordrhein-Westfalen</td>\n",
       "    </tr>\n",
       "    <tr>\n",
       "      <th>2018-04-16 03:00:00</th>\n",
       "      <td>216</td>\n",
       "      <td>3</td>\n",
       "      <td>0.0</td>\n",
       "      <td>0.0</td>\n",
       "      <td>NaN</td>\n",
       "      <td>eor</td>\n",
       "      <td>2004-10-01</td>\n",
       "      <td>2022-02-25</td>\n",
       "      <td>298</td>\n",
       "      <td>51.1143</td>\n",
       "      <td>7.8807</td>\n",
       "      <td>Attendorn-Neulisternohl</td>\n",
       "      <td>Nordrhein-Westfalen</td>\n",
       "    </tr>\n",
       "    <tr>\n",
       "      <th>2018-04-16 04:00:00</th>\n",
       "      <td>216</td>\n",
       "      <td>3</td>\n",
       "      <td>0.0</td>\n",
       "      <td>0.0</td>\n",
       "      <td>NaN</td>\n",
       "      <td>eor</td>\n",
       "      <td>2004-10-01</td>\n",
       "      <td>2022-02-25</td>\n",
       "      <td>298</td>\n",
       "      <td>51.1143</td>\n",
       "      <td>7.8807</td>\n",
       "      <td>Attendorn-Neulisternohl</td>\n",
       "      <td>Nordrhein-Westfalen</td>\n",
       "    </tr>\n",
       "    <tr>\n",
       "      <th>...</th>\n",
       "      <td>...</td>\n",
       "      <td>...</td>\n",
       "      <td>...</td>\n",
       "      <td>...</td>\n",
       "      <td>...</td>\n",
       "      <td>...</td>\n",
       "      <td>...</td>\n",
       "      <td>...</td>\n",
       "      <td>...</td>\n",
       "      <td>...</td>\n",
       "      <td>...</td>\n",
       "      <td>...</td>\n",
       "      <td>...</td>\n",
       "    </tr>\n",
       "    <tr>\n",
       "      <th>2018-08-15 19:00:00</th>\n",
       "      <td>7330</td>\n",
       "      <td>3</td>\n",
       "      <td>0.0</td>\n",
       "      <td>0.0</td>\n",
       "      <td>NaN</td>\n",
       "      <td>eor</td>\n",
       "      <td>2005-10-01</td>\n",
       "      <td>2022-03-01</td>\n",
       "      <td>159</td>\n",
       "      <td>51.4633</td>\n",
       "      <td>7.9780</td>\n",
       "      <td>Arnsberg-Neheim</td>\n",
       "      <td>Nordrhein-Westfalen</td>\n",
       "    </tr>\n",
       "    <tr>\n",
       "      <th>2018-08-15 20:00:00</th>\n",
       "      <td>7330</td>\n",
       "      <td>3</td>\n",
       "      <td>0.0</td>\n",
       "      <td>0.0</td>\n",
       "      <td>NaN</td>\n",
       "      <td>eor</td>\n",
       "      <td>2005-10-01</td>\n",
       "      <td>2022-03-01</td>\n",
       "      <td>159</td>\n",
       "      <td>51.4633</td>\n",
       "      <td>7.9780</td>\n",
       "      <td>Arnsberg-Neheim</td>\n",
       "      <td>Nordrhein-Westfalen</td>\n",
       "    </tr>\n",
       "    <tr>\n",
       "      <th>2018-08-15 21:00:00</th>\n",
       "      <td>7330</td>\n",
       "      <td>3</td>\n",
       "      <td>0.0</td>\n",
       "      <td>0.0</td>\n",
       "      <td>NaN</td>\n",
       "      <td>eor</td>\n",
       "      <td>2005-10-01</td>\n",
       "      <td>2022-03-01</td>\n",
       "      <td>159</td>\n",
       "      <td>51.4633</td>\n",
       "      <td>7.9780</td>\n",
       "      <td>Arnsberg-Neheim</td>\n",
       "      <td>Nordrhein-Westfalen</td>\n",
       "    </tr>\n",
       "    <tr>\n",
       "      <th>2018-08-15 22:00:00</th>\n",
       "      <td>7330</td>\n",
       "      <td>3</td>\n",
       "      <td>0.0</td>\n",
       "      <td>0.0</td>\n",
       "      <td>NaN</td>\n",
       "      <td>eor</td>\n",
       "      <td>2005-10-01</td>\n",
       "      <td>2022-03-01</td>\n",
       "      <td>159</td>\n",
       "      <td>51.4633</td>\n",
       "      <td>7.9780</td>\n",
       "      <td>Arnsberg-Neheim</td>\n",
       "      <td>Nordrhein-Westfalen</td>\n",
       "    </tr>\n",
       "    <tr>\n",
       "      <th>2018-08-15 23:00:00</th>\n",
       "      <td>7330</td>\n",
       "      <td>3</td>\n",
       "      <td>0.0</td>\n",
       "      <td>0.0</td>\n",
       "      <td>NaN</td>\n",
       "      <td>eor</td>\n",
       "      <td>2005-10-01</td>\n",
       "      <td>2022-03-01</td>\n",
       "      <td>159</td>\n",
       "      <td>51.4633</td>\n",
       "      <td>7.9780</td>\n",
       "      <td>Arnsberg-Neheim</td>\n",
       "      <td>Nordrhein-Westfalen</td>\n",
       "    </tr>\n",
       "  </tbody>\n",
       "</table>\n",
       "<p>26187 rows × 13 columns</p>\n",
       "</div>"
      ],
      "text/plain": [
       "                     stations_id  qn_8   r1  rs_ind  wrtr  eor  date_from  \\\n",
       "mess_datum                                                                  \n",
       "2018-04-16 00:00:00          216     3  0.0     0.0   NaN  eor 2004-10-01   \n",
       "2018-04-16 01:00:00          216     3  0.0     0.0   NaN  eor 2004-10-01   \n",
       "2018-04-16 02:00:00          216     3  0.0     0.0   NaN  eor 2004-10-01   \n",
       "2018-04-16 03:00:00          216     3  0.0     0.0   NaN  eor 2004-10-01   \n",
       "2018-04-16 04:00:00          216     3  0.0     0.0   NaN  eor 2004-10-01   \n",
       "...                          ...   ...  ...     ...   ...  ...        ...   \n",
       "2018-08-15 19:00:00         7330     3  0.0     0.0   NaN  eor 2005-10-01   \n",
       "2018-08-15 20:00:00         7330     3  0.0     0.0   NaN  eor 2005-10-01   \n",
       "2018-08-15 21:00:00         7330     3  0.0     0.0   NaN  eor 2005-10-01   \n",
       "2018-08-15 22:00:00         7330     3  0.0     0.0   NaN  eor 2005-10-01   \n",
       "2018-08-15 23:00:00         7330     3  0.0     0.0   NaN  eor 2005-10-01   \n",
       "\n",
       "                       date_to  altitude  latitude  longitude  \\\n",
       "mess_datum                                                      \n",
       "2018-04-16 00:00:00 2022-02-25       298   51.1143     7.8807   \n",
       "2018-04-16 01:00:00 2022-02-25       298   51.1143     7.8807   \n",
       "2018-04-16 02:00:00 2022-02-25       298   51.1143     7.8807   \n",
       "2018-04-16 03:00:00 2022-02-25       298   51.1143     7.8807   \n",
       "2018-04-16 04:00:00 2022-02-25       298   51.1143     7.8807   \n",
       "...                        ...       ...       ...        ...   \n",
       "2018-08-15 19:00:00 2022-03-01       159   51.4633     7.9780   \n",
       "2018-08-15 20:00:00 2022-03-01       159   51.4633     7.9780   \n",
       "2018-08-15 21:00:00 2022-03-01       159   51.4633     7.9780   \n",
       "2018-08-15 22:00:00 2022-03-01       159   51.4633     7.9780   \n",
       "2018-08-15 23:00:00 2022-03-01       159   51.4633     7.9780   \n",
       "\n",
       "                                        name                state  \n",
       "mess_datum                                                         \n",
       "2018-04-16 00:00:00  Attendorn-Neulisternohl  Nordrhein-Westfalen  \n",
       "2018-04-16 01:00:00  Attendorn-Neulisternohl  Nordrhein-Westfalen  \n",
       "2018-04-16 02:00:00  Attendorn-Neulisternohl  Nordrhein-Westfalen  \n",
       "2018-04-16 03:00:00  Attendorn-Neulisternohl  Nordrhein-Westfalen  \n",
       "2018-04-16 04:00:00  Attendorn-Neulisternohl  Nordrhein-Westfalen  \n",
       "...                                      ...                  ...  \n",
       "2018-08-15 19:00:00          Arnsberg-Neheim  Nordrhein-Westfalen  \n",
       "2018-08-15 20:00:00          Arnsberg-Neheim  Nordrhein-Westfalen  \n",
       "2018-08-15 21:00:00          Arnsberg-Neheim  Nordrhein-Westfalen  \n",
       "2018-08-15 22:00:00          Arnsberg-Neheim  Nordrhein-Westfalen  \n",
       "2018-08-15 23:00:00          Arnsberg-Neheim  Nordrhein-Westfalen  \n",
       "\n",
       "[26187 rows x 13 columns]"
      ]
     },
     "execution_count": 24,
     "metadata": {},
     "output_type": "execute_result"
    }
   ],
   "source": [
    "df_appended_ts_countiesofinterest"
   ]
  },
  {
   "cell_type": "code",
   "execution_count": 25,
   "id": "4d3ffaf1-6778-4b95-a769-2badd3a1224f",
   "metadata": {},
   "outputs": [
    {
     "data": {
      "text/html": [
       "<div>\n",
       "<style scoped>\n",
       "    .dataframe tbody tr th:only-of-type {\n",
       "        vertical-align: middle;\n",
       "    }\n",
       "\n",
       "    .dataframe tbody tr th {\n",
       "        vertical-align: top;\n",
       "    }\n",
       "\n",
       "    .dataframe thead th {\n",
       "        text-align: right;\n",
       "    }\n",
       "</style>\n",
       "<table border=\"1\" class=\"dataframe\">\n",
       "  <thead>\n",
       "    <tr style=\"text-align: right;\">\n",
       "      <th>stations_id</th>\n",
       "      <th>216</th>\n",
       "      <th>1300</th>\n",
       "      <th>2483</th>\n",
       "      <th>2947</th>\n",
       "      <th>3215</th>\n",
       "      <th>4488</th>\n",
       "      <th>5468</th>\n",
       "      <th>6264</th>\n",
       "      <th>7330</th>\n",
       "    </tr>\n",
       "    <tr>\n",
       "      <th>mess_datum</th>\n",
       "      <th></th>\n",
       "      <th></th>\n",
       "      <th></th>\n",
       "      <th></th>\n",
       "      <th></th>\n",
       "      <th></th>\n",
       "      <th></th>\n",
       "      <th></th>\n",
       "      <th></th>\n",
       "    </tr>\n",
       "  </thead>\n",
       "  <tbody>\n",
       "    <tr>\n",
       "      <th>2018-04-16 00:00:00</th>\n",
       "      <td>0.0</td>\n",
       "      <td>0.0</td>\n",
       "      <td>0.0</td>\n",
       "      <td>0.0</td>\n",
       "      <td>0.0</td>\n",
       "      <td>0.0</td>\n",
       "      <td>0.0</td>\n",
       "      <td>0.0</td>\n",
       "      <td>0.0</td>\n",
       "    </tr>\n",
       "    <tr>\n",
       "      <th>2018-04-16 01:00:00</th>\n",
       "      <td>0.0</td>\n",
       "      <td>0.0</td>\n",
       "      <td>0.0</td>\n",
       "      <td>0.0</td>\n",
       "      <td>0.0</td>\n",
       "      <td>0.0</td>\n",
       "      <td>0.0</td>\n",
       "      <td>0.0</td>\n",
       "      <td>0.0</td>\n",
       "    </tr>\n",
       "    <tr>\n",
       "      <th>2018-04-16 02:00:00</th>\n",
       "      <td>0.0</td>\n",
       "      <td>0.0</td>\n",
       "      <td>0.0</td>\n",
       "      <td>0.0</td>\n",
       "      <td>0.0</td>\n",
       "      <td>0.0</td>\n",
       "      <td>0.0</td>\n",
       "      <td>0.0</td>\n",
       "      <td>0.0</td>\n",
       "    </tr>\n",
       "    <tr>\n",
       "      <th>2018-04-16 03:00:00</th>\n",
       "      <td>0.0</td>\n",
       "      <td>0.0</td>\n",
       "      <td>0.0</td>\n",
       "      <td>0.0</td>\n",
       "      <td>0.0</td>\n",
       "      <td>0.0</td>\n",
       "      <td>0.0</td>\n",
       "      <td>0.0</td>\n",
       "      <td>0.0</td>\n",
       "    </tr>\n",
       "    <tr>\n",
       "      <th>2018-04-16 04:00:00</th>\n",
       "      <td>0.0</td>\n",
       "      <td>0.0</td>\n",
       "      <td>0.0</td>\n",
       "      <td>0.0</td>\n",
       "      <td>0.0</td>\n",
       "      <td>0.0</td>\n",
       "      <td>0.0</td>\n",
       "      <td>0.0</td>\n",
       "      <td>0.0</td>\n",
       "    </tr>\n",
       "    <tr>\n",
       "      <th>...</th>\n",
       "      <td>...</td>\n",
       "      <td>...</td>\n",
       "      <td>...</td>\n",
       "      <td>...</td>\n",
       "      <td>...</td>\n",
       "      <td>...</td>\n",
       "      <td>...</td>\n",
       "      <td>...</td>\n",
       "      <td>...</td>\n",
       "    </tr>\n",
       "    <tr>\n",
       "      <th>2018-08-15 19:00:00</th>\n",
       "      <td>0.0</td>\n",
       "      <td>0.0</td>\n",
       "      <td>0.0</td>\n",
       "      <td>0.0</td>\n",
       "      <td>0.0</td>\n",
       "      <td>0.0</td>\n",
       "      <td>0.0</td>\n",
       "      <td>0.0</td>\n",
       "      <td>0.0</td>\n",
       "    </tr>\n",
       "    <tr>\n",
       "      <th>2018-08-15 20:00:00</th>\n",
       "      <td>0.0</td>\n",
       "      <td>0.0</td>\n",
       "      <td>0.0</td>\n",
       "      <td>0.0</td>\n",
       "      <td>0.0</td>\n",
       "      <td>0.0</td>\n",
       "      <td>0.0</td>\n",
       "      <td>0.0</td>\n",
       "      <td>0.0</td>\n",
       "    </tr>\n",
       "    <tr>\n",
       "      <th>2018-08-15 21:00:00</th>\n",
       "      <td>0.0</td>\n",
       "      <td>0.0</td>\n",
       "      <td>0.0</td>\n",
       "      <td>0.0</td>\n",
       "      <td>0.0</td>\n",
       "      <td>0.0</td>\n",
       "      <td>0.0</td>\n",
       "      <td>0.0</td>\n",
       "      <td>0.0</td>\n",
       "    </tr>\n",
       "    <tr>\n",
       "      <th>2018-08-15 22:00:00</th>\n",
       "      <td>0.0</td>\n",
       "      <td>0.0</td>\n",
       "      <td>0.0</td>\n",
       "      <td>0.0</td>\n",
       "      <td>0.0</td>\n",
       "      <td>0.0</td>\n",
       "      <td>0.0</td>\n",
       "      <td>0.0</td>\n",
       "      <td>0.0</td>\n",
       "    </tr>\n",
       "    <tr>\n",
       "      <th>2018-08-15 23:00:00</th>\n",
       "      <td>0.0</td>\n",
       "      <td>0.0</td>\n",
       "      <td>0.0</td>\n",
       "      <td>0.0</td>\n",
       "      <td>0.0</td>\n",
       "      <td>0.0</td>\n",
       "      <td>0.0</td>\n",
       "      <td>0.0</td>\n",
       "      <td>0.0</td>\n",
       "    </tr>\n",
       "  </tbody>\n",
       "</table>\n",
       "<p>2928 rows × 9 columns</p>\n",
       "</div>"
      ],
      "text/plain": [
       "stations_id          216   1300  2483  2947  3215  4488  5468  6264  7330\n",
       "mess_datum                                                               \n",
       "2018-04-16 00:00:00   0.0   0.0   0.0   0.0   0.0   0.0   0.0   0.0   0.0\n",
       "2018-04-16 01:00:00   0.0   0.0   0.0   0.0   0.0   0.0   0.0   0.0   0.0\n",
       "2018-04-16 02:00:00   0.0   0.0   0.0   0.0   0.0   0.0   0.0   0.0   0.0\n",
       "2018-04-16 03:00:00   0.0   0.0   0.0   0.0   0.0   0.0   0.0   0.0   0.0\n",
       "2018-04-16 04:00:00   0.0   0.0   0.0   0.0   0.0   0.0   0.0   0.0   0.0\n",
       "...                   ...   ...   ...   ...   ...   ...   ...   ...   ...\n",
       "2018-08-15 19:00:00   0.0   0.0   0.0   0.0   0.0   0.0   0.0   0.0   0.0\n",
       "2018-08-15 20:00:00   0.0   0.0   0.0   0.0   0.0   0.0   0.0   0.0   0.0\n",
       "2018-08-15 21:00:00   0.0   0.0   0.0   0.0   0.0   0.0   0.0   0.0   0.0\n",
       "2018-08-15 22:00:00   0.0   0.0   0.0   0.0   0.0   0.0   0.0   0.0   0.0\n",
       "2018-08-15 23:00:00   0.0   0.0   0.0   0.0   0.0   0.0   0.0   0.0   0.0\n",
       "\n",
       "[2928 rows x 9 columns]"
      ]
     },
     "execution_count": 25,
     "metadata": {},
     "output_type": "execute_result"
    }
   ],
   "source": [
    "#date vs station id data\n",
    "df_appended_ts_countiesofinterest=df_appended_ts_countiesofinterest.pivot_table(index=\"mess_datum\",columns='stations_id',   values='r1')\n",
    "df_appended_ts_countiesofinterest"
   ]
  },
  {
   "cell_type": "code",
   "execution_count": 36,
   "id": "11fee2c3-4fe3-41a9-83ce-1858f4ee039d",
   "metadata": {},
   "outputs": [
    {
     "data": {
      "text/html": [
       "<div>\n",
       "<style scoped>\n",
       "    .dataframe tbody tr th:only-of-type {\n",
       "        vertical-align: middle;\n",
       "    }\n",
       "\n",
       "    .dataframe tbody tr th {\n",
       "        vertical-align: top;\n",
       "    }\n",
       "\n",
       "    .dataframe thead th {\n",
       "        text-align: right;\n",
       "    }\n",
       "</style>\n",
       "<table border=\"1\" class=\"dataframe\">\n",
       "  <thead>\n",
       "    <tr style=\"text-align: right;\">\n",
       "      <th>stations_id</th>\n",
       "      <th>ts</th>\n",
       "      <th>216</th>\n",
       "      <th>1300</th>\n",
       "      <th>2483</th>\n",
       "      <th>2947</th>\n",
       "      <th>3215</th>\n",
       "      <th>4488</th>\n",
       "      <th>5468</th>\n",
       "      <th>6264</th>\n",
       "      <th>7330</th>\n",
       "    </tr>\n",
       "  </thead>\n",
       "  <tbody>\n",
       "    <tr>\n",
       "      <th>0</th>\n",
       "      <td>2018-04-16 00:00:00</td>\n",
       "      <td>0.0</td>\n",
       "      <td>0.0</td>\n",
       "      <td>0.0</td>\n",
       "      <td>0.0</td>\n",
       "      <td>0.0</td>\n",
       "      <td>0.0</td>\n",
       "      <td>0.0</td>\n",
       "      <td>0.0</td>\n",
       "      <td>0.0</td>\n",
       "    </tr>\n",
       "    <tr>\n",
       "      <th>1</th>\n",
       "      <td>2018-04-16 01:00:00</td>\n",
       "      <td>0.0</td>\n",
       "      <td>0.0</td>\n",
       "      <td>0.0</td>\n",
       "      <td>0.0</td>\n",
       "      <td>0.0</td>\n",
       "      <td>0.0</td>\n",
       "      <td>0.0</td>\n",
       "      <td>0.0</td>\n",
       "      <td>0.0</td>\n",
       "    </tr>\n",
       "    <tr>\n",
       "      <th>2</th>\n",
       "      <td>2018-04-16 02:00:00</td>\n",
       "      <td>0.0</td>\n",
       "      <td>0.0</td>\n",
       "      <td>0.0</td>\n",
       "      <td>0.0</td>\n",
       "      <td>0.0</td>\n",
       "      <td>0.0</td>\n",
       "      <td>0.0</td>\n",
       "      <td>0.0</td>\n",
       "      <td>0.0</td>\n",
       "    </tr>\n",
       "    <tr>\n",
       "      <th>3</th>\n",
       "      <td>2018-04-16 03:00:00</td>\n",
       "      <td>0.0</td>\n",
       "      <td>0.0</td>\n",
       "      <td>0.0</td>\n",
       "      <td>0.0</td>\n",
       "      <td>0.0</td>\n",
       "      <td>0.0</td>\n",
       "      <td>0.0</td>\n",
       "      <td>0.0</td>\n",
       "      <td>0.0</td>\n",
       "    </tr>\n",
       "    <tr>\n",
       "      <th>4</th>\n",
       "      <td>2018-04-16 04:00:00</td>\n",
       "      <td>0.0</td>\n",
       "      <td>0.0</td>\n",
       "      <td>0.0</td>\n",
       "      <td>0.0</td>\n",
       "      <td>0.0</td>\n",
       "      <td>0.0</td>\n",
       "      <td>0.0</td>\n",
       "      <td>0.0</td>\n",
       "      <td>0.0</td>\n",
       "    </tr>\n",
       "    <tr>\n",
       "      <th>...</th>\n",
       "      <td>...</td>\n",
       "      <td>...</td>\n",
       "      <td>...</td>\n",
       "      <td>...</td>\n",
       "      <td>...</td>\n",
       "      <td>...</td>\n",
       "      <td>...</td>\n",
       "      <td>...</td>\n",
       "      <td>...</td>\n",
       "      <td>...</td>\n",
       "    </tr>\n",
       "    <tr>\n",
       "      <th>2923</th>\n",
       "      <td>2018-08-15 19:00:00</td>\n",
       "      <td>0.0</td>\n",
       "      <td>0.0</td>\n",
       "      <td>0.0</td>\n",
       "      <td>0.0</td>\n",
       "      <td>0.0</td>\n",
       "      <td>0.0</td>\n",
       "      <td>0.0</td>\n",
       "      <td>0.0</td>\n",
       "      <td>0.0</td>\n",
       "    </tr>\n",
       "    <tr>\n",
       "      <th>2924</th>\n",
       "      <td>2018-08-15 20:00:00</td>\n",
       "      <td>0.0</td>\n",
       "      <td>0.0</td>\n",
       "      <td>0.0</td>\n",
       "      <td>0.0</td>\n",
       "      <td>0.0</td>\n",
       "      <td>0.0</td>\n",
       "      <td>0.0</td>\n",
       "      <td>0.0</td>\n",
       "      <td>0.0</td>\n",
       "    </tr>\n",
       "    <tr>\n",
       "      <th>2925</th>\n",
       "      <td>2018-08-15 21:00:00</td>\n",
       "      <td>0.0</td>\n",
       "      <td>0.0</td>\n",
       "      <td>0.0</td>\n",
       "      <td>0.0</td>\n",
       "      <td>0.0</td>\n",
       "      <td>0.0</td>\n",
       "      <td>0.0</td>\n",
       "      <td>0.0</td>\n",
       "      <td>0.0</td>\n",
       "    </tr>\n",
       "    <tr>\n",
       "      <th>2926</th>\n",
       "      <td>2018-08-15 22:00:00</td>\n",
       "      <td>0.0</td>\n",
       "      <td>0.0</td>\n",
       "      <td>0.0</td>\n",
       "      <td>0.0</td>\n",
       "      <td>0.0</td>\n",
       "      <td>0.0</td>\n",
       "      <td>0.0</td>\n",
       "      <td>0.0</td>\n",
       "      <td>0.0</td>\n",
       "    </tr>\n",
       "    <tr>\n",
       "      <th>2927</th>\n",
       "      <td>2018-08-15 23:00:00</td>\n",
       "      <td>0.0</td>\n",
       "      <td>0.0</td>\n",
       "      <td>0.0</td>\n",
       "      <td>0.0</td>\n",
       "      <td>0.0</td>\n",
       "      <td>0.0</td>\n",
       "      <td>0.0</td>\n",
       "      <td>0.0</td>\n",
       "      <td>0.0</td>\n",
       "    </tr>\n",
       "  </tbody>\n",
       "</table>\n",
       "<p>2928 rows × 10 columns</p>\n",
       "</div>"
      ],
      "text/plain": [
       "stations_id                  ts  216  1300  2483  2947  3215  4488  5468  \\\n",
       "0           2018-04-16 00:00:00  0.0   0.0   0.0   0.0   0.0   0.0   0.0   \n",
       "1           2018-04-16 01:00:00  0.0   0.0   0.0   0.0   0.0   0.0   0.0   \n",
       "2           2018-04-16 02:00:00  0.0   0.0   0.0   0.0   0.0   0.0   0.0   \n",
       "3           2018-04-16 03:00:00  0.0   0.0   0.0   0.0   0.0   0.0   0.0   \n",
       "4           2018-04-16 04:00:00  0.0   0.0   0.0   0.0   0.0   0.0   0.0   \n",
       "...                         ...  ...   ...   ...   ...   ...   ...   ...   \n",
       "2923        2018-08-15 19:00:00  0.0   0.0   0.0   0.0   0.0   0.0   0.0   \n",
       "2924        2018-08-15 20:00:00  0.0   0.0   0.0   0.0   0.0   0.0   0.0   \n",
       "2925        2018-08-15 21:00:00  0.0   0.0   0.0   0.0   0.0   0.0   0.0   \n",
       "2926        2018-08-15 22:00:00  0.0   0.0   0.0   0.0   0.0   0.0   0.0   \n",
       "2927        2018-08-15 23:00:00  0.0   0.0   0.0   0.0   0.0   0.0   0.0   \n",
       "\n",
       "stations_id  6264  7330  \n",
       "0             0.0   0.0  \n",
       "1             0.0   0.0  \n",
       "2             0.0   0.0  \n",
       "3             0.0   0.0  \n",
       "4             0.0   0.0  \n",
       "...           ...   ...  \n",
       "2923          0.0   0.0  \n",
       "2924          0.0   0.0  \n",
       "2925          0.0   0.0  \n",
       "2926          0.0   0.0  \n",
       "2927          0.0   0.0  \n",
       "\n",
       "[2928 rows x 10 columns]"
      ]
     },
     "execution_count": 36,
     "metadata": {},
     "output_type": "execute_result"
    }
   ],
   "source": [
    "\n",
    "#df_appended_ts_countiesofinterest.reset_index(level=0, inplace=True)\n",
    "#df_appended_ts_countiesofinterest.rename(columns={'mess_datum': 'ts'}, inplace=True)\n",
    "#df_appended_ts_countiesofinterest.to_csv(r'data_file.csv', index = False)\n",
    "df_appended_ts_countiesofinterest"
   ]
  },
  {
   "cell_type": "code",
   "execution_count": 35,
   "id": "075eccce-9253-4e2d-8006-a871193ac3a1",
   "metadata": {},
   "outputs": [],
   "source": [
    "#obtain the daily precipitation sum value from the hourly values.\n",
    "#df_appended_ts_countiesofinterest_sum=df_appended_ts_countiesofinterest.groupby(df_appended_ts_countiesofinterest.index.strftime(\"%y/%m/%d\")).sum()\n",
    "#df_appended_ts_countiesofinterest_sum.reset_index(level=0, inplace=True)\n",
    "#df_appended_ts_countiesofinterest.rename(columns={'mess_datum': 'ts'}, inplace=True)\n",
    "#df_appended_ts_countiesofinterest.reset_index(level=0, inplace=True)\n",
    "#df_appended_ts_countiesofinterest_sum.rename(columns={'mess_datum': 'ts'}, inplace=True)\n",
    "#df_appended_ts_countiesofinterest_sum.to_csv(r'sum_data_file.csv', index = False)\n",
    "#df_appended_ts_countiesofinterest_sum"
   ]
  }
 ],
 "metadata": {
  "kernelspec": {
   "display_name": "Python 3 (ipykernel)",
   "language": "python",
   "name": "python3"
  },
  "language_info": {
   "codemirror_mode": {
    "name": "ipython",
    "version": 3
   },
   "file_extension": ".py",
   "mimetype": "text/x-python",
   "name": "python",
   "nbconvert_exporter": "python",
   "pygments_lexer": "ipython3",
   "version": "3.10.2"
  }
 },
 "nbformat": 4,
 "nbformat_minor": 5
}
